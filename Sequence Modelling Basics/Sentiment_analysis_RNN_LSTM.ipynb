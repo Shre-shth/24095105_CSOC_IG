{
  "cells": [
    {
      "cell_type": "code",
      "execution_count": null,
      "metadata": {
        "colab": {
          "base_uri": "https://localhost:8080/",
          "height": 90
        },
        "id": "sITa3ZrHPe6R",
        "outputId": "dfb88522-c29e-4344-8855-a43bbe8ab7c5"
      },
      "outputs": [
        {
          "data": {
            "text/html": [
              "\n",
              "     <input type=\"file\" id=\"files-420325ee-c61d-415a-a564-a1ee9201beb2\" name=\"files[]\" multiple disabled\n",
              "        style=\"border:none\" />\n",
              "     <output id=\"result-420325ee-c61d-415a-a564-a1ee9201beb2\">\n",
              "      Upload widget is only available when the cell has been executed in the\n",
              "      current browser session. Please rerun this cell to enable.\n",
              "      </output>\n",
              "      <script>// Copyright 2017 Google LLC\n",
              "//\n",
              "// Licensed under the Apache License, Version 2.0 (the \"License\");\n",
              "// you may not use this file except in compliance with the License.\n",
              "// You may obtain a copy of the License at\n",
              "//\n",
              "//      http://www.apache.org/licenses/LICENSE-2.0\n",
              "//\n",
              "// Unless required by applicable law or agreed to in writing, software\n",
              "// distributed under the License is distributed on an \"AS IS\" BASIS,\n",
              "// WITHOUT WARRANTIES OR CONDITIONS OF ANY KIND, either express or implied.\n",
              "// See the License for the specific language governing permissions and\n",
              "// limitations under the License.\n",
              "\n",
              "/**\n",
              " * @fileoverview Helpers for google.colab Python module.\n",
              " */\n",
              "(function(scope) {\n",
              "function span(text, styleAttributes = {}) {\n",
              "  const element = document.createElement('span');\n",
              "  element.textContent = text;\n",
              "  for (const key of Object.keys(styleAttributes)) {\n",
              "    element.style[key] = styleAttributes[key];\n",
              "  }\n",
              "  return element;\n",
              "}\n",
              "\n",
              "// Max number of bytes which will be uploaded at a time.\n",
              "const MAX_PAYLOAD_SIZE = 100 * 1024;\n",
              "\n",
              "function _uploadFiles(inputId, outputId) {\n",
              "  const steps = uploadFilesStep(inputId, outputId);\n",
              "  const outputElement = document.getElementById(outputId);\n",
              "  // Cache steps on the outputElement to make it available for the next call\n",
              "  // to uploadFilesContinue from Python.\n",
              "  outputElement.steps = steps;\n",
              "\n",
              "  return _uploadFilesContinue(outputId);\n",
              "}\n",
              "\n",
              "// This is roughly an async generator (not supported in the browser yet),\n",
              "// where there are multiple asynchronous steps and the Python side is going\n",
              "// to poll for completion of each step.\n",
              "// This uses a Promise to block the python side on completion of each step,\n",
              "// then passes the result of the previous step as the input to the next step.\n",
              "function _uploadFilesContinue(outputId) {\n",
              "  const outputElement = document.getElementById(outputId);\n",
              "  const steps = outputElement.steps;\n",
              "\n",
              "  const next = steps.next(outputElement.lastPromiseValue);\n",
              "  return Promise.resolve(next.value.promise).then((value) => {\n",
              "    // Cache the last promise value to make it available to the next\n",
              "    // step of the generator.\n",
              "    outputElement.lastPromiseValue = value;\n",
              "    return next.value.response;\n",
              "  });\n",
              "}\n",
              "\n",
              "/**\n",
              " * Generator function which is called between each async step of the upload\n",
              " * process.\n",
              " * @param {string} inputId Element ID of the input file picker element.\n",
              " * @param {string} outputId Element ID of the output display.\n",
              " * @return {!Iterable<!Object>} Iterable of next steps.\n",
              " */\n",
              "function* uploadFilesStep(inputId, outputId) {\n",
              "  const inputElement = document.getElementById(inputId);\n",
              "  inputElement.disabled = false;\n",
              "\n",
              "  const outputElement = document.getElementById(outputId);\n",
              "  outputElement.innerHTML = '';\n",
              "\n",
              "  const pickedPromise = new Promise((resolve) => {\n",
              "    inputElement.addEventListener('change', (e) => {\n",
              "      resolve(e.target.files);\n",
              "    });\n",
              "  });\n",
              "\n",
              "  const cancel = document.createElement('button');\n",
              "  inputElement.parentElement.appendChild(cancel);\n",
              "  cancel.textContent = 'Cancel upload';\n",
              "  const cancelPromise = new Promise((resolve) => {\n",
              "    cancel.onclick = () => {\n",
              "      resolve(null);\n",
              "    };\n",
              "  });\n",
              "\n",
              "  // Wait for the user to pick the files.\n",
              "  const files = yield {\n",
              "    promise: Promise.race([pickedPromise, cancelPromise]),\n",
              "    response: {\n",
              "      action: 'starting',\n",
              "    }\n",
              "  };\n",
              "\n",
              "  cancel.remove();\n",
              "\n",
              "  // Disable the input element since further picks are not allowed.\n",
              "  inputElement.disabled = true;\n",
              "\n",
              "  if (!files) {\n",
              "    return {\n",
              "      response: {\n",
              "        action: 'complete',\n",
              "      }\n",
              "    };\n",
              "  }\n",
              "\n",
              "  for (const file of files) {\n",
              "    const li = document.createElement('li');\n",
              "    li.append(span(file.name, {fontWeight: 'bold'}));\n",
              "    li.append(span(\n",
              "        `(${file.type || 'n/a'}) - ${file.size} bytes, ` +\n",
              "        `last modified: ${\n",
              "            file.lastModifiedDate ? file.lastModifiedDate.toLocaleDateString() :\n",
              "                                    'n/a'} - `));\n",
              "    const percent = span('0% done');\n",
              "    li.appendChild(percent);\n",
              "\n",
              "    outputElement.appendChild(li);\n",
              "\n",
              "    const fileDataPromise = new Promise((resolve) => {\n",
              "      const reader = new FileReader();\n",
              "      reader.onload = (e) => {\n",
              "        resolve(e.target.result);\n",
              "      };\n",
              "      reader.readAsArrayBuffer(file);\n",
              "    });\n",
              "    // Wait for the data to be ready.\n",
              "    let fileData = yield {\n",
              "      promise: fileDataPromise,\n",
              "      response: {\n",
              "        action: 'continue',\n",
              "      }\n",
              "    };\n",
              "\n",
              "    // Use a chunked sending to avoid message size limits. See b/62115660.\n",
              "    let position = 0;\n",
              "    do {\n",
              "      const length = Math.min(fileData.byteLength - position, MAX_PAYLOAD_SIZE);\n",
              "      const chunk = new Uint8Array(fileData, position, length);\n",
              "      position += length;\n",
              "\n",
              "      const base64 = btoa(String.fromCharCode.apply(null, chunk));\n",
              "      yield {\n",
              "        response: {\n",
              "          action: 'append',\n",
              "          file: file.name,\n",
              "          data: base64,\n",
              "        },\n",
              "      };\n",
              "\n",
              "      let percentDone = fileData.byteLength === 0 ?\n",
              "          100 :\n",
              "          Math.round((position / fileData.byteLength) * 100);\n",
              "      percent.textContent = `${percentDone}% done`;\n",
              "\n",
              "    } while (position < fileData.byteLength);\n",
              "  }\n",
              "\n",
              "  // All done.\n",
              "  yield {\n",
              "    response: {\n",
              "      action: 'complete',\n",
              "    }\n",
              "  };\n",
              "}\n",
              "\n",
              "scope.google = scope.google || {};\n",
              "scope.google.colab = scope.google.colab || {};\n",
              "scope.google.colab._files = {\n",
              "  _uploadFiles,\n",
              "  _uploadFilesContinue,\n",
              "};\n",
              "})(self);\n",
              "</script> "
            ],
            "text/plain": [
              "<IPython.core.display.HTML object>"
            ]
          },
          "metadata": {},
          "output_type": "display_data"
        },
        {
          "name": "stdout",
          "output_type": "stream",
          "text": [
            "Saving kaggle.json to kaggle (1).json\n"
          ]
        },
        {
          "data": {
            "text/plain": [
              "{'kaggle (1).json': b'{\"username\":\"shreshthvishwakarma\",\"key\":\"42f15efad923aad6c01628a948a9aedf\"}'}"
            ]
          },
          "execution_count": 2,
          "metadata": {},
          "output_type": "execute_result"
        }
      ],
      "source": [
        "from google.colab import files    #for kaggle api\n",
        "files.upload()"
      ]
    },
    {
      "cell_type": "code",
      "execution_count": null,
      "metadata": {
        "id": "TGFdJBZ6UbGc"
      },
      "outputs": [],
      "source": [
        "!mkdir -p ~/.kaggle\n",
        "!cp kaggle.json ~/.kaggle/\n",
        "!chmod 600 ~/.kaggle/kaggle.json\n"
      ]
    },
    {
      "cell_type": "code",
      "execution_count": null,
      "metadata": {
        "colab": {
          "base_uri": "https://localhost:8080/"
        },
        "id": "TxE461bAUd60",
        "outputId": "42b77f60-261f-4e9b-9d8a-66c2571e4589"
      },
      "outputs": [
        {
          "name": "stdout",
          "output_type": "stream",
          "text": [
            "Dataset URL: https://www.kaggle.com/datasets/kritanjalijain/amazon-reviews\n",
            "License(s): CC0-1.0\n",
            "Downloading amazon-reviews.zip to /content\n",
            " 99% 1.28G/1.29G [00:08<00:00, 238MB/s]\n",
            "100% 1.29G/1.29G [00:08<00:00, 165MB/s]\n",
            "Archive:  amazon-reviews.zip\n",
            "  inflating: amazon_review_polarity_csv.tgz  \n",
            "  inflating: test.csv                \n",
            "  inflating: train.csv               \n"
          ]
        }
      ],
      "source": [
        "!kaggle datasets download -d kritanjalijain/amazon-reviews\n",
        "!unzip amazon-reviews.zip"
      ]
    },
    {
      "cell_type": "code",
      "execution_count": 19,
      "metadata": {
        "id": "BQsrD-lnUhqL"
      },
      "outputs": [],
      "source": [
        "import torch\n",
        "import torch.nn as nn\n",
        "import pandas as pd\n",
        "import numpy as np\n",
        "import re\n",
        "from collections import Counter\n",
        "from torch.utils.data import DataLoader, TensorDataset, IterableDataset\n",
        "from sklearn.metrics import accuracy_score, f1_score, confusion_matrix\n",
        "import seaborn as sns\n",
        "import matplotlib.pyplot as plt"
      ]
    },
    {
      "cell_type": "code",
      "execution_count": null,
      "metadata": {
        "id": "DtwnWo95UfjD"
      },
      "outputs": [],
      "source": [
        "df_train = pd.read_csv(\"train.csv\")"
      ]
    },
    {
      "cell_type": "code",
      "execution_count": null,
      "metadata": {
        "colab": {
          "base_uri": "https://localhost:8080/"
        },
        "id": "1fLj5hEIUk8C",
        "outputId": "11bfb05a-b193-4783-fa38-a1e1a0bad797"
      },
      "outputs": [
        {
          "name": "stdout",
          "output_type": "stream",
          "text": [
            "Device: cuda\n"
          ]
        }
      ],
      "source": [
        "device = torch.device('cuda' if torch.cuda.is_available() else 'cpu')\n",
        "print(f\"Device: {device}\")"
      ]
    },
    {
      "cell_type": "code",
      "execution_count": null,
      "metadata": {
        "id": "J0UWRxvIUmZ6"
      },
      "outputs": [],
      "source": [
        "MAX_VOCAB_SIZE=30000      #to maintain the RAM constraints on colab\n",
        "CHUNKSIZE=100000\n",
        "MAX_LEN=256"
      ]
    },
    {
      "cell_type": "code",
      "execution_count": null,
      "metadata": {
        "id": "73d-YdgDUovz"
      },
      "outputs": [],
      "source": [
        "def clean_text(text):\n",
        "    if text is None:\n",
        "        return \"\"\n",
        "    text = text.lower()\n",
        "    text = re.sub(r'[^a-z\\s]', '', text)        #to keep only letters and spaces\n",
        "    text = re.sub(r'\\s+', ' ', text).strip()    #removing extra spaces\n",
        "    return text"
      ]
    },
    {
      "cell_type": "code",
      "execution_count": null,
      "metadata": {
        "colab": {
          "background_save": true
        },
        "id": "6KqSpbSIUq7q",
        "outputId": "5961b6a9-8614-43f4-c1cb-80b0998a02b6"
      },
      "outputs": [
        {
          "name": "stdout",
          "output_type": "stream",
          "text": [
            "hello my name is shreshth ew\n"
          ]
        }
      ],
      "source": [
        "print(clean_text(\"hello MY name is, shreshth. ew.\"))"
      ]
    },
    {
      "cell_type": "code",
      "execution_count": null,
      "metadata": {
        "colab": {
          "background_save": true
        },
        "id": "6IRPkXcMUsOx"
      },
      "outputs": [],
      "source": [
        "word_counts = Counter()\n",
        "col_names = ['polarity', 'title', 'text']\n",
        "\n",
        "\n",
        "for chunk in pd.read_csv('train.csv', chunksize=100000, names=col_names, header=None):\n",
        "\n",
        "    chunk['full_text'] = chunk['title'].astype(str)+' '+chunk['text'].astype(str)\n",
        "    chunk['full_text'] = chunk['full_text'].apply(clean_text)\n",
        "\n",
        "    #counts the freq of each word\n",
        "    for text in chunk['full_text']:\n",
        "        word_counts.update(text.split())\n"
      ]
    },
    {
      "cell_type": "code",
      "execution_count": 12,
      "metadata": {
        "colab": {
          "base_uri": "https://localhost:8080/"
        },
        "id": "pbEUuiqCU_e6",
        "outputId": "1f8f9e50-e1e9-46f0-d289-540be4435bfa"
      },
      "outputs": [
        {
          "output_type": "execute_result",
          "data": {
            "text/plain": [
              "2155753"
            ]
          },
          "metadata": {},
          "execution_count": 12
        }
      ],
      "source": [
        "len(word_counts.items())   #total no of different words in the dataset"
      ]
    },
    {
      "cell_type": "code",
      "execution_count": 13,
      "metadata": {
        "colab": {
          "base_uri": "https://localhost:8080/"
        },
        "id": "CVfTgEdTVC3K",
        "outputId": "a67179da-17b5-47ce-d98e-43ac09ce4b5a"
      },
      "outputs": [
        {
          "output_type": "stream",
          "name": "stdout",
          "text": [
            "Vocabulary has 30000 words.\n"
          ]
        }
      ],
      "source": [
        "vocab = {'<pad>': 0, '<unk>': 1}\n",
        "idx = 2\n",
        "for word, _ in word_counts.most_common(MAX_VOCAB_SIZE - 2):   #choosing only most frequent 30000 words for the vocabulary to manage the ram constraint\n",
        "    vocab[word]=idx\n",
        "    idx += 1\n",
        "\n",
        "print(f\"Vocabulary has {len(vocab)} words.\")"
      ]
    },
    {
      "cell_type": "code",
      "execution_count": 14,
      "metadata": {
        "colab": {
          "base_uri": "https://localhost:8080/"
        },
        "id": "vauvXAP8VFBC",
        "outputId": "fc8a56b9-9b59-47ce-b0a2-109df4308b5d"
      },
      "outputs": [
        {
          "output_type": "stream",
          "name": "stdout",
          "text": [
            "Drive already mounted at /content/drive; to attempt to forcibly remount, call drive.mount(\"/content/drive\", force_remount=True).\n"
          ]
        }
      ],
      "source": [
        "from google.colab import drive\n",
        "drive.mount('/content/drive')"
      ]
    },
    {
      "cell_type": "code",
      "execution_count": 15,
      "metadata": {
        "colab": {
          "base_uri": "https://localhost:8080/"
        },
        "id": "hGh04uU3VGlb",
        "outputId": "ed47bd92-7f1d-455b-f4d8-31e4b1bea4f4"
      },
      "outputs": [
        {
          "output_type": "stream",
          "name": "stdout",
          "text": [
            "Loaded 400000 GloVe vectors into emb_index.\n"
          ]
        }
      ],
      "source": [
        "# Path to GloVe file on Google Drive\n",
        "glove_path = '/content/drive/MyDrive/glove.6B.100d.txt'\n",
        "\n",
        "emb_index = {}    ##loading GloVe embeddings here\n",
        "\n",
        "with open(glove_path, 'r', encoding='utf8') as f:\n",
        "\n",
        "    for line in f:\n",
        "        word, *vec = line.split()\n",
        "        emb_index[word] = np.array(vec, dtype='float32')\n",
        "\n",
        "\n",
        "print(f\"Loaded {len(emb_index)} GloVe vectors into emb_index.\")\n",
        "\n",
        "\n"
      ]
    },
    {
      "cell_type": "code",
      "execution_count": 16,
      "metadata": {
        "colab": {
          "base_uri": "https://localhost:8080/"
        },
        "id": "OondMRtlVKKZ",
        "outputId": "7235ce5a-4b98-44b3-afd1-099950c471df"
      },
      "outputs": [
        {
          "output_type": "stream",
          "name": "stdout",
          "text": [
            "Found 27956/30000 words in GloVe embeddings.\n"
          ]
        }
      ],
      "source": [
        "embedding_matrix = np.zeros((len(vocab), 100), dtype='float32')    #words not found in Glove will remain as zero vectors in the final embedding_matrix\n",
        "\n",
        "words_found = 0\n",
        "\n",
        "for word, i in vocab.items():\n",
        "    if word in emb_index:\n",
        "        embedding_matrix[i] = emb_index[word]\n",
        "        words_found += 1\n",
        "\n",
        "\n",
        "print(f\"Found {words_found}/{len(vocab)} words in GloVe embeddings.\")\n",
        "\n",
        "embedding_matrix = torch.tensor(embedding_matrix, dtype=torch.float32)"
      ]
    },
    {
      "cell_type": "code",
      "execution_count": 17,
      "metadata": {
        "id": "Zib7tuq4VM6y"
      },
      "outputs": [],
      "source": [
        "#below function was written with ChatGPT\n",
        "# Modified process_dataframe to yield individual samples from a chunk ---\n",
        "def process_chunk_to_samples(chunk_df, vocab, max_len):\n",
        "    \"\"\"\n",
        "    Processes a chunk dataframe and yields individual (input_tensor, label_tensor) pairs.\n",
        "    \"\"\"\n",
        "    labels = chunk_df['polarity'].map({1: 0, 2: 1}).values\n",
        "    chunk_df['full_text'] = chunk_df['title'].astype(str) + ' ' + chunk_df['text'].astype(str)\n",
        "    chunk_df['full_text'] = chunk_df['full_text'].apply(clean_text)\n",
        "\n",
        "    for i, text in enumerate(chunk_df['full_text']):\n",
        "        tokens = text.split()\n",
        "        tokens = tokens[:max_len]\n",
        "        indexed_tokens = [vocab.get(word, vocab['<unk>']) for word in tokens]\n",
        "        n_pads = max_len - len(indexed_tokens)\n",
        "        padded_sequence = indexed_tokens + [vocab['<pad>']] * n_pads\n",
        "        yield torch.tensor(padded_sequence, dtype=torch.long), torch.tensor(labels[i], dtype=torch.float32)\n"
      ]
    },
    {
      "cell_type": "code",
      "execution_count": 20,
      "metadata": {
        "id": "oOOoeiT5gN6W"
      },
      "outputs": [],
      "source": [
        "#below class object was written with refrence from ChatGPT as I dont know how to define 'Custom IterableDataset'\n",
        "# Define a Custom IterableDataset for efficient chunking ---\n",
        "class LargeTextDataset(IterableDataset):\n",
        "    def __init__(self, file_path, col_names, chunksize, vocab, max_len):\n",
        "        self.file_path = file_path\n",
        "        self.col_names = col_names\n",
        "        self.chunksize = chunksize\n",
        "        self.vocab = vocab\n",
        "        self.max_len = max_len\n",
        "\n",
        "    def __iter__(self):\n",
        "        # Create a new reader for each iterator (important for DataLoader's multi-worker support)\n",
        "        # This ensures that if num_workers > 0, each worker gets its own file handle.\n",
        "        csv_reader = pd.read_csv(\n",
        "            self.file_path,\n",
        "            chunksize=self.chunksize,\n",
        "            names=self.col_names,\n",
        "            header=None\n",
        "        )\n",
        "        for chunk_df in csv_reader:\n",
        "            # process_chunk_to_samples yields individual (input, label) pairs\n",
        "            for input_sample, label_sample in process_chunk_to_samples(chunk_df, self.vocab, self.max_len):\n",
        "                yield input_sample, label_sample\n"
      ]
    },
    {
      "cell_type": "code",
      "execution_count": 21,
      "metadata": {
        "id": "-MI9uvWYgTro"
      },
      "outputs": [],
      "source": [
        "train_dataset = LargeTextDataset('train.csv', col_names, CHUNKSIZE, vocab, MAX_LEN)\n",
        "\n",
        "train_loader = DataLoader(train_dataset, batch_size=512, shuffle=False, drop_last=True)\n"
      ]
    },
    {
      "cell_type": "code",
      "execution_count": 22,
      "metadata": {
        "id": "v37OVky4icyc"
      },
      "outputs": [],
      "source": [
        "test_dataset = LargeTextDataset('test.csv', col_names, CHUNKSIZE, vocab, MAX_LEN)\n",
        "\n",
        "test_loader = DataLoader(test_dataset, batch_size=512, shuffle=False, drop_last=True)\n",
        "\n",
        "\n"
      ]
    },
    {
      "cell_type": "code",
      "execution_count": 23,
      "metadata": {
        "id": "G-uVIS9rVSxb"
      },
      "outputs": [],
      "source": [
        "class RNNmodel(nn.Module):\n",
        "    def __init__(self, vocab_size, embedding_dim, hidden_dim, output_dim, n_layers, embedding_matrix):\n",
        "        super().__init__()\n",
        "        self.embedding = nn.Embedding(vocab_size, embedding_dim)\n",
        "        self.embedding.weight.data.copy_(embedding_matrix)\n",
        "        self.embedding.weight.requires_grad = False\n",
        "        self.rnn =nn.RNN(embedding_dim, hidden_dim, num_layers=n_layers, batch_first=True, bidirectional=True)\n",
        "        self.fc = nn.Linear(hidden_dim*2,output_dim)\n",
        "\n",
        "    def forward(self, text):\n",
        "        embedded = self.embedding(text)\n",
        "\n",
        "        _, hidden = self.rnn(embedded)\n",
        "\n",
        "        # Concatenate the forward and backward hidden states\n",
        "        hidden = torch.cat((hidden[-2,:,:], hidden[-1,:,:]), dim=1)\n",
        "        # hidden shape: [batch size, hidden dim * 2]\n",
        "\n",
        "        return self.fc(hidden)\n",
        "\n"
      ]
    },
    {
      "cell_type": "code",
      "execution_count": 24,
      "metadata": {
        "id": "RSUBj1VcVXfS"
      },
      "outputs": [],
      "source": [
        "class LSTMmodel(nn.Module):\n",
        "    def __init__(self, vocab_size, embedding_dim, hidden_dim, output_dim, n_layers, embedding_matrix):\n",
        "        super().__init__()\n",
        "        self.embedding = nn.Embedding(vocab_size, embedding_dim)\n",
        "        self.embedding.weight.data.copy_(embedding_matrix)\n",
        "        self.embedding.weight.requires_grad = False\n",
        "        self.lstm = nn.LSTM(embedding_dim, hidden_dim, num_layers=n_layers, batch_first=True, bidirectional=True, dropout=0.5 if n_layers > 1 else 0)\n",
        "        self.fc = nn.Linear(hidden_dim*2, output_dim)\n",
        "\n",
        "    def forward(self, text):\n",
        "        embedded = self.embedding(text)\n",
        "\n",
        "        _, (hidden, _) = self.lstm(embedded)      #LSTM returns output, (final hidden state, final cell state)\n",
        "\n",
        "        # Concatenate the forward and backward hidden states\n",
        "        hidden = torch.cat((hidden[-2,:,:], hidden[-1,:,:]), dim=1)\n",
        "\n",
        "        return self.fc(hidden)"
      ]
    },
    {
      "cell_type": "code",
      "execution_count": 32,
      "metadata": {
        "id": "oxZaLHx1VcG0"
      },
      "outputs": [],
      "source": [
        "def evaluate_model(model, loader, criterion):\n",
        "    model.eval()\n",
        "    preds, labels = [], []\n",
        "    total_loss = 0\n",
        "    num_batches = 0         #initializing a counter for batches\n",
        "\n",
        "    with torch.no_grad():\n",
        "        for inputs, labels in loader:\n",
        "            inputs, labels = inputs.to(device), labels.to(device)\n",
        "\n",
        "            outputs = model(inputs).squeeze(1)\n",
        "            loss = criterion(outputs, labels)\n",
        "            total_loss += loss.item()\n",
        "            num_batches += 1\n",
        "\n",
        "            preds = torch.round(torch.sigmoid(outputs))\n",
        "            preds.extend(preds.cpu().numpy())\n",
        "            labels.extend(labels.cpu().numpy())\n",
        "\n",
        "\n",
        "    if num_batches>0:\n",
        "      avg_loss = total_loss/num_batches\n",
        "    else:\n",
        "      avg_loss = 0\n",
        "\n",
        "    acc = accuracy_score(labels, preds)\n",
        "    f1 = f1_score(labels, preds)\n",
        "\n",
        "\n",
        "    return avg_loss, acc, f1, labels, preds"
      ]
    },
    {
      "cell_type": "code",
      "execution_count": 26,
      "metadata": {
        "id": "VfA_swVhVeIZ",
        "colab": {
          "base_uri": "https://localhost:8080/"
        },
        "outputId": "f86408e9-9edc-488b-ade6-51b20688a7b9"
      },
      "outputs": [
        {
          "output_type": "stream",
          "name": "stdout",
          "text": [
            "\n",
            "Epoch: 1 Train Loss: 0.383803\n",
            "\n",
            "Epoch: 2 Train Loss: 0.388839\n",
            "\n",
            "Epoch: 3 Train Loss: 0.393208\n"
          ]
        }
      ],
      "source": [
        "#RNN\n",
        "model_rnn = RNNmodel(vocab_size=len(vocab), embedding_dim=100, hidden_dim=128, output_dim=1, n_layers=2, embedding_matrix=embedding_matrix).to(device)\n",
        "\n",
        "criterion_rnn = nn.BCEWithLogitsLoss()\n",
        "optimizer_rnn = torch.optim.Adam(model_rnn.parameters(), lr=0.001)\n",
        "\n",
        "#training\n",
        "for epoch in range(3):\n",
        "    model_rnn.train()\n",
        "    total_loss_rnn = 0\n",
        "    num_batches_rnn = 0     #Counting batches for average loss calculations\n",
        "\n",
        "    for inputs, labels in train_loader:\n",
        "        inputs = inputs.to(device)\n",
        "        labels = labels.to(device)\n",
        "\n",
        "        optimizer_rnn.zero_grad()\n",
        "        outputs = model_rnn(inputs).squeeze(1)\n",
        "        loss = criterion_rnn(outputs, labels)\n",
        "        loss.backward()\n",
        "        optimizer_rnn.step()\n",
        "\n",
        "        total_loss_rnn += loss.item()\n",
        "        num_batches_rnn += 1\n",
        "\n",
        "    if num_batches_rnn>0:\n",
        "      avg_train_loss_rnn = total_loss_rnn/num_batches_rnn\n",
        "    else:\n",
        "      avg_train_loss_rnn = 0\n",
        "\n",
        "\n",
        "    print(f\"\\nEpoch: {epoch+1} Train Loss: {avg_train_loss_rnn:.6f}\")\n"
      ]
    },
    {
      "cell_type": "code",
      "execution_count": 28,
      "metadata": {
        "id": "Bc0HXmtXVi-y",
        "colab": {
          "base_uri": "https://localhost:8080/"
        },
        "outputId": "705e8705-4f1c-46e6-fab3-16d2c9a4aa49"
      },
      "outputs": [
        {
          "output_type": "stream",
          "name": "stdout",
          "text": [
            "\n",
            "Epoch: 1 Train Loss: 0.212152\n",
            "\n",
            "Epoch: 2 Train Loss: 0.146394\n",
            "\n",
            "Epoch: 3 Train Loss: 0.131615\n"
          ]
        }
      ],
      "source": [
        "#LSTM\n",
        "model_lstm = LSTMmodel(vocab_size=len(vocab), embedding_dim=100,hidden_dim=128,output_dim=1, n_layers=2,embedding_matrix=embedding_matrix).to(device)\n",
        "criterion_lstm=nn.BCEWithLogitsLoss()\n",
        "optimizer_lstm=torch.optim.Adam(model_lstm.parameters(), lr=0.001)\n",
        "\n",
        "#training loop\n",
        "for epoch in range(3):\n",
        "    model_lstm.train()\n",
        "    total_loss_lstm = 0\n",
        "    num_batches_lstm = 0\n",
        "\n",
        "\n",
        "    for inputs, labels in train_loader:\n",
        "\n",
        "        inputs = inputs.to(device)\n",
        "        labels = labels.to(device)\n",
        "\n",
        "        optimizer_lstm.zero_grad()\n",
        "        outputs = model_lstm(inputs).squeeze(1)\n",
        "        loss = criterion_lstm(outputs, labels)\n",
        "        loss.backward()\n",
        "        optimizer_lstm.step()\n",
        "\n",
        "        total_loss_lstm += loss.item()\n",
        "        num_batches_lstm += 1\n",
        "\n",
        "    if num_batches_lstm>0:\n",
        "      avg_train_loss_lstm = total_loss_lstm/ num_batches_lstm\n",
        "    else:\n",
        "      avg_train_loss_lstm = 0\n",
        "\n",
        "\n",
        "    print(f\"\\nEpoch: {epoch+1} Train Loss: {avg_train_loss_lstm:.6f}\")\n"
      ]
    },
    {
      "cell_type": "code",
      "execution_count": 35,
      "metadata": {
        "id": "alvlaCwkVjJ5",
        "colab": {
          "base_uri": "https://localhost:8080/",
          "height": 522
        },
        "outputId": "b293975d-2744-41c1-9dd6-e8ca131d8189"
      },
      "outputs": [
        {
          "output_type": "stream",
          "name": "stdout",
          "text": [
            "Test Accuracy (RNN): 82.355604%\n",
            "Test F1-Score (RNN): 0.826186\n"
          ]
        },
        {
          "output_type": "display_data",
          "data": {
            "text/plain": [
              "<Figure size 600x500 with 2 Axes>"
            ],
            "image/png": "[encoded data removed]"
          },
          "metadata": {}
        }
      ],
      "source": [
        "#Evaluation\n",
        "_, acc_rnn, f1_rnn, true_labels_rnn, preds_rnn = evaluate_model(model_rnn, test_loader, criterion_rnn)\n",
        "print(f\"Test Accuracy (RNN): {acc_rnn*100:.6f}%\")\n",
        "print(f\"Test F1-Score (RNN): {f1_rnn:.6f}\")\n",
        "\n",
        "# Plot Confusion Matrix    (ChatGPT)\n",
        "cm_rnn = confusion_matrix(true_labels_rnn, preds_rnn)\n",
        "plt.figure(figsize=(6, 5))\n",
        "sns.heatmap(cm_rnn, annot=True, fmt='d', cmap='Blues',\n",
        "            xticklabels=['Negative', 'Positive'],\n",
        "            yticklabels=['Negative', 'Positive'])\n",
        "plt.xlabel('Predicted Label')\n",
        "plt.ylabel('True Label')\n",
        "plt.title('RNN Confusion Matrix')\n",
        "plt.show()"
      ]
    },
    {
      "cell_type": "code",
      "execution_count": 36,
      "metadata": {
        "id": "YTHiwzCwVu-D",
        "colab": {
          "base_uri": "https://localhost:8080/",
          "height": 522
        },
        "outputId": "082e6c1d-c8b9-4b02-e08e-084e80f41d2d"
      },
      "outputs": [
        {
          "output_type": "stream",
          "name": "stdout",
          "text": [
            "Test Accuracy (LSTM): 94.999650%\n",
            "Test F1 Score (LSTM): 0.950726\n"
          ]
        },
        {
          "output_type": "display_data",
          "data": {
            "text/plain": [
              "<Figure size 600x500 with 2 Axes>"
            ],
            "image/png": "[encoded data removed]"
          },
          "metadata": {}
        }
      ],
      "source": [
        "# Evaluation\n",
        "_, acc_lstm, f1_lstm, true_labels_lstm, preds_lstm = evaluate_model(model_lstm, test_loader, criterion_lstm)\n",
        "print(f\"Test Accuracy (LSTM): {acc_lstm*100:.6f}%\")\n",
        "print(f\"Test F1 Score (LSTM): {f1_lstm:.6f}\")\n",
        "\n",
        "# Plot Confusion Matrix\n",
        "cm_lstm = confusion_matrix(true_labels_lstm, preds_lstm)\n",
        "plt.figure(figsize=(6, 5))\n",
        "sns.heatmap(cm_lstm, annot=True, fmt='d', cmap='Blues',\n",
        "            xticklabels=['Negative', 'Positive'],\n",
        "            yticklabels=['Negative', 'Positive'])\n",
        "plt.xlabel('Predicted Label')\n",
        "plt.ylabel('True Label')\n",
        "plt.title('LSTM Confusion Matrix')\n",
        "plt.show()"
      ]
    },
    {
      "cell_type": "code",
      "source": [],
      "metadata": {
        "id": "PI9dDNB_Kjc4"
      },
      "execution_count": null,
      "outputs": []
    },
    {
      "cell_type": "code",
      "source": [],
      "metadata": {
        "id": "YSouVXKbTY7K"
      },
      "execution_count": null,
      "outputs": []
    }
  ],
  "metadata": {
    "accelerator": "GPU",
    "colab": {
      "gpuType": "T4",
      "provenance": []
    },
    "kernelspec": {
      "display_name": "Python 3",
      "name": "python3"
    },
    "language_info": {
      "name": "python"
    }
  },
  "nbformat": 4,
  "nbformat_minor": 0
}