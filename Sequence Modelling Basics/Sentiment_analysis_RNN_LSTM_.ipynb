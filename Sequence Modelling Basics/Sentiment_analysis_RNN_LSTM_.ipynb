{
  "nbformat": 4,
  "nbformat_minor": 0,
  "metadata": {
    "colab": {
      "provenance": [],
      "gpuType": "T4"
    },
    "kernelspec": {
      "name": "python3",
      "display_name": "Python 3"
    },
    "language_info": {
      "name": "python"
    },
    "accelerator": "GPU"
  },
  "cells": [
    {
      "cell_type": "code",
      "execution_count": 1,
      "metadata": {
        "colab": {
          "base_uri": "https://localhost:8080/",
          "height": 90
        },
        "id": "taSFAIxubjvE",
        "outputId": "87b47e95-42bd-496f-814e-9b8d0368992f"
      },
      "outputs": [
        {
          "output_type": "display_data",
          "data": {
            "text/plain": [
              "<IPython.core.display.HTML object>"
            ],
            "text/html": [
              "\n",
              "     <input type=\"file\" id=\"files-898fffc6-6f59-4617-a508-88b9ba0908c9\" name=\"files[]\" multiple disabled\n",
              "        style=\"border:none\" />\n",
              "     <output id=\"result-898fffc6-6f59-4617-a508-88b9ba0908c9\">\n",
              "      Upload widget is only available when the cell has been executed in the\n",
              "      current browser session. Please rerun this cell to enable.\n",
              "      </output>\n",
              "      <script>// Copyright 2017 Google LLC\n",
              "//\n",
              "// Licensed under the Apache License, Version 2.0 (the \"License\");\n",
              "// you may not use this file except in compliance with the License.\n",
              "// You may obtain a copy of the License at\n",
              "//\n",
              "//      http://www.apache.org/licenses/LICENSE-2.0\n",
              "//\n",
              "// Unless required by applicable law or agreed to in writing, software\n",
              "// distributed under the License is distributed on an \"AS IS\" BASIS,\n",
              "// WITHOUT WARRANTIES OR CONDITIONS OF ANY KIND, either express or implied.\n",
              "// See the License for the specific language governing permissions and\n",
              "// limitations under the License.\n",
              "\n",
              "/**\n",
              " * @fileoverview Helpers for google.colab Python module.\n",
              " */\n",
              "(function(scope) {\n",
              "function span(text, styleAttributes = {}) {\n",
              "  const element = document.createElement('span');\n",
              "  element.textContent = text;\n",
              "  for (const key of Object.keys(styleAttributes)) {\n",
              "    element.style[key] = styleAttributes[key];\n",
              "  }\n",
              "  return element;\n",
              "}\n",
              "\n",
              "// Max number of bytes which will be uploaded at a time.\n",
              "const MAX_PAYLOAD_SIZE = 100 * 1024;\n",
              "\n",
              "function _uploadFiles(inputId, outputId) {\n",
              "  const steps = uploadFilesStep(inputId, outputId);\n",
              "  const outputElement = document.getElementById(outputId);\n",
              "  // Cache steps on the outputElement to make it available for the next call\n",
              "  // to uploadFilesContinue from Python.\n",
              "  outputElement.steps = steps;\n",
              "\n",
              "  return _uploadFilesContinue(outputId);\n",
              "}\n",
              "\n",
              "// This is roughly an async generator (not supported in the browser yet),\n",
              "// where there are multiple asynchronous steps and the Python side is going\n",
              "// to poll for completion of each step.\n",
              "// This uses a Promise to block the python side on completion of each step,\n",
              "// then passes the result of the previous step as the input to the next step.\n",
              "function _uploadFilesContinue(outputId) {\n",
              "  const outputElement = document.getElementById(outputId);\n",
              "  const steps = outputElement.steps;\n",
              "\n",
              "  const next = steps.next(outputElement.lastPromiseValue);\n",
              "  return Promise.resolve(next.value.promise).then((value) => {\n",
              "    // Cache the last promise value to make it available to the next\n",
              "    // step of the generator.\n",
              "    outputElement.lastPromiseValue = value;\n",
              "    return next.value.response;\n",
              "  });\n",
              "}\n",
              "\n",
              "/**\n",
              " * Generator function which is called between each async step of the upload\n",
              " * process.\n",
              " * @param {string} inputId Element ID of the input file picker element.\n",
              " * @param {string} outputId Element ID of the output display.\n",
              " * @return {!Iterable<!Object>} Iterable of next steps.\n",
              " */\n",
              "function* uploadFilesStep(inputId, outputId) {\n",
              "  const inputElement = document.getElementById(inputId);\n",
              "  inputElement.disabled = false;\n",
              "\n",
              "  const outputElement = document.getElementById(outputId);\n",
              "  outputElement.innerHTML = '';\n",
              "\n",
              "  const pickedPromise = new Promise((resolve) => {\n",
              "    inputElement.addEventListener('change', (e) => {\n",
              "      resolve(e.target.files);\n",
              "    });\n",
              "  });\n",
              "\n",
              "  const cancel = document.createElement('button');\n",
              "  inputElement.parentElement.appendChild(cancel);\n",
              "  cancel.textContent = 'Cancel upload';\n",
              "  const cancelPromise = new Promise((resolve) => {\n",
              "    cancel.onclick = () => {\n",
              "      resolve(null);\n",
              "    };\n",
              "  });\n",
              "\n",
              "  // Wait for the user to pick the files.\n",
              "  const files = yield {\n",
              "    promise: Promise.race([pickedPromise, cancelPromise]),\n",
              "    response: {\n",
              "      action: 'starting',\n",
              "    }\n",
              "  };\n",
              "\n",
              "  cancel.remove();\n",
              "\n",
              "  // Disable the input element since further picks are not allowed.\n",
              "  inputElement.disabled = true;\n",
              "\n",
              "  if (!files) {\n",
              "    return {\n",
              "      response: {\n",
              "        action: 'complete',\n",
              "      }\n",
              "    };\n",
              "  }\n",
              "\n",
              "  for (const file of files) {\n",
              "    const li = document.createElement('li');\n",
              "    li.append(span(file.name, {fontWeight: 'bold'}));\n",
              "    li.append(span(\n",
              "        `(${file.type || 'n/a'}) - ${file.size} bytes, ` +\n",
              "        `last modified: ${\n",
              "            file.lastModifiedDate ? file.lastModifiedDate.toLocaleDateString() :\n",
              "                                    'n/a'} - `));\n",
              "    const percent = span('0% done');\n",
              "    li.appendChild(percent);\n",
              "\n",
              "    outputElement.appendChild(li);\n",
              "\n",
              "    const fileDataPromise = new Promise((resolve) => {\n",
              "      const reader = new FileReader();\n",
              "      reader.onload = (e) => {\n",
              "        resolve(e.target.result);\n",
              "      };\n",
              "      reader.readAsArrayBuffer(file);\n",
              "    });\n",
              "    // Wait for the data to be ready.\n",
              "    let fileData = yield {\n",
              "      promise: fileDataPromise,\n",
              "      response: {\n",
              "        action: 'continue',\n",
              "      }\n",
              "    };\n",
              "\n",
              "    // Use a chunked sending to avoid message size limits. See b/62115660.\n",
              "    let position = 0;\n",
              "    do {\n",
              "      const length = Math.min(fileData.byteLength - position, MAX_PAYLOAD_SIZE);\n",
              "      const chunk = new Uint8Array(fileData, position, length);\n",
              "      position += length;\n",
              "\n",
              "      const base64 = btoa(String.fromCharCode.apply(null, chunk));\n",
              "      yield {\n",
              "        response: {\n",
              "          action: 'append',\n",
              "          file: file.name,\n",
              "          data: base64,\n",
              "        },\n",
              "      };\n",
              "\n",
              "      let percentDone = fileData.byteLength === 0 ?\n",
              "          100 :\n",
              "          Math.round((position / fileData.byteLength) * 100);\n",
              "      percent.textContent = `${percentDone}% done`;\n",
              "\n",
              "    } while (position < fileData.byteLength);\n",
              "  }\n",
              "\n",
              "  // All done.\n",
              "  yield {\n",
              "    response: {\n",
              "      action: 'complete',\n",
              "    }\n",
              "  };\n",
              "}\n",
              "\n",
              "scope.google = scope.google || {};\n",
              "scope.google.colab = scope.google.colab || {};\n",
              "scope.google.colab._files = {\n",
              "  _uploadFiles,\n",
              "  _uploadFilesContinue,\n",
              "};\n",
              "})(self);\n",
              "</script> "
            ]
          },
          "metadata": {}
        },
        {
          "output_type": "stream",
          "name": "stdout",
          "text": [
            "Saving kaggle.json to kaggle.json\n"
          ]
        },
        {
          "output_type": "execute_result",
          "data": {
            "text/plain": [
              "{'kaggle.json': b'{\"username\":\"shreshthvishwakarma\",\"key\":\"42f15efad923aad6c01628a948a9aedf\"}'}"
            ]
          },
          "metadata": {},
          "execution_count": 1
        }
      ],
      "source": [
        "from google.colab import files    #for kaggle api\n",
        "files.upload()"
      ]
    },
    {
      "cell_type": "code",
      "source": [
        "!mkdir -p ~/.kaggle\n",
        "!cp kaggle.json ~/.kaggle/\n",
        "!chmod 600 ~/.kaggle/kaggle.json\n"
      ],
      "metadata": {
        "id": "_cvjXmBfbrEY"
      },
      "execution_count": 2,
      "outputs": []
    },
    {
      "cell_type": "code",
      "source": [
        "!kaggle datasets download -d kritanjalijain/amazon-reviews\n",
        "!unzip amazon-reviews.zip"
      ],
      "metadata": {
        "colab": {
          "base_uri": "https://localhost:8080/"
        },
        "id": "wszykUV9brL5",
        "outputId": "5b7012e6-348b-445b-8e7a-f0f47c15715e"
      },
      "execution_count": 3,
      "outputs": [
        {
          "output_type": "stream",
          "name": "stdout",
          "text": [
            "Dataset URL: https://www.kaggle.com/datasets/kritanjalijain/amazon-reviews\n",
            "License(s): CC0-1.0\n",
            "Downloading amazon-reviews.zip to /content\n",
            " 98% 1.26G/1.29G [00:11<00:00, 147MB/s]\n",
            "100% 1.29G/1.29G [00:11<00:00, 124MB/s]\n",
            "Archive:  amazon-reviews.zip\n",
            "  inflating: amazon_review_polarity_csv.tgz  \n",
            "  inflating: test.csv                \n",
            "  inflating: train.csv               \n"
          ]
        }
      ]
    },
    {
      "cell_type": "code",
      "source": [
        "import torch\n",
        "import torch.nn as nn\n",
        "import pandas as pd\n",
        "import numpy as np\n",
        "import re\n",
        "from collections import Counter\n",
        "from torch.utils.data import DataLoader, TensorDataset, IterableDataset\n",
        "from sklearn.metrics import accuracy_score, f1_score, confusion_matrix\n",
        "import seaborn as sns\n",
        "import matplotlib.pyplot as plt"
      ],
      "metadata": {
        "id": "FiC7QThtbrSi"
      },
      "execution_count": 5,
      "outputs": []
    },
    {
      "cell_type": "code",
      "source": [
        "df_train = pd.read_csv(\"train.csv\")"
      ],
      "metadata": {
        "id": "gx2vwC2HbrYc"
      },
      "execution_count": 6,
      "outputs": []
    },
    {
      "cell_type": "code",
      "source": [
        "device = torch.device('cuda' if torch.cuda.is_available() else 'cpu')\n",
        "print(f\"Device: {device}\")"
      ],
      "metadata": {
        "colab": {
          "base_uri": "https://localhost:8080/"
        },
        "id": "w9IHq8n6byf7",
        "outputId": "f275d7e3-c54b-45a3-9362-cf86b341f4c4"
      },
      "execution_count": 7,
      "outputs": [
        {
          "output_type": "stream",
          "name": "stdout",
          "text": [
            "Device: cuda\n"
          ]
        }
      ]
    },
    {
      "cell_type": "code",
      "source": [
        "MAX_VOCAB_SIZE=30000      #to maintain the RAM constraints on colab\n",
        "CHUNKSIZE=100000\n",
        "MAX_LEN=256"
      ],
      "metadata": {
        "id": "Y1EF3ywRbymp"
      },
      "execution_count": 8,
      "outputs": []
    },
    {
      "cell_type": "code",
      "source": [
        "def clean_text(text):\n",
        "    if text is None:\n",
        "        return \"\"\n",
        "    text = text.lower()\n",
        "    text = re.sub(r'[^a-z\\s]', '',text)       #to keep only letters and spaces\n",
        "    text = re.sub(r'\\s+', ' ',text).strip()    #removing extra spaces\n",
        "    return text"
      ],
      "metadata": {
        "id": "xHS9WoW0byqJ"
      },
      "execution_count": 9,
      "outputs": []
    },
    {
      "cell_type": "code",
      "source": [
        "print(clean_text(\"hello MY name is, shreshth. ew.\"))"
      ],
      "metadata": {
        "colab": {
          "base_uri": "https://localhost:8080/"
        },
        "id": "dN1LWtd0bys7",
        "outputId": "ef3ed7dd-752e-48ad-dca1-27d0d84651eb"
      },
      "execution_count": 10,
      "outputs": [
        {
          "output_type": "stream",
          "name": "stdout",
          "text": [
            "hello my name is shreshth ew\n"
          ]
        }
      ]
    },
    {
      "cell_type": "code",
      "source": [
        "word_counts = Counter()\n",
        "col_names = ['polarity', 'title', 'text']\n",
        "\n",
        "\n",
        "for chunk in pd.read_csv('train.csv', chunksize=100000, names=col_names, header=None):\n",
        "\n",
        "    chunk['full_text'] = chunk['title'].astype(str)+' '+chunk['text'].astype(str)\n",
        "    chunk['full_text'] = chunk['full_text'].apply(clean_text)\n",
        "\n",
        "    #counts the freq of each word\n",
        "    for text in chunk['full_text']:\n",
        "        word_counts.update(text.split())\n"
      ],
      "metadata": {
        "id": "5Cj0ZWYSb967"
      },
      "execution_count": 11,
      "outputs": []
    },
    {
      "cell_type": "code",
      "source": [
        "len(word_counts.items())   #total no of different words in the dataset"
      ],
      "metadata": {
        "colab": {
          "base_uri": "https://localhost:8080/"
        },
        "id": "IeJisp4Zb997",
        "outputId": "29ab2da8-5b28-4107-ba7b-c440df29bc29"
      },
      "execution_count": 12,
      "outputs": [
        {
          "output_type": "execute_result",
          "data": {
            "text/plain": [
              "2155753"
            ]
          },
          "metadata": {},
          "execution_count": 12
        }
      ]
    },
    {
      "cell_type": "code",
      "source": [
        "vocab = {'<pad>': 0, '<unk>': 1}\n",
        "idx = 2\n",
        "for word, _ in word_counts.most_common(29998):   #choosing only most frequent 30000 words for the vocabulary to manage the ram constraint\n",
        "    vocab[word]=idx\n",
        "    idx += 1\n",
        "\n",
        "print(f\"Vocab has {len(vocab)} words.\")"
      ],
      "metadata": {
        "colab": {
          "base_uri": "https://localhost:8080/"
        },
        "id": "5ld9NfgYb-ER",
        "outputId": "923d0928-6316-436a-ed89-c9653133980e"
      },
      "execution_count": 13,
      "outputs": [
        {
          "output_type": "stream",
          "name": "stdout",
          "text": [
            "Vocabulary has 30000 words.\n"
          ]
        }
      ]
    },
    {
      "cell_type": "code",
      "source": [
        "from google.colab import drive\n",
        "drive.mount('/content/drive')"
      ],
      "metadata": {
        "colab": {
          "base_uri": "https://localhost:8080/",
          "height": 304
        },
        "id": "oTdQk7M6b-HK",
        "outputId": "93c9b316-205c-44b6-de0c-1e3360071f3d"
      },
      "execution_count": 15,
      "outputs": [
        {
          "output_type": "error",
          "ename": "MessageError",
          "evalue": "Error: credential propagation was unsuccessful",
          "traceback": [
            "\u001b[0;31m---------------------------------------------------------------------------\u001b[0m",
            "\u001b[0;31mMessageError\u001b[0m                              Traceback (most recent call last)",
            "\u001b[0;32m<ipython-input-15-d5df0069828e>\u001b[0m in \u001b[0;36m<cell line: 0>\u001b[0;34m()\u001b[0m\n\u001b[1;32m      1\u001b[0m \u001b[0;32mfrom\u001b[0m \u001b[0mgoogle\u001b[0m\u001b[0;34m.\u001b[0m\u001b[0mcolab\u001b[0m \u001b[0;32mimport\u001b[0m \u001b[0mdrive\u001b[0m\u001b[0;34m\u001b[0m\u001b[0;34m\u001b[0m\u001b[0m\n\u001b[0;32m----> 2\u001b[0;31m \u001b[0mdrive\u001b[0m\u001b[0;34m.\u001b[0m\u001b[0mmount\u001b[0m\u001b[0;34m(\u001b[0m\u001b[0;34m'/content/drive'\u001b[0m\u001b[0;34m)\u001b[0m\u001b[0;34m\u001b[0m\u001b[0;34m\u001b[0m\u001b[0m\n\u001b[0m",
            "\u001b[0;32m/usr/local/lib/python3.11/dist-packages/google/colab/drive.py\u001b[0m in \u001b[0;36mmount\u001b[0;34m(mountpoint, force_remount, timeout_ms, readonly)\u001b[0m\n\u001b[1;32m     98\u001b[0m \u001b[0;32mdef\u001b[0m \u001b[0mmount\u001b[0m\u001b[0;34m(\u001b[0m\u001b[0mmountpoint\u001b[0m\u001b[0;34m,\u001b[0m \u001b[0mforce_remount\u001b[0m\u001b[0;34m=\u001b[0m\u001b[0;32mFalse\u001b[0m\u001b[0;34m,\u001b[0m \u001b[0mtimeout_ms\u001b[0m\u001b[0;34m=\u001b[0m\u001b[0;36m120000\u001b[0m\u001b[0;34m,\u001b[0m \u001b[0mreadonly\u001b[0m\u001b[0;34m=\u001b[0m\u001b[0;32mFalse\u001b[0m\u001b[0;34m)\u001b[0m\u001b[0;34m:\u001b[0m\u001b[0;34m\u001b[0m\u001b[0;34m\u001b[0m\u001b[0m\n\u001b[1;32m     99\u001b[0m   \u001b[0;34m\"\"\"Mount your Google Drive at the specified mountpoint path.\"\"\"\u001b[0m\u001b[0;34m\u001b[0m\u001b[0;34m\u001b[0m\u001b[0m\n\u001b[0;32m--> 100\u001b[0;31m   return _mount(\n\u001b[0m\u001b[1;32m    101\u001b[0m       \u001b[0mmountpoint\u001b[0m\u001b[0;34m,\u001b[0m\u001b[0;34m\u001b[0m\u001b[0;34m\u001b[0m\u001b[0m\n\u001b[1;32m    102\u001b[0m       \u001b[0mforce_remount\u001b[0m\u001b[0;34m=\u001b[0m\u001b[0mforce_remount\u001b[0m\u001b[0;34m,\u001b[0m\u001b[0;34m\u001b[0m\u001b[0;34m\u001b[0m\u001b[0m\n",
            "\u001b[0;32m/usr/local/lib/python3.11/dist-packages/google/colab/drive.py\u001b[0m in \u001b[0;36m_mount\u001b[0;34m(mountpoint, force_remount, timeout_ms, ephemeral, readonly)\u001b[0m\n\u001b[1;32m    135\u001b[0m   )\n\u001b[1;32m    136\u001b[0m   \u001b[0;32mif\u001b[0m \u001b[0mephemeral\u001b[0m\u001b[0;34m:\u001b[0m\u001b[0;34m\u001b[0m\u001b[0;34m\u001b[0m\u001b[0m\n\u001b[0;32m--> 137\u001b[0;31m     _message.blocking_request(\n\u001b[0m\u001b[1;32m    138\u001b[0m         \u001b[0;34m'request_auth'\u001b[0m\u001b[0;34m,\u001b[0m\u001b[0;34m\u001b[0m\u001b[0;34m\u001b[0m\u001b[0m\n\u001b[1;32m    139\u001b[0m         \u001b[0mrequest\u001b[0m\u001b[0;34m=\u001b[0m\u001b[0;34m{\u001b[0m\u001b[0;34m'authType'\u001b[0m\u001b[0;34m:\u001b[0m \u001b[0;34m'dfs_ephemeral'\u001b[0m\u001b[0;34m}\u001b[0m\u001b[0;34m,\u001b[0m\u001b[0;34m\u001b[0m\u001b[0;34m\u001b[0m\u001b[0m\n",
            "\u001b[0;32m/usr/local/lib/python3.11/dist-packages/google/colab/_message.py\u001b[0m in \u001b[0;36mblocking_request\u001b[0;34m(request_type, request, timeout_sec, parent)\u001b[0m\n\u001b[1;32m    174\u001b[0m       \u001b[0mrequest_type\u001b[0m\u001b[0;34m,\u001b[0m \u001b[0mrequest\u001b[0m\u001b[0;34m,\u001b[0m \u001b[0mparent\u001b[0m\u001b[0;34m=\u001b[0m\u001b[0mparent\u001b[0m\u001b[0;34m,\u001b[0m \u001b[0mexpect_reply\u001b[0m\u001b[0;34m=\u001b[0m\u001b[0;32mTrue\u001b[0m\u001b[0;34m\u001b[0m\u001b[0;34m\u001b[0m\u001b[0m\n\u001b[1;32m    175\u001b[0m   )\n\u001b[0;32m--> 176\u001b[0;31m   \u001b[0;32mreturn\u001b[0m \u001b[0mread_reply_from_input\u001b[0m\u001b[0;34m(\u001b[0m\u001b[0mrequest_id\u001b[0m\u001b[0;34m,\u001b[0m \u001b[0mtimeout_sec\u001b[0m\u001b[0;34m)\u001b[0m\u001b[0;34m\u001b[0m\u001b[0;34m\u001b[0m\u001b[0m\n\u001b[0m",
            "\u001b[0;32m/usr/local/lib/python3.11/dist-packages/google/colab/_message.py\u001b[0m in \u001b[0;36mread_reply_from_input\u001b[0;34m(message_id, timeout_sec)\u001b[0m\n\u001b[1;32m    101\u001b[0m     ):\n\u001b[1;32m    102\u001b[0m       \u001b[0;32mif\u001b[0m \u001b[0;34m'error'\u001b[0m \u001b[0;32min\u001b[0m \u001b[0mreply\u001b[0m\u001b[0;34m:\u001b[0m\u001b[0;34m\u001b[0m\u001b[0;34m\u001b[0m\u001b[0m\n\u001b[0;32m--> 103\u001b[0;31m         \u001b[0;32mraise\u001b[0m \u001b[0mMessageError\u001b[0m\u001b[0;34m(\u001b[0m\u001b[0mreply\u001b[0m\u001b[0;34m[\u001b[0m\u001b[0;34m'error'\u001b[0m\u001b[0;34m]\u001b[0m\u001b[0;34m)\u001b[0m\u001b[0;34m\u001b[0m\u001b[0;34m\u001b[0m\u001b[0m\n\u001b[0m\u001b[1;32m    104\u001b[0m       \u001b[0;32mreturn\u001b[0m \u001b[0mreply\u001b[0m\u001b[0;34m.\u001b[0m\u001b[0mget\u001b[0m\u001b[0;34m(\u001b[0m\u001b[0;34m'data'\u001b[0m\u001b[0;34m,\u001b[0m \u001b[0;32mNone\u001b[0m\u001b[0;34m)\u001b[0m\u001b[0;34m\u001b[0m\u001b[0;34m\u001b[0m\u001b[0m\n\u001b[1;32m    105\u001b[0m \u001b[0;34m\u001b[0m\u001b[0m\n",
            "\u001b[0;31mMessageError\u001b[0m: Error: credential propagation was unsuccessful"
          ]
        }
      ]
    },
    {
      "cell_type": "code",
      "source": [
        "!wget http://nlp.stanford.edu/data/glove.6B.zip\n",
        "\n",
        "!unzip glove.6B.zip\n",
        "\n",
        "glove_path = 'glove.6B.100d.txt'"
      ],
      "metadata": {
        "colab": {
          "base_uri": "https://localhost:8080/"
        },
        "id": "ZGjaBULJgH2e",
        "outputId": "5882c3f1-9cb2-4d18-c0e8-1109d953bde7"
      },
      "execution_count": 16,
      "outputs": [
        {
          "output_type": "stream",
          "name": "stdout",
          "text": [
            "--2025-06-08 07:46:05--  http://nlp.stanford.edu/data/glove.6B.zip\n",
            "Resolving nlp.stanford.edu (nlp.stanford.edu)... 171.64.67.140\n",
            "Connecting to nlp.stanford.edu (nlp.stanford.edu)|171.64.67.140|:80... connected.\n",
            "HTTP request sent, awaiting response... 302 Found\n",
            "Location: https://nlp.stanford.edu/data/glove.6B.zip [following]\n",
            "--2025-06-08 07:46:05--  https://nlp.stanford.edu/data/glove.6B.zip\n",
            "Connecting to nlp.stanford.edu (nlp.stanford.edu)|171.64.67.140|:443... connected.\n",
            "HTTP request sent, awaiting response... 301 Moved Permanently\n",
            "Location: https://downloads.cs.stanford.edu/nlp/data/glove.6B.zip [following]\n",
            "--2025-06-08 07:46:05--  https://downloads.cs.stanford.edu/nlp/data/glove.6B.zip\n",
            "Resolving downloads.cs.stanford.edu (downloads.cs.stanford.edu)... 171.64.64.22\n",
            "Connecting to downloads.cs.stanford.edu (downloads.cs.stanford.edu)|171.64.64.22|:443... connected.\n",
            "HTTP request sent, awaiting response... 200 OK\n",
            "Length: 862182613 (822M) [application/zip]\n",
            "Saving to: ‘glove.6B.zip’\n",
            "\n",
            "glove.6B.zip        100%[===================>] 822.24M  5.01MB/s    in 2m 39s  \n",
            "\n",
            "2025-06-08 07:48:45 (5.16 MB/s) - ‘glove.6B.zip’ saved [862182613/862182613]\n",
            "\n",
            "Archive:  glove.6B.zip\n",
            "  inflating: glove.6B.50d.txt        \n",
            "  inflating: glove.6B.100d.txt       \n",
            "  inflating: glove.6B.200d.txt       \n",
            "  inflating: glove.6B.300d.txt       \n"
          ]
        }
      ]
    },
    {
      "cell_type": "code",
      "source": [
        "emb_index = {}    ##loading GloVe embeddings here\n",
        "\n",
        "with open(glove_path, 'r', encoding='utf8') as f:\n",
        "\n",
        "    for line in f:\n",
        "        word, *vec = line.split()\n",
        "        emb_index[word] = np.array(vec, dtype='float32')\n",
        "\n",
        "\n",
        "print(f\"Loaded {len(emb_index)} GloVe vectors into emb_index.\")\n",
        "\n",
        "\n"
      ],
      "metadata": {
        "colab": {
          "base_uri": "https://localhost:8080/"
        },
        "id": "RV9CEYTfcEnx",
        "outputId": "f73ae702-fe2b-4d3b-b237-c32f0b078e39"
      },
      "execution_count": 17,
      "outputs": [
        {
          "output_type": "stream",
          "name": "stdout",
          "text": [
            "Loaded 400000 GloVe vectors into emb_index.\n"
          ]
        }
      ]
    },
    {
      "cell_type": "code",
      "source": [
        "embedding_matrix = np.zeros((len(vocab), 100), dtype='float32')    #words not found in Glove will remain as zero vectors in the final embedding_matrix\n",
        "\n",
        "words_found = 0\n",
        "\n",
        "for word, i in vocab.items():\n",
        "    if word in emb_index:\n",
        "        embedding_matrix[i] = emb_index[word]\n",
        "        words_found += 1\n",
        "\n",
        "\n",
        "print(f\"Found {words_found}/{len(vocab)} words in GloVe embeddings.\")\n",
        "\n",
        "embedding_matrix = torch.tensor(embedding_matrix, dtype=torch.float32)"
      ],
      "metadata": {
        "colab": {
          "base_uri": "https://localhost:8080/"
        },
        "id": "IqwjgvfCcEqj",
        "outputId": "6011b0be-8ccb-4e54-e041-5f214ba75bc5"
      },
      "execution_count": 18,
      "outputs": [
        {
          "output_type": "stream",
          "name": "stdout",
          "text": [
            "Found 27956/30000 words in GloVe embeddings.\n"
          ]
        }
      ]
    },
    {
      "cell_type": "code",
      "source": [
        "#below function was written with ChatGPT\n",
        "# Modified dataframe to yield individual samples from a chunk ---\n",
        "def process_chunk_to_samples(chunk_df, vocab, max_len):\n",
        "    \"\"\"\n",
        "    Processes a chunk dataframe and yields individual (input_tensor, label_tensor) pairs.\n",
        "    \"\"\"\n",
        "    labels = chunk_df['polarity'].map({1: 0, 2: 1}).values\n",
        "    chunk_df['full_text'] = chunk_df['title'].astype(str) + ' ' + chunk_df['text'].astype(str)\n",
        "    chunk_df['full_text'] = chunk_df['full_text'].apply(clean_text)\n",
        "\n",
        "    for i, text in enumerate(chunk_df['full_text']):\n",
        "        tokens = text.split()\n",
        "        tokens = tokens[:max_len]\n",
        "        indexed_tokens = [vocab.get(word, vocab['<unk>']) for word in tokens]\n",
        "        n_pads = max_len - len(indexed_tokens)\n",
        "        padded_sequence = indexed_tokens + [vocab['<pad>']] * n_pads\n",
        "        yield torch.tensor(padded_sequence, dtype=torch.long), torch.tensor(labels[i], dtype=torch.float32)\n"
      ],
      "metadata": {
        "id": "vwp2egQ4cEtB"
      },
      "execution_count": 19,
      "outputs": []
    },
    {
      "cell_type": "code",
      "source": [
        "#below class object was written with refrence from ChatGPT as I dont know how to define 'Custom IterableDataset'\n",
        "# Define a Custom IterableDataset for efficient chunking ---\n",
        "class LargeTextDataset(IterableDataset):\n",
        "    def __init__(self, file_path, col_names, chunksize, vocab, max_len):\n",
        "        self.file_path = file_path\n",
        "        self.col_names = col_names\n",
        "        self.chunksize = chunksize\n",
        "        self.vocab = vocab\n",
        "        self.max_len = max_len\n",
        "\n",
        "    def __iter__(self):\n",
        "        # Create a new reader for each iterator (important for DataLoader's multi-worker support)\n",
        "        # This ensures that if num_workers > 0, each worker gets its own file handle.\n",
        "        csv_reader = pd.read_csv(\n",
        "            self.file_path,\n",
        "            chunksize=self.chunksize,\n",
        "            names=self.col_names,\n",
        "            header=None\n",
        "        )\n",
        "        for chunk_df in csv_reader:\n",
        "            # process_chunk_to_samples yields individual (input, label) pairs\n",
        "            for input_sample, label_sample in process_chunk_to_samples(chunk_df, self.vocab, self.max_len):\n",
        "                yield input_sample, label_sample\n"
      ],
      "metadata": {
        "id": "D4EKj8ObcEvh"
      },
      "execution_count": 20,
      "outputs": []
    },
    {
      "cell_type": "code",
      "source": [
        "train_dataset = LargeTextDataset('train.csv', col_names, CHUNKSIZE, vocab, MAX_LEN)\n",
        "\n",
        "train_loader = DataLoader(train_dataset, batch_size=512, shuffle=False, drop_last=True)\n"
      ],
      "metadata": {
        "id": "n1rLeXaTcEyT"
      },
      "execution_count": 21,
      "outputs": []
    },
    {
      "cell_type": "code",
      "source": [
        "test_dataset = LargeTextDataset('test.csv', col_names, CHUNKSIZE, vocab, MAX_LEN)\n",
        "\n",
        "test_loader = DataLoader(test_dataset, batch_size=512, shuffle=False, drop_last=True)\n",
        "\n",
        "\n"
      ],
      "metadata": {
        "id": "FMt4p1xIcE0x"
      },
      "execution_count": 22,
      "outputs": []
    },
    {
      "cell_type": "code",
      "source": [
        "class RNNmodel(nn.Module):\n",
        "    def __init__(self, vocab_size, embedding_dim, hidden_dim, output_dim, n_layers, embedding_matrix):\n",
        "        super().__init__()\n",
        "        self.embedding = nn.Embedding(vocab_size, embedding_dim)\n",
        "        self.embedding.weight.data.copy_(embedding_matrix)\n",
        "        self.embedding.weight.requires_grad = False\n",
        "        self.rnn =nn.RNN(embedding_dim, hidden_dim, num_layers=n_layers, batch_first=True, bidirectional=True)\n",
        "        self.fc = nn.Linear(hidden_dim*2,output_dim)\n",
        "\n",
        "    def forward(self, text):\n",
        "        embedded = self.embedding(text)\n",
        "\n",
        "        _, hidden = self.rnn(embedded)\n",
        "\n",
        "        # Concatenate the forward and backward hidden states\n",
        "        hidden = torch.cat((hidden[-2,:,:], hidden[-1,:,:]), dim=1)\n",
        "        # hidden shape: [batch size, hidden dim * 2]\n",
        "\n",
        "        return self.fc(hidden)\n",
        "\n"
      ],
      "metadata": {
        "id": "gHMAJVd1cE54"
      },
      "execution_count": 23,
      "outputs": []
    },
    {
      "cell_type": "code",
      "source": [
        "class LSTMmodel(nn.Module):\n",
        "    def __init__(self, vocab_size, embedding_dim, hidden_dim, output_dim, n_layers, embedding_matrix):\n",
        "        super().__init__()\n",
        "        self.embedding = nn.Embedding(vocab_size, embedding_dim)\n",
        "        self.embedding.weight.data.copy_(embedding_matrix)\n",
        "        self.embedding.weight.requires_grad = False\n",
        "        self.lstm = nn.LSTM(embedding_dim, hidden_dim, num_layers=n_layers, batch_first=True, bidirectional=True, dropout=0.5 if n_layers > 1 else 0)\n",
        "        self.fc = nn.Linear(hidden_dim*2, output_dim)\n",
        "\n",
        "    def forward(self, text):\n",
        "        embedded = self.embedding(text)\n",
        "\n",
        "        _, (hidden, _) = self.lstm(embedded)      #LSTM returns output, (final hidden state, final cell state)\n",
        "\n",
        "        # Concatenate the forward and backward hidden states\n",
        "        hidden = torch.cat((hidden[-2,:,:], hidden[-1,:,:]), dim=1)\n",
        "\n",
        "        return self.fc(hidden)"
      ],
      "metadata": {
        "id": "gs0DVQKQcE-5"
      },
      "execution_count": 24,
      "outputs": []
    },
    {
      "cell_type": "code",
      "source": [
        "def evaluate_model(model, loader, criterion):\n",
        "    model.eval()\n",
        "    preds, labels = [],[]\n",
        "    total_loss=0\n",
        "    num_batches =0\n",
        "\n",
        "    with torch.no_grad():\n",
        "        for inputs, labels_batch in loader:\n",
        "            inputs, labels_batch = inputs.to(device), labels_batch.to(device)\n",
        "\n",
        "            outputs = model(inputs).squeeze(1)\n",
        "            loss = criterion(outputs, labels_batch)\n",
        "            total_loss +=loss.item()\n",
        "            num_batches += 1\n",
        "\n",
        "            batch_preds = torch.round(torch.sigmoid(outputs))\n",
        "\n",
        "            preds.extend(batch_preds.cpu().numpy())\n",
        "            labels.extend(labels_batch.cpu().numpy())\n",
        "\n",
        "\n",
        "    if num_batches>0:\n",
        "      avg_loss = total_loss/num_batches\n",
        "    else:\n",
        "      avg_loss = 0\n",
        "\n",
        "    acc = accuracy_score(labels, preds)\n",
        "    f1 = f1_score(labels, preds)\n",
        "\n",
        "\n",
        "    return avg_loss, acc, f1, labels, preds"
      ],
      "metadata": {
        "id": "2t3mSLn0di1_"
      },
      "execution_count": 32,
      "outputs": []
    },
    {
      "cell_type": "code",
      "source": [
        "#RNN\n",
        "model_rnn = RNNmodel(vocab_size=len(vocab), embedding_dim=100, hidden_dim=128, output_dim=1, n_layers=2, embedding_matrix=embedding_matrix).to(device)\n",
        "\n",
        "criterion_rnn = nn.BCEWithLogitsLoss()\n",
        "optimizer_rnn = torch.optim.Adam(model_rnn.parameters(), lr=0.001)\n",
        "\n",
        "#training\n",
        "for epoch in range(4):\n",
        "    model_rnn.train()\n",
        "    total_loss_rnn = 0\n",
        "    num_batches_rnn = 0     #Counting batches for average loss calculations\n",
        "\n",
        "    for inputs, labels in train_loader:\n",
        "        inputs = inputs.to(device)\n",
        "        labels = labels.to(device)\n",
        "\n",
        "        optimizer_rnn.zero_grad()\n",
        "        outputs = model_rnn(inputs).squeeze(1)\n",
        "        loss = criterion_rnn(outputs, labels)\n",
        "        loss.backward()\n",
        "        optimizer_rnn.step()\n",
        "\n",
        "        total_loss_rnn += loss.item()\n",
        "        num_batches_rnn += 1\n",
        "\n",
        "    if num_batches_rnn>0:\n",
        "      avg_train_loss_rnn = total_loss_rnn/num_batches_rnn\n",
        "    else:\n",
        "      avg_train_loss_rnn = 0\n",
        "\n",
        "\n",
        "    print(f\"\\nEpoch: {epoch+1} Train Loss: {avg_train_loss_rnn:.6f}\")\n"
      ],
      "metadata": {
        "colab": {
          "base_uri": "https://localhost:8080/"
        },
        "id": "3IwqTz5HcYrK",
        "outputId": "080972db-ab23-42b0-cb76-c8a2eed47ca0"
      },
      "execution_count": 26,
      "outputs": [
        {
          "output_type": "stream",
          "name": "stdout",
          "text": [
            "\n",
            "Epoch: 1 Train Loss: 0.409489\n",
            "\n",
            "Epoch: 2 Train Loss: 0.397832\n",
            "\n",
            "Epoch: 3 Train Loss: 0.394803\n",
            "\n",
            "Epoch: 4 Train Loss: 0.378088\n"
          ]
        }
      ]
    },
    {
      "cell_type": "code",
      "source": [
        "#LSTM\n",
        "model_lstm = LSTMmodel(vocab_size=len(vocab), embedding_dim=100,hidden_dim=128,output_dim=1, n_layers=2,embedding_matrix=embedding_matrix).to(device)\n",
        "criterion_lstm=nn.BCEWithLogitsLoss()\n",
        "optimizer_lstm=torch.optim.Adam(model_lstm.parameters(), lr=0.001)\n",
        "\n",
        "#training loop\n",
        "for epoch in range(4):\n",
        "    model_lstm.train()\n",
        "    total_loss_lstm = 0\n",
        "    num_batches_lstm = 0\n",
        "\n",
        "\n",
        "    for inputs, labels in train_loader:\n",
        "\n",
        "        inputs = inputs.to(device)\n",
        "        labels = labels.to(device)\n",
        "\n",
        "        optimizer_lstm.zero_grad()\n",
        "        outputs = model_lstm(inputs).squeeze(1)\n",
        "        loss = criterion_lstm(outputs, labels)\n",
        "        loss.backward()\n",
        "        optimizer_lstm.step()\n",
        "\n",
        "        total_loss_lstm += loss.item()\n",
        "        num_batches_lstm += 1\n",
        "\n",
        "    if num_batches_lstm>0:\n",
        "      avg_train_loss_lstm = total_loss_lstm/ num_batches_lstm\n",
        "    else:\n",
        "      avg_train_loss_lstm = 0\n",
        "\n",
        "\n",
        "    print(f\"\\nEpoch: {epoch+1} Train Loss: {avg_train_loss_lstm:.6f}\")\n"
      ],
      "metadata": {
        "colab": {
          "base_uri": "https://localhost:8080/"
        },
        "id": "4D36p0xZcYt4",
        "outputId": "6bf8c9c6-9d09-4b82-b19d-3b8729bf0b0e"
      },
      "execution_count": 27,
      "outputs": [
        {
          "output_type": "stream",
          "name": "stdout",
          "text": [
            "\n",
            "Epoch: 1 Train Loss: 0.207435\n",
            "\n",
            "Epoch: 2 Train Loss: 0.146612\n",
            "\n",
            "Epoch: 3 Train Loss: 0.132165\n",
            "\n",
            "Epoch: 4 Train Loss: 0.123738\n"
          ]
        }
      ]
    },
    {
      "cell_type": "code",
      "source": [
        "#Evaluation\n",
        "_, acc_rnn, f1_rnn, true_labels_rnn, preds_rnn = evaluate_model(model_rnn, test_loader, criterion_rnn)\n",
        "print(f\"Test Accuracy (RNN): {acc_rnn*100:.6f}%\")\n",
        "print(f\"Test F1-Score (RNN): {f1_rnn:.6f}\")\n",
        "\n",
        "# Plot Confusion Matrix    (ChatGPT)\n",
        "cm_rnn = confusion_matrix(true_labels_rnn, preds_rnn)\n",
        "plt.figure(figsize=(6, 5))\n",
        "sns.heatmap(cm_rnn, annot=True, fmt='d', cmap='Blues',\n",
        "            xticklabels=['Negative', 'Positive'],\n",
        "            yticklabels=['Negative', 'Positive'])\n",
        "plt.xlabel('Predicted Label')\n",
        "plt.ylabel('True Label')\n",
        "plt.title('RNN Confusion Matrix')\n",
        "plt.show()"
      ],
      "metadata": {
        "colab": {
          "base_uri": "https://localhost:8080/",
          "height": 522
        },
        "id": "46mA6dQKcYyY",
        "outputId": "6bf636be-bc70-4d21-f987-4c690be38ba4"
      },
      "execution_count": 33,
      "outputs": [
        {
          "output_type": "stream",
          "name": "stdout",
          "text": [
            "Test Accuracy (RNN): 81.704395%\n",
            "Test F1-Score (RNN): 0.828627\n"
          ]
        },
        {
          "output_type": "display_data",
          "data": {
            "text/plain": [
              "<Figure size 600x500 with 2 Axes>"
            ],
            "image/png": "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\n"
          },
          "metadata": {}
        }
      ]
    },
    {
      "cell_type": "code",
      "source": [
        "# Evaluation\n",
        "_, acc_lstm, f1_lstm, true_labels_lstm, preds_lstm = evaluate_model(model_lstm, test_loader, criterion_lstm)\n",
        "print(f\"Test Accuracy (LSTM): {acc_lstm*100:.6f}%\")\n",
        "print(f\"Test F1 Score (LSTM): {f1_lstm:.6f}\")\n",
        "\n",
        "# Plot Confusion Matrix\n",
        "cm_lstm = confusion_matrix(true_labels_lstm, preds_lstm)\n",
        "plt.figure(figsize=(6, 5))\n",
        "sns.heatmap(cm_lstm, annot=True, fmt='d', cmap='Blues',\n",
        "            xticklabels=['Negative', 'Positive'],\n",
        "            yticklabels=['Negative', 'Positive'])\n",
        "plt.xlabel('Predicted Label')\n",
        "plt.ylabel('True Label')\n",
        "plt.title('LSTM Confusion Matrix')\n",
        "plt.show()"
      ],
      "metadata": {
        "colab": {
          "base_uri": "https://localhost:8080/",
          "height": 522
        },
        "id": "1uK-RswzcY1R",
        "outputId": "996017b2-3d67-4648-9d7e-cdd0a1195354"
      },
      "execution_count": 34,
      "outputs": [
        {
          "output_type": "stream",
          "name": "stdout",
          "text": [
            "Test Accuracy (LSTM): 95.073674%\n",
            "Test F1 Score (LSTM): 0.951429\n"
          ]
        },
        {
          "output_type": "display_data",
          "data": {
            "text/plain": [
              "<Figure size 600x500 with 2 Axes>"
            ],
            "image/png": "iVBORw0KGgoAAAANSUhEUgAAAhwAAAHWCAYAAAA8ZVAzAAAAOnRFWHRTb2Z0d2FyZQBNYXRwbG90bGliIHZlcnNpb24zLjEwLjAsIGh0dHBzOi8vbWF0cGxvdGxpYi5vcmcvlHJYcgAAAAlwSFlzAAAPYQAAD2EBqD+naQAAaZ5JREFUeJzt3XdYFOfaBvB7KbuACAKCgCKiKEpEsUTEbiRijS2xK1ijsSOKxG6MGI0RW+QYCxaMNRIFoyL2iFixi2JQooKVIiB9vj/4mLgBEXQLYe/fufY67swz7zyzcA7PvmVGIgiCACIiIiIl0lJ3AkRERFT+seAgIiIipWPBQURERErHgoOIiIiUjgUHERERKR0LDiIiIlI6FhxERESkdCw4iIiISOlYcBAREZHSseAgKkO2bt2KunXrQldXF5UqVVJ4+/PmzYNEIlF4u/9VDx48gEQiQWBgoLpTISr3WHDQRwsMDIREIsHFixeLjXv+/DkmTZqEunXrQl9fHxYWFmjWrBl8fHyQmpqKEydOQCKRlOj19nklEgnOnDlT6HyCIMDGxgYSiQTdunUr8fXs27cPnTt3RuXKlSGVSmFtbY2+ffvi2LFjpftgSunOnTvw9PRErVq18Msvv2DdunVKPZ+qFfysRo4cWeT+mTNnijEvXrwodfsHDx7EvHnzPjJLIlIWHXUnQJrh1atXaNq0KVJSUjB8+HDUrVsXL1++xLVr17B27VqMHTsW9erVw9atW+WO8/X1haGhIWbOnPnOtvX09LB9+3a0atVKbvvJkyfx6NEjyGSyEuUoCAKGDx+OwMBANGrUCF5eXrC0tER8fDz27duHDh064M8//0SLFi1K/wGUwIkTJ5CXl4cVK1bA3t5eKeeYNWsWZsyYoZS2S0JPTw979+7Fzz//DKlUKrfv119/hZ6eHjIyMj6o7YMHD2LNmjWlKjpsbW3x5s0b6OrqftA5iajkWHCQSmzYsAFxcXFF/sFOSUmBVCqFnp4eBg8eLLdv8eLFqFy5cqHtb+vSpQt2796NlStXQkfnn1/p7du3o0mTJiX+trxs2TIEBgZi8uTJ+Omnn+SGHmbOnImtW7fKta9oz549AwClDKUU0NHRUeo1vE+nTp2wf/9+/PHHH+jRo4e4/ezZs4iNjUWfPn2wd+9epeeRk5ODvLw88feOiJSPQyqkEvfv34e2tjaaN29eaJ+RkdFH/Z/+gAED8PLlS4SFhYnbsrKysGfPHgwcOLBEbbx58wZ+fn6oW7cufvzxxyLnOQwZMgTNmjUT3//111/46quvYGpqCgMDAzRv3hyhoaFyxxQME+3atQvff/89qlWrBj09PXTo0AExMTFiXI0aNTB37lwAgLm5OSQSifhN/e1/v61GjRrw9PQU32dnZ2P+/PmoXbs29PT0YGZmhlatWsl9LkXN4cjJycF3332HWrVqQSaToUaNGvj222+RmZlZ6HzdunXDmTNn0KxZM+jp6aFmzZrYsmVL8R/uW6pWrYo2bdpg+/btctuDgoLg5OSE+vXrFzrm9OnT+Oqrr1C9enXIZDLY2NhgypQpePPmjRjj6emJNWvWiJ/X20NvBfM0fvzxR/j7+4vXeevWrUJzOJ49ewZzc3O0a9cObz9IOyYmBhUqVEC/fv1KfK1EJI8FB6mEra0tcnNzCw2ZKEKNGjXg6uqKX3/9Vdz2xx9/IDk5Gf379y9RG2fOnMGrV68wcOBAaGtrvzf+6dOnaNGiBQ4fPoxvvvkG33//PTIyMvDFF19g3759heIXL16Mffv2wdvbG76+vjh37hwGDRok7vf390evXr0AAGvXrsXWrVvRu3fvEuVeYN68eZg/fz7at2+P1atXY+bMmahevTouX75c7HEjR47EnDlz0LhxYyxfvhxt27aFn59fkZ9dTEwMvvzyS3z++edYtmwZTExM4OnpiZs3b5Y4z4EDB+LAgQNITU0FkF/w7N69+53F4e7du5Geno6xY8di1apVcHd3x6pVqzB06FAx5uuvv8bnn38OIH/ibcHrbZs2bcKqVaswevRoLFu2DKampoXOZWFhgbVr1+LkyZNYtWoVACAvLw+enp6oWLEifv755xJfJxH9i0D0kTZt2iQAEC5cuPDOmISEBMHc3FwAINStW1cYM2aMsH37diEpKanYtj/55BOhbdu27z3v6tWrhYoVKwrp6emCIAjCV199JbRv314QBEGwtbUVunbtWux5VqxYIQAQ9u3bV2xcgcmTJwsAhNOnT4vbXr9+LdjZ2Qk1atQQcnNzBUEQhOPHjwsAhHr16gmZmZmFznf9+nVx29y5cwUAwvPnz+XOBUCYO3duoRxsbW0FDw8P8X3Dhg3fe50F5ygQFRUlABBGjhwpF+ft7S0AEI4dOyZ3PgDCqVOnxG3Pnj0TZDKZMHXq1GLPW3Ad48aNE169eiVIpVJh69atgiAIQmhoqCCRSIQHDx4U+RkU/Ezf5ufnJ0gkEuHhw4fitnHjxglF/V9abGysAEAwMjISnj17VuS+TZs2yW0fMGCAYGBgINy9e1dYunSpAEAIDg5+7zUS0buxh4NUokqVKrh69SrGjBmDxMREBAQEYODAgbCwsMB3330n1339Ifr27Ys3b94gJCQEr1+/RkhISImHU4D8eSQAULFixRLFHzx4EM2aNZObqGpoaIjRo0fjwYMHuHXrllz8sGHD5CZJtm7dGkD+sIyiVKpUCTdv3sS9e/dKfMzBgwcBAF5eXnLbp06dCgCFhogcHR3F3IH84R8HB4dSXYeJiQk6deok9kht374dLVq0gK2tbZHx+vr64r/T0tLw4sULtGjRAoIg4MqVKyU+b58+fWBubl6i2NWrV8PY2BhffvklZs+ejSFDhsjNOSGi0mPBQSpjZWWFtWvXIj4+HtHR0Vi5ciXMzc0xZ84cbNiw4aPaNjc3h5ubG7Zv347ffvsNubm5+PLLL0t8vJGREQDg9evXJYp/+PAhHBwcCm2vV6+euP9t1atXl3tvYmICAEhMTCxxju+zYMECJCUloU6dOnBycsK0adNw7dq1Yo95+PAhtLS0Cq2KsbS0RKVKld57HUD+tZT2OgYOHIiwsDDExcUhODi42OIwLi4Onp6eMDU1haGhIczNzdG2bVsAQHJyconPaWdnV+JYU1NTrFy5EteuXYOxsTFWrlxZ4mOJqGgsOEjlJBIJ6tSpgwkTJuDUqVPQ0tJCUFDQR7c7cOBA/PHHHwgICEDnzp1Ltdqjbt26AIDr169/dB5Fede8kI/p2cnNzZV736ZNG9y/fx8bN25E/fr1sX79ejRu3Bjr169/b1slvRmYoq7jiy++gEwmg4eHBzIzM9G3b98i43Jzc/H5558jNDQUPj4+CA4ORlhYmDjJMy8vr8TnfLunpCQOHz4MIL8ofPToUamOJaLCWHCQWtWsWRMmJiaIj4//6LZ69eoFLS0tnDt3rlTDKQDQqlUrmJiY4Ndffy30h7wotra2iI6OLrT9zp074n5FMTExQVJSkty2rKysIj8zU1NTDBs2DL/++iv+/vtvNGjQoNj7Utja2iIvL6/QMMzTp0+RlJSk0Ot4m76+Pnr27IkTJ07g888/R+XKlYuMu379Ou7evYtly5bBx8cHPXr0gJubG6ytrQvFKvIOqocOHcL69esxffp0mJubw8PDAzk5OQprn0gTseAglYiMjERaWlqh7efPn8fLly+LHJ4oLUNDQ6xduxbz5s1D9+7dS3WsgYEBfHx8cPv2bfj4+BT5jX3btm04f/48gPx7f5w/fx4RERHi/rS0NKxbtw41atSAo6Pjx13MW2rVqoVTp07JbVu3bl2hwujly5dy7w0NDWFvb19oeevbunTpAiB/lczbfvrpJwBA165dPzTt9/L29sbcuXMxe/bsd8YU9Ki8/fMQBAErVqwoFFuhQgUAKFSclVZSUhJGjhyJZs2aYdGiRVi/fj0uX76MRYsWfVS7RJqON/4ihdm4cSMOHTpUaPukSZOwdetWBAUFoVevXmjSpAmkUilu376NjRs3Qk9PD99++61CcvDw8PjgY6dNm4abN29i2bJlOH78OL788ktYWloiISEBwcHBOH/+PM6ePQsAmDFjBn799Vd07twZEydOhKmpKTZv3ozY2Fjs3bsXWlqKq+VHjhyJMWPGoE+fPvj8889x9epVHD58uFCvgKOjI9q1a4cmTZrA1NQUFy9exJ49ezB+/Ph3tt2wYUN4eHhg3bp1SEpKQtu2bXH+/Hls3rwZPXv2RPv27RV2HUWdu2HDhsXG1K1bF7Vq1YK3tzceP34MIyMj7N27t8g5I02aNAEATJw4Ee7u7tDW1i7xsui3TZo0CS9fvsTRo0ehra2NTp06YeTIkVi4cCF69Ojx3pyJqGgsOEhh1q5dW+R2T09PfP311zAwMEB4eDh+//13pKSkwNzcHB07doSvry8aNWqk4mwL09LSwpYtW9CjRw+sW7cOP/74o5hnmzZtsGTJEri6ugLIX3Vz9uxZ+Pj4YNWqVcjIyECDBg1w4MABhfcKjBo1CrGxsdiwYQMOHTqE1q1bIywsDB06dJCLmzhxIvbv348jR44gMzMTtra2WLhwIaZNm1Zs++vXr0fNmjURGBiIffv2wdLSEr6+vuKNyNRJV1cXBw4cwMSJE+Hn5wc9PT306tUL48ePL/SHv3fv3pgwYQJ27NiBbdu2QRCEUhcc+/fvx5YtW7Bs2TJxXg+Q3+MTFhYGDw8PXLhwgbdCJ/oAEuFj1yMSERERvQfncBAREZHSseAgIiIipWPBQURERErHgoOIiIiUjgUHERERKR0LDiIiIlI6FhxERESkdOXyxl/6zX3UnQKR0j074afuFIiUrqKecr8X6zd69514S+vNldUKa6s8KpcFBxERUYlI2NGvKvykiYiISOnYw0FERJpLIlF3BhqDBQcREWkuDqmoDD9pIiIiUjr2cBARkebikIrKsOAgIiLNxSEVleEnTURERErHHg4iItJcHFJRGRYcRESkuTikojL8pImIiEjp2MNBRESai0MqKsOCg4iINBeHVFSGnzQREREpHXs4iIhIc3FIRWVYcBARkebikIrK8JMmIiIipWMPBxERaS4OqagMCw4iItJcHFJRGX7SREREpHTs4SAiIs3FHg6VYcFBRESaS4tzOFSFpR0REREpHXs4iIhIc3FIRWVYcBARkebisliVYWlHRERESsceDiIi0lwcUlEZFhxERKS5OKSiMiztiIiISOnYw0FERJqLQyoqw4KDiIg0F4dUVIalHRERESkdCw4iItJcEi3FvUrh1KlT6N69O6ytrSGRSBAcHCyflkRS5Gvp0qViTI0aNQrtX7x4sVw7165dQ+vWraGnpwcbGxssWbKkUC67d+9G3bp1oaenBycnJxw8eFBuvyAImDNnDqysrKCvrw83Nzfcu3evVNcLsOAgIiJNJpEo7lUKaWlpaNiwIdasWVPk/vj4eLnXxo0bIZFI0KdPH7m4BQsWyMVNmDBB3JeSkoKOHTvC1tYWly5dwtKlSzFv3jysW7dOjDl79iwGDBiAESNG4MqVK+jZsyd69uyJGzduiDFLlizBypUrERAQgMjISFSoUAHu7u7IyMgo1TVzDgcREZGKde7cGZ07d37nfktLS7n3v//+O9q3b4+aNWvKba9YsWKh2AJBQUHIysrCxo0bIZVK8cknnyAqKgo//fQTRo8eDQBYsWIFOnXqhGnTpgEAvvvuO4SFhWH16tUICAiAIAjw9/fHrFmz0KNHDwDAli1bUKVKFQQHB6N///4lvmb2cBARkeZS4JBKZmYmUlJS5F6ZmZkfneLTp08RGhqKESNGFNq3ePFimJmZoVGjRli6dClycnLEfREREWjTpg2kUqm4zd3dHdHR0UhMTBRj3Nzc5Np0d3dHREQEACA2NhYJCQlyMcbGxnBxcRFjSooFBxERaS4FDqn4+fnB2NhY7uXn5/fRKW7evBkVK1ZE79695bZPnDgRO3bswPHjx/H1119j0aJFmD59urg/ISEBVapUkTum4H1CQkKxMW/vf/u4omJKikMqRERECuDr6wsvLy+5bTKZ7KPb3bhxIwYNGgQ9PT257W+fq0GDBpBKpfj666/h5+enkPMqGns4iIhIcylwSEUmk8HIyEju9bF/+E+fPo3o6GiMHDnyvbEuLi7IycnBgwcPAOTPA3n69KlcTMH7gnkf74p5e//bxxUVU1IsOIiISHOpaVlsSW3YsAFNmjRBw4YN3xsbFRUFLS0tWFhYAABcXV1x6tQpZGdnizFhYWFwcHCAiYmJGBMeHi7XTlhYGFxdXQEAdnZ2sLS0lItJSUlBZGSkGFNSHFIhIiJSsdTUVMTExIjvY2NjERUVBVNTU1SvXh1A/h/23bt3Y9myZYWOj4iIQGRkJNq3b4+KFSsiIiICU6ZMweDBg8ViYuDAgZg/fz5GjBgBHx8f3LhxAytWrMDy5cvFdiZNmoS2bdti2bJl6Nq1K3bs2IGLFy+KS2clEgkmT56MhQsXonbt2rCzs8Ps2bNhbW2Nnj17luqaWXAQEZHmUtOtzS9evIj27duL7wvmY3h4eCAwMBAAsGPHDgiCgAEDBhQ6XiaTYceOHZg3bx4yMzNhZ2eHKVOmyM3rMDY2xpEjRzBu3Dg0adIElStXxpw5c8QlsQDQokULbN++HbNmzcK3336L2rVrIzg4GPXr1xdjpk+fjrS0NIwePRpJSUlo1aoVDh06VGhOyftIBEEQSnXEf4B+cx91p0CkdM9OfPzsd6KyrqKeckf+9Xv8T2Ftvfn9a4W1VR5xDgcREREpHYdUiIhIc/FpsSrDgoOIiDSXklaXUGH8pImIiEjp2MNBRESai0MqKsOCg4iINJaEBYfKcEiFiIiIlI49HEREpLHYw6E6LDiIiEhzsd5QGQ6pEBERkdKxh4OIiDQWh1RUhwUHERFpLBYcqsMhFSIiIlI69nAQEZHGYg+H6rDgICIijcWCQ3U4pEJERERKxx4OIiLSXOzgUBkWHEREpLE4pKI6HFIhIiIipWMPBxERaSz2cKgOCw4iItJYLDhUh0MqREREpHTs4SAiIo3FHg7VYcFBRESai/WGynBIhYiIiJSuzBQcp0+fxuDBg+Hq6orHjx8DALZu3YozZ86oOTMiIiqvJBKJwl5UvDJRcOzduxfu7u7Q19fHlStXkJmZCQBITk7GokWL1JwdERGVVyw4VKdMFBwLFy5EQEAAfvnlF+jq6orbW7ZsicuXL6sxMyIiIlKEMjFpNDo6Gm3atCm03djYGElJSapPiIiINAJ7JlSnTPRwWFpaIiYmptD2M2fOoGbNmmrIiIiINIJEgS8qVpkoOEaNGoVJkyYhMjISEokET548QVBQELy9vTF27Fh1p0dEREQfqUwMqcyYMQN5eXno0KED0tPT0aZNG8hkMnh7e2PChAnqTo+IiMopDqmoTpkoOCQSCWbOnIlp06YhJiYGqampcHR0hKGhobpTIyKicowFh+qUiSGVbdu2IT09HVKpFI6OjmjWrBmLDSIionKkTBQcU6ZMgYWFBQYOHIiDBw8iNzdX3SkREZEG4H04VKdMFBzx8fHYsWMHJBIJ+vbtCysrK4wbNw5nz55Vd2pERFSOseBQnTJRcOjo6KBbt24ICgrCs2fPsHz5cjx48ADt27dHrVq11J0eERERfaQyMWn0bQYGBnB3d0diYiIePnyI27dvqzslIiIqr9gxoTJlpuBIT0/Hvn37EBQUhPDwcNjY2GDAgAHYs2ePulMjIqJyikMhqlMmCo7+/fsjJCQEBgYG6Nu3L2bPng1XV1d1p0VEREQKUiYKDm1tbezatQvu7u7Q1tZWdzpERKQh2MOhOmVi0mhQUBC6dOnCYoOIiFRKXatUTp06he7du8Pa2hoSiQTBwcFy+z09PQu136lTJ7mYV69eYdCgQTAyMkKlSpUwYsQIpKamysVcu3YNrVu3hp6eHmxsbLBkyZJCuezevRt169aFnp4enJyccPDgQbn9giBgzpw5sLKygr6+Ptzc3HDv3r1SXS+gxh6OlStXYvTo0dDT08PKlSuLjZ04caKKsiIiIlK+tLQ0NGzYEMOHD0fv3r2LjOnUqRM2bdokvpfJZHL7Bw0ahPj4eISFhSE7OxvDhg3D6NGjsX37dgBASkoKOnbsCDc3NwQEBOD69esYPnw4KlWqhNGjRwMAzp49iwEDBsDPzw/dunXD9u3b0bNnT1y+fBn169cHACxZsgQrV67E5s2bYWdnh9mzZ8Pd3R23bt2Cnp5eia9ZIgiCUKpPSUHs7Oxw8eJFmJmZwc7O7p1xEokEf/31V6na1m/u87HpEZV5z074qTsFIqWrqKfcjnib8b8rrK2/V/f4oOMkEgn27duHnj17its8PT2RlJRUqOejwO3bt+Ho6IgLFy6gadOmAIBDhw6hS5cuePToEaytrbF27VrMnDkTCQkJkEqlAPKfXRYcHIw7d+4AAPr164e0tDSEhISIbTdv3hzOzs4ICAiAIAiwtrbG1KlT4e3tDQBITk5GlSpVEBgYiP79+5f4OtU2pBIbGwszMzPx3+96lbbYICIiKilFDqlkZmYiJSVF7pWZmfnBuZ04cQIWFhZwcHDA2LFj8fLlS3FfREQEKlWqJBYbAODm5gYtLS1ERkaKMW3atBGLDQBwd3dHdHQ0EhMTxRg3Nze587q7uyMiIgJA/t/nhIQEuRhjY2O4uLiIMSVVJuZwLFiwAOnp6YW2v3nzBgsWLFBDRkRERKXj5+cHY2NjuZef34f1RHbq1AlbtmxBeHg4fvjhB5w8eRKdO3cWH/2RkJAACwsLuWN0dHRgamqKhIQEMaZKlSpyMQXv3xfz9v63jysqpqTKRMExf/78QhNdgPx7c8yfP18NGRERkSZQZA+Hr68vkpOT5V6+vr4flFf//v3xxRdfwMnJCT179kRISAguXLiAEydOKPYDUKEysSxWEIQiZ/hevXoVpqamasiofGnpbIcpg9ugsUM1WJkboe/0zThw6pa4v4K+FAu/6YzubT+BqZEBHsS/ws+7/sT6ffndctWtTBC9b0aRbQ/6dht+O3YdTvZW8B7aDi0a1oCZcQU8TEjE+t/OYc2uP8XYFg1rYOG4zqhjaw4DmRRxCYnYEByJVTvOiDF39vnA1qrwzzxgz1lM+VFxY62kGS5fuoCtgRtx+/ZNvHj+HD8uX4V2n+V3DedkZ+Pn1Svw55lTePzoEQwrGqKZiysmTJoK8///5njxwnmMGelRZNubg3bhk/pOAIB7d6Pxw6LvcOvmdZiYmKLvgEHwGDZSLv7okUNYu2Yl4p88hk11W0yYPBWtWrdV4tVTSShyWaxMJis0sVNRatasicqVKyMmJgYdOnSApaUlnj17JheTk5ODV69ewdLSEgBgaWmJp0+fysUUvH9fzNv7C7ZZWVnJxTg7O5fqGtRacJiYmIiVYZ06deR+8Lm5uUhNTcWYMWPUmGH5UEFfiuv34rHlwEXs/GFoof0/TOqGdk1qYdi8HXgYnwi3ZrWxYlpPxL9IQejp23j0NAk1unwnd8zwni6YMqgtDkdEAwAa1a2K54mpGDZvBx49TUbzBrZYM6M3cvPyELAnf5wv7U0WAnafxfWYBKRlZKFFwxpY7dMbaW+ysPH38wCAVsNWQ1vrn98Dx1qWOLhqFH47dl1ZHw+VY2/evEFtBwd80bM3pnnJr3bLyMjAnTu3MHL0WNR2qIvXKcn48Qc/eE36Blt/zb/DcUNnZxwKPyV3XMCalbgQeQ6On+TP4E9NTcX4MSPRzMUVvrPmIubeXSyYNwsVKxqh95d9AQBXo65g5gxvjJs4Ba3btMOhgyHwnjwB23bsgX3tOir4JOi/7tGjR3j58qX4R9/V1RVJSUm4dOkSmjRpAgA4duwY8vLy4OLiIsbMnDkT2dnZ0NXVBQCEhYXBwcEBJiYmYkx4eDgmT54snissLEy8+aadnR0sLS0RHh4uFhgpKSmIjIzE2LFjS3UNai04/P39IQgChg8fjvnz58PY2FjcJ5VKUaNGDd5xVAGORETjyP8XBkVp7mSLbQcv4/Tl/Am6G38/jxG9XNDU0Qahp28jL0/A01fyQ15ftP0Ee8OvIe1NFgBgS8hFuf0PnryCS/3q6NGuvlhwXL37BFfvPhFj4uIT0bNdfbR0thMLjhdJaXLteA+th/t/vxBzIyqNlq3aoGWrNkXuM6xYET//b6Pctum+s+AxqC8S4p/A0soaurpSVK5sLu7Pyc7GyePH0G/AIPEL0qGDB5CdnY05CxZCV1eKWva1cTf6DoK2BooFx46gLXBt0QpDPUcAAMaOn4TIc2exa8d2fDt7nhKunEpKXTf+Sk1NRUxMjPg+NjYWUVFRMDU1hampKebPn48+ffrA0tIS9+/fx/Tp02Fvbw93d3cAQL169dCpUyeMGjUKAQEByM7Oxvjx49G/f39YW1sDAAYOHIj58+djxIgR8PHxwY0bN7BixQosX75cPO+kSZPQtm1bLFu2DF27dsWOHTtw8eJFrFu3DkD+5zN58mQsXLgQtWvXFpfFWltby62qKQm1FhweHvldlXZ2dmjRooVYgZFqnbv+EN1a18OWkAt48jwFbRrXRG0bc0z3DykyvpFDVTg7VH3vEIexoR4SU968c3/DOtZwcbLF/P8dLnK/ro42+ndqhJW/ni75xRB9hNTU15BIJDCsaFTk/pMnjyM5OQnde/5z34RrV6PQqElT6Or+sxLAtUUrbN60HikpyTAyMsa1a1cxaIj80Ixri1Y4cTxcORdCJaemG41evHgR7du3F997eXkByP+7uHbtWly7dg2bN29GUlISrK2t0bFjR3z33XdyQzZBQUEYP348OnToAC0tLfTp00fuvlbGxsY4cuQIxo0bhyZNmqBy5cqYM2eOeA8OAGjRogW2b9+OWbNm4dtvv0Xt2rURHBws3oMDAKZPn460tDSMHj0aSUlJaNWqFQ4dOlSqe3AAZWQOR9u2/4xjZmRkICsrS26/kVHR/+MHgMzMzELLjoS8HEi0ysSl/Sd4Lfsda2b0wf0DM5Gdk4u8PAHf+O3Fn1GxRcZ7fPEpbsc+xbnrD9/ZZnMnW3zp1hC9vDYV2hez/1tUrlQBOtpaWLj+KAL3XyiyjS/afoJKhnrYFnqxyP1EipSZmYlV/svg3rkrDA0Ni4z5fd8eNG/RElWqWIrbXr54Aeuq1eTiTP9/yf/LFy9gZGSMly9ewNSscqGYly9eKPgq6L+iXbt2KO42WIcPF/1F7G2mpqbiTb7epUGDBjh9uvgvbV999RW++uqrd+6XSCRYsGDBR68aLRN/ldPT0zF9+nTs2rVLbp1xgYJlQEXx8/MrtJJFu2oL6FZrpfA8y6tvvmqJZvWro493IOISEtHK2Q7+3vlzOI5fiJGL1ZPpoF9HZyze9O5vZo41q2DXkqH4fsNRhJ8vfPvbDl+vhaGBDM3qV8d333TCX49eYFfY1UJxHt0/xeFz0Yh/8frjL5KoGDnZ2ZgxbQoEQcCMmXOLjHn6NAHnzv4Jv6XLi9xP/018lorqlIllsdOmTcOxY8ewdu1ayGQyrF+/HvPnz4e1tTW2bNlS7LFFLUPSsW6uosz/+/RkOpg/1h0+K0Jw8Mxt3IhJQMCeCOwJv4rJAwuPffdq7wQDPV0EHbxcZHt1a1jg4OpR2Pj7efyw6ViRMQ/jE3HzfgI2/X4eq3acwcyRnxeKqW5ZCZ99ao/A34vu/SBSlIJiIyH+Cdb8b8M7ezcOBP8GY+NKaNu2vdx2s8qV8eqV/BelV///xcmscuV/Yl6+KBRTsJ/UR13PUtFEZaLgOHDgAH7++Wf06dMHOjo6aN26NWbNmoVFixYhKCio2GNlMhmMjIzkXhxOKTldbW1IdXWQ96+uvdxcAVpahf8H5PnFpwg9fbvQ5E4AqGdXBYd+Ho2gg5cwL+D93YEAoCWRQCYt/NC+Id2a4lliKv44e6eEV0JUegXFRlzcQ/z8v42oVMmkyDhBEHDg933o2r0HdP4116xBQ2dcuXQROdnZ4rbIc2dhW8MORkb5E+EbNGiIC5Hn5I6LPHcWTg2cFXtBRGVYmSg4Xr16hZo1awLIn6/x6tUrAECrVq1w6tSp4g6lEqigL0WD2lZoUDt/OVUNa1M0qG0FmyqV8Do9E6cu38ei8V3QunFN2FqZYHDXJhjUuTH2n7wp107NamZo5WyHTfvPFzqHY80qOLRmNMIj72Hl9tOoYmqIKqaGqFypghjzdR9XdGlVD7VszFDLxgwe3T/F5EFt8OuhK3JtSSQSDO3aFEEHLyE3N08JnwhpivT0NETfuY3oO7cBAI8fP0L0ndtIiH+CnOxsTPeejNu3bmKh31Lk5uXixYvnePHiObKz5eeRXTh/Do8fP0LP3l8WOkenzt2gq6uLBfNm4X7MPRw5dBC/Bm3FoCGeYkz/QUNx9uwZbNu8CQ9i/8L/1q7GrZs30bf/QKVeP72fRKK4FxWvTHQF1KxZE7GxsahevTrq1q2LXbt2oVmzZjhw4AAqVaqk7vT+8xrXq4YjP38tvl8yuTsAYGvoRYz+bjeGztqOBd90RuC8/jAxMkBcQiLm/e8wfvlN/huZR7emePwsBUcjC8/L6PWZEyxMDTGwc2MM7NxY3P4w/hXq9voBAKClJcGCsZ1Qw9oUObl5+OvxS8xa84d4g7ECn31qj+pWJth8gJNF6ePcunlT7sZdy3/M/13s9kVPjB4zHqdO5A/7DezbS+64gPWb0fTTZuL73/ftRQPnRqhhV7PQOQwrVsTqgPX4YdF3GDLgS1SqZIKRX48Vl8QCQEPnRvjebyl+Xr0Ca1Yth011W/zov4r34CgDOBSiOmp7Wuzbli9fDm1tbUycOBFHjx5F9+7dIQgCsrOz8dNPP2HSpEmlao9PiyVNwKfFkiZQ9tNia087pLC27i3tpLC2yqMy0cMxZcoU8d9ubm64c+cOLl26BHt7ezRo0ECNmRERUXnGDg7VKRMFx7/Z2trC1tZW3WkQEVE5xyEV1SkTBcfbd0Z7m0QigZ6eHuzt7dGmTRtoaxdezUBERERlX5koOJYvX47nz58jPT1dfKBMYmIiDAwMYGhoiGfPnqFmzZo4fvw4bGxs1JwtERGVF+zgUJ0ysSx20aJF+PTTT3Hv3j28fPkSL1++xN27d+Hi4oIVK1YgLi4OlpaWcnM9iIiIPpaWlkRhLypemejhmDVrFvbu3YtatWqJ2+zt7fHjjz+iT58++Ouvv7BkyRL06dNHjVkSERHRhyoTBUd8fDxycnIKbc/JyUFCQgIAwNraGq9f85kaRESkOBxSUZ0yMaTSvn17fP3117hy5Z87Tl65cgVjx47FZ599BgC4fv067Ozs1JUiERERfYQyUXBs2LABpqamaNKkCWQyGWQyGZo2bQpTU1Ns2LABAGBoaIhly5apOVMiIipP+PA21SkTQyqWlpYICwvDnTt3cPfuXQCAg4MDHBwcxJj27du/63AiIqIPwjpBdcpEwVGgZs2akEgkqFWrFnR0ylRqRERE9BHKxJBKeno6RowYAQMDA3zyySeIi4sDAEyYMAGLFy9Wc3ZERFRecUhFdcpEweHr64urV6/ixIkT0NPTE7e7ublh586dasyMiIjKMxYcqlMmxi2Cg4Oxc+dONG/eXO6H9sknn+D+/ftqzIyIiIgUoUwUHM+fP4eFhUWh7WlpaawaiYhIafgnRnXKxJBK06ZNERoaKr4vKDLWr18PV1dXdaVFRETlHIdUVKdM9HAsWrQInTt3xq1bt5CTk4MVK1bg1q1bOHv2LE6ePKnu9IiIiOgjlYkejlatWiEqKgo5OTlwcnLCkSNHYGFhgYiICDRp0kTd6RERUTklkSjuRcUrEz0cAFCrVi388ssv6k6DiIg0CIdCVEetBYeWltZ7f9gSiaTIB7sRERHRf4daC459+/a9c19ERARWrlyJvLw8FWZERESahB0cqqPWgqNHjx6FtkVHR2PGjBk4cOAABg0ahAULFqghMyIi0gQcUlGdMjFpFACePHmCUaNGwcnJCTk5OYiKisLmzZtha2ur7tSIiIjoI6m94EhOToaPjw/s7e1x8+ZNhIeH48CBA6hfv766UyMionKOq1RUR61DKkuWLMEPP/wAS0tL/Prrr0UOsRARESkLh1RUR60Fx4wZM6Cvrw97e3ts3rwZmzdvLjLut99+U3FmREREpEhqLTiGDh3K6pKIiNSGf4JUR60FR2BgoDpPT0REGo5felVH7ZNGiYiIqPwrM7c2JyIiUjV2cKgOCw4iItJYHFJRHQ6pEBERkdKxh4OIiDQWOzhUhwUHERFpLA6pqA6HVIiIiEjpWHAQEZHGkkgkCnuVxqlTp9C9e3dYW1tDIpEgODhY3JednQ0fHx84OTmhQoUKsLa2xtChQ/HkyRO5NmrUqFEoh8WLF8vFXLt2Da1bt4aenh5sbGywZMmSQrns3r0bdevWhZ6eHpycnHDw4EG5/YIgYM6cObCysoK+vj7c3Nxw7969Ul0vwIKDiIg0mLoe3paWloaGDRtizZo1hfalp6fj8uXLmD17Ni5fvozffvsN0dHR+OKLLwrFLliwAPHx8eJrwoQJ4r6UlBR07NgRtra2uHTpEpYuXYp58+Zh3bp1YszZs2cxYMAAjBgxAleuXEHPnj3Rs2dP3LhxQ4xZsmQJVq5ciYCAAERGRqJChQpwd3dHRkZGqa5ZIgiCUKoj/gP0m/uoOwUipXt2wk/dKRApXUU95X4vbrv8T4W1deSbpsjMzJTbJpPJIJPJij1OIpFg37596Nmz5ztjLly4gGbNmuHhw4eoXr06gPwejsmTJ2Py5MlFHrN27VrMnDkTCQkJkEqlAPKfYRYcHIw7d+4AAPr164e0tDSEhISIxzVv3hzOzs4ICAiAIAiwtrbG1KlT4e3tDSD/Ke9VqlRBYGAg+vfvX+y1vY09HEREpLEUOaTi5+cHY2NjuZefn2K+GCQnJ0MikaBSpUpy2xcvXgwzMzM0atQIS5cuRU5OjrgvIiICbdq0EYsNAHB3d0d0dDQSExPFGDc3N7k23d3dERERAQCIjY1FQkKCXIyxsTFcXFzEmJLiKhUiItJYilyk4uvrCy8vL7lt7+vdKImMjAz4+PhgwIABMDIyErdPnDgRjRs3hqmpKc6ePQtfX1/Ex8fjp59+AgAkJCTAzs5Orq0qVaqI+0xMTJCQkCBuezsmISFBjHv7uKJiSooFBxERkQKUZPiktLKzs9G3b18IgoC1a9fK7Xu7uGnQoAGkUim+/vpr+Pn5KTwPReCQChERaSx1rVIpiYJi4+HDhwgLC5Pr3SiKi4sLcnJy8ODBAwCApaUlnj59KhdT8N7S0rLYmLf3v31cUTElxYKDiIg0lrpWqbxPQbFx7949HD16FGZmZu89JioqClpaWrCwsAAAuLq64tSpU8jOzhZjwsLC4ODgABMTEzEmPDxcrp2wsDC4uroCAOzs7GBpaSkXk5KSgsjISDGmpDikQkREpGKpqamIiYkR38fGxiIqKgqmpqawsrLCl19+icuXLyMkJAS5ubnifAlTU1NIpVJEREQgMjIS7du3R8WKFREREYEpU6Zg8ODBYjExcOBAzJ8/HyNGjICPjw9u3LiBFStWYPny5eJ5J02ahLZt22LZsmXo2rUrduzYgYsXL4pLZyUSCSZPnoyFCxeidu3asLOzw+zZs2FtbV3sqpqicFks0X8Ul8WSJlD2stjPV59TWFth45uXOPbEiRNo3759oe0eHh6YN29eocmeBY4fP4527drh8uXL+Oabb3Dnzh1kZmbCzs4OQ4YMgZeXl9z8jWvXrmHcuHG4cOECKleujAkTJsDHR/5v5O7duzFr1iw8ePAAtWvXxpIlS9ClSxdxvyAImDt3LtatW4ekpCS0atUKP//8M+rUqVPi6wVYcBD9Z7HgIE2g7IKj4xrFFRxHxpW84NBEnMNBRERESsc5HEREpLH4tFjVYcFBREQaS4v1hspwSIWIiIiUjj0cRESksTikojosOIiISGOx3lAdDqkQERGR0rGHg4iINJYE7OJQFRYcRESksbhKRXU4pEJERERKxx4OIiLSWFylojolKjiuXbtW4gYbNGjwwckQERGpEusN1SlRweHs7AyJRIJ3PeetYJ9EIkFubq5CEyQiIqL/vhIVHLGxscrOg4iISOW02MWhMiUqOGxtbZWdBxERkcqx3lCdD1qlsnXrVrRs2RLW1tZ4+PAhAMDf3x+///67QpMjIiKi8qHUBcfatWvh5eWFLl26ICkpSZyzUalSJfj7+ys6PyIiIqWRSCQKe1HxSl1wrFq1Cr/88gtmzpwJbW1tcXvTpk1x/fp1hSZHRESkTBKJ4l5UvFIXHLGxsWjUqFGh7TKZDGlpaQpJioiIiMqXUhccdnZ2iIqKKrT90KFDqFevniJyIiIiUgktiURhLypeqe806uXlhXHjxiEjIwOCIOD8+fP49ddf4efnh/Xr1ysjRyIiIqVgmaA6pS44Ro4cCX19fcyaNQvp6ekYOHAgrK2tsWLFCvTv318ZORIREdF/3Ac9S2XQoEEYNGgQ0tPTkZqaCgsLC0XnRUREpHRcXaI6H/zwtmfPniE6OhpA/g/M3NxcYUkRERGpAh9PrzqlnjT6+vVrDBkyBNbW1mjbti3atm0La2trDB48GMnJycrIkYiIiP7jSl1wjBw5EpGRkQgNDUVSUhKSkpIQEhKCixcv4uuvv1ZGjkRERErBG3+pTqmHVEJCQnD48GG0atVK3Obu7o5ffvkFnTp1UmhyREREysQ6QXVK3cNhZmYGY2PjQtuNjY1hYmKikKSIiIiofCl1wTFr1ix4eXkhISFB3JaQkIBp06Zh9uzZCk2OiIhImTikojolGlJp1KiR3Id57949VK9eHdWrVwcAxMXFQSaT4fnz55zHQURE/xlcpaI6JSo4evbsqeQ0iIiIqDwrUcExd+5cZedBRESkchwKUZ0PvvEXERHRfx3LDdUpdcGRm5uL5cuXY9euXYiLi0NWVpbc/levXiksOSIiIiofSr1KZf78+fjpp5/Qr18/JCcnw8vLC71794aWlhbmzZunhBSJiIiUg4+nV51SFxxBQUH45ZdfMHXqVOjo6GDAgAFYv3495syZg3PnzikjRyIiIqWQSBT3ouKVuuBISEiAk5MTAMDQ0FB8fkq3bt0QGhqq2OyIiIioXCh1wVGtWjXEx8cDAGrVqoUjR44AAC5cuACZTKbY7IiIiJSIN/5SnVIXHL169UJ4eDgAYMKECZg9ezZq166NoUOHYvjw4QpPkIiISFk4pKI6pV6lsnjxYvHf/fr1g62tLc6ePYvatWuje/fuCk2OiIiIyodS93D8W/PmzeHl5QUXFxcsWrRIETkRERGphLpWqZw6dQrdu3eHtbU1JBIJgoOD5fYLgoA5c+bAysoK+vr6cHNzw7179+RiXr16hUGDBsHIyAiVKlXCiBEjkJqaKhdz7do1tG7dGnp6erCxscGSJUsK5bJ7927UrVsXenp6cHJywsGDB0udS0l8dMFRID4+ng9vIyKi/xR1DamkpaWhYcOGWLNmTZH7lyxZgpUrVyIgIACRkZGoUKEC3N3dkZGRIcYMGjQIN2/eRFhYGEJCQnDq1CmMHj1a3J+SkoKOHTvC1tYWly5dwtKlSzFv3jysW7dOjDl79iwGDBiAESNG4MqVK+jZsyd69uyJGzdulCqXkpAIgiCU6oh3uHr1Kho3bozc3FxFNPdR9Jv7qDsFIqV7dsJP3SkQKV1FPYV9Ly7SN7/dUlhbP/d2/KDjJBIJ9u3bJz63TBAEWFtbY+rUqfD29gYAJCcno0qVKggMDET//v1x+/ZtODo64sKFC2jatCkA4NChQ+jSpQsePXoEa2trrF27FjNnzkRCQgKkUikAYMaMGQgODsadO3cA5E+NSEtLQ0hIiJhP8+bN4ezsjICAgBLlUlLK/UkSERGVYYpcpZKZmYmUlBS5V2ZmZqlzio2NRUJCAtzc3MRtxsbGcHFxQUREBAAgIiIClSpVEosNAHBzc4OWlhYiIyPFmDZt2ojFBgC4u7sjOjoaiYmJYszb5ymIKThPSXIpqXL5LJXEMz+oOwUipTP5dLy6UyBSujdXViu1fUV+6/bz88P8+fPlts2dO7fUd+FOSEgAAFSpUkVue5UqVcR9CQkJsLCwkNuvo6MDU1NTuRg7O7tCbRTsMzExQUJCwnvP875cSqrEBYeXl1ex+58/f16qExMREZUnvr6+hf5W8v5U/yhxwXHlypX3xrRp0+ajkiEiIlIlRd6wSyaTKaTAsLS0BAA8ffoUVlZW4vanT5/C2dlZjHn27JnccTk5OXj16pV4vKWlJZ4+fSoXU/D+fTFv739fLiVV4oLj+PHjpWqYiIiorNMqgzfssrOzg6WlJcLDw8U/6ikpKYiMjMTYsWMBAK6urkhKSsKlS5fQpEkTAMCxY8eQl5cHFxcXMWbmzJnIzs6Grq4uACAsLAwODg4wMTERY8LDwzF58mTx/GFhYXB1dS1xLiXFSaNEREQqlpqaiqioKERFRQHIn5wZFRWFuLg4SCQSTJ48GQsXLsT+/ftx/fp1DB06FNbW1uJKlnr16qFTp04YNWoUzp8/jz///BPjx49H//79YW1tDQAYOHAgpFIpRowYgZs3b2Lnzp1YsWKF3LDPpEmTcOjQISxbtgx37tzBvHnzcPHiRYwfnz9HrCS5lFS5nDRKRERUEurq4bh48SLat28vvi8oAjw8PBAYGIjp06cjLS0No0ePRlJSElq1aoVDhw5BT09PPCYoKAjjx49Hhw4doKWlhT59+mDlypXifmNjYxw5cgTjxo1DkyZNULlyZcyZM0fuXh0tWrTA9u3bMWvWLHz77beoXbs2goODUb9+fTGmJLmUhMLuw1GWZOSoOwMi5eMqFdIEyl6lMvVAtMLaWtbdQWFtlUccUiEiIiKl45AKERFprLI4abS8+qAejtOnT2Pw4MFwdXXF48ePAQBbt27FmTNnFJocERGRMvHx9KpT6oJj7969cHd3h76+Pq5cuSLetjU5OZlPiyUiIqIilbrgWLhwIQICAvDLL7+I63oBoGXLlrh8+bJCkyMiIlImdT2eXhOVeg5HdHR0kXcUNTY2RlJSkiJyIiIiUgmunFCdUn/WlpaWiImJKbT9zJkzqFmzpkKSIiIiovKl1AXHqFGjMGnSJERGRkIikeDJkycICgqCt7d3qW9zSkREpE6cNKo6pR5SmTFjBvLy8tChQwekp6ejTZs2kMlk8Pb2xoQJE5SRIxERkVJw7oXqlLrgkEgkmDlzJqZNm4aYmBikpqbC0dERhoaGysiPiIiIyoEPvvGXVCqFo6OjInMhIiJSKXZwqE6pC4727dtDUsxP6NixYx+VEBERkarwTqOqU+qCw9nZWe59dnY2oqKicOPGDXh4eCgqLyIiIipHSl1wLF++vMjt8+bNQ2pq6kcnREREpCqcNKo6CrvnyeDBg7Fx40ZFNUdERKR0XBarOgorOCIiIqCnp6eo5oiIiKgcKfWQSu/eveXeC4KA+Ph4XLx4EbNnz1ZYYkRERMrGSaOqU+qCw9jYWO69lpYWHBwcsGDBAnTs2FFhiRERESmbBKw4VKVUBUdubi6GDRsGJycnmJiYKCsnIiIiKmdKNYdDW1sbHTt25FNhiYioXNCSKO5FxSv1pNH69evjr7/+UkYuREREKsWCQ3VKXXAsXLgQ3t7eCAkJQXx8PFJSUuReRERERP9W4jkcCxYswNSpU9GlSxcAwBdffCF3i3NBECCRSJCbm6v4LImIiJSguEd1kGKVuOCYP38+xowZg+PHjyszHyIiIpXhUIjqlLjgEAQBANC2bVulJUNERETlU6mWxbLriYiIyhP+WVOdUhUcderUeW/R8erVq49KiIiISFX48DbVKVXBMX/+/EJ3GiUiIiJ6n1IVHP3794eFhYWyciEiIlIpThpVnRIXHJy/QURE5Q3/tKlOiW/8VbBKhYiIiKi0StzDkZeXp8w8iIiIVE6LT4tVmVI/np6IiKi84JCK6pT6WSpEREREpcUeDiIi0lhcpaI6LDiIiEhj8cZfqsMhFSIiIlI69nAQEZHGYgeH6rDgICIijcUhFdXhkAoREREpHXs4iIhIY7GDQ3XYw0FERBpLS4Gv0qhRowYkEkmh17hx4wAA7dq1K7RvzJgxcm3ExcWha9euMDAwgIWFBaZNm4acnBy5mBMnTqBx48aQyWSwt7dHYGBgoVzWrFmDGjVqQE9PDy4uLjh//nwpr6ZkWHAQERGp2IULFxAfHy++wsLCAABfffWVGDNq1Ci5mCVLloj7cnNz0bVrV2RlZeHs2bPYvHkzAgMDMWfOHDEmNjYWXbt2Rfv27REVFYXJkydj5MiROHz4sBizc+dOeHl5Ye7cubh8+TIaNmwId3d3PHv2TOHXLBHK4VPZMnLeH0P0X2fy6Xh1p0CkdG+urFZq+5sv/q2wtjya2nzwsZMnT0ZISAju3bsHiUSCdu3awdnZGf7+/kXG//HHH+jWrRuePHmCKlWqAAACAgLg4+OD58+fQyqVwsfHB6Ghobhx44Z4XP/+/ZGUlIRDhw4BAFxcXPDpp59i9er8zzkvLw82NjaYMGECZsyY8cHXUxT2cBARkcaSKPCVmZmJlJQUuVdmZuZ7c8jKysK2bdswfPhwSN6aVBIUFITKlSujfv368PX1RXp6urgvIiICTk5OYrEBAO7u7khJScHNmzfFGDc3N7lzubu7IyIiQjzvpUuX5GK0tLTg5uYmxigSCw4iIiIF8PPzg7GxsdzLz8/vvccFBwcjKSkJnp6e4raBAwdi27ZtOH78OHx9fbF161YMHjxY3J+QkCBXbAAQ3yckJBQbk5KSgjdv3uDFixfIzc0tMqagDUXiKhUiItJYirwPh6+vL7y8vOS2yWSy9x63YcMGdO7cGdbW1uK20aNHi/92cnKClZUVOnTogPv376NWrVoKy1mVWHAQEZHGUuSqWJlMVqIC420PHz7E0aNH8dtvvxUb5+LiAgCIiYlBrVq1YGlpWWg1ydOnTwEAlpaW4n8XbHs7xsjICPr6+tDW1oa2tnaRMQVtKBKHVIiIiNRk06ZNsLCwQNeuXYuNi4qKAgBYWVkBAFxdXXH9+nW51SRhYWEwMjKCo6OjGBMeHi7XTlhYGFxdXQEAUqkUTZo0kYvJy8tDeHi4GKNI7OEgIiKNpc4bf+Xl5WHTpk3w8PCAjs4/f47v37+P7du3o0uXLjAzM8O1a9cwZcoUtGnTBg0aNAAAdOzYEY6OjhgyZAiWLFmChIQEzJo1C+PGjRN7WcaMGYPVq1dj+vTpGD58OI4dO4Zdu3YhNDRUPJeXlxc8PDzQtGlTNGvWDP7+/khLS8OwYcMUfr0sOIiISGNJ1FhxHD16FHFxcRg+fLjcdqlUiqNHj4p//G1sbNCnTx/MmjVLjNHW1kZISAjGjh0LV1dXVKhQAR4eHliwYIEYY2dnh9DQUEyZMgUrVqxAtWrVsH79eri7u4sx/fr1w/PnzzFnzhwkJCTA2dkZhw4dKjSRVBF4Hw6i/yjeh4M0gbLvw/HrlccKa2tAo6oKa6s8Yg8HERFpLE5kVB0WHEREpLHUOaSiaVjcERERkdKxh4OIiDQW+zdUhwUHERFpLA6pqA6HVIiIiEjp2MNBREQai9+6VYcFBxERaSwOqagOizsiIiJSOvZwEBGRxmL/huqw4CAiIo3FERXV4ZAKERERKR17OIiISGNpcVBFZVhwEBGRxuKQiupwSIWIiIiUrswUHKdPn8bgwYPh6uqKx48fAwC2bt2KM2fOqDkzIiIqryQK/A8Vr0wUHHv37oW7uzv09fVx5coVZGZmAgCSk5OxaNEiNWdHRETllUSiuBcVr0wUHAsXLkRAQAB++eUX6OrqittbtmyJy5cvqzEzIiIiUoQyMWk0Ojoabdq0KbTd2NgYSUlJqk+IiIg0AlepqE6Z6OGwtLRETExMoe1nzpxBzZo11ZARERFpAg6pqE6ZKDhGjRqFSZMmITIyEhKJBE+ePEFQUBC8vb0xduxYdadHREREH6lMDKnMmDEDeXl56NChA9LT09GmTRvIZDJ4e3tjwoQJ6k6PiIjKKfZMqI5EEARB3UkUyMrKQkxMDFJTU+Ho6AhDQ8MPaicjR8GJEZVBJp+OV3cKREr35spqpbYfdvuFwtr6vF5lhbVVHpWJIZVt27YhPT0dUqkUjo6OaNas2QcXG0RERFT2lImCY8qUKbCwsMDAgQNx8OBB5ObmqjslIiLSAFoSxb2oeGWi4IiPj8eOHTsgkUjQt29fWFlZYdy4cTh79qy6UyMionKMdxpVnTJRcOjo6KBbt24ICgrCs2fPsHz5cjx48ADt27dHrVq11J0eERERfaQysUrlbQYGBnB3d0diYiIePnyI27dvqzslIiIqp7hKRXXKRA8HAKSnpyMoKAhdunRB1apV4e/vj169euHmzZvqTo2IiMopDqmoTpno4ejfvz9CQkJgYGCAvn37Yvbs2XB1dVV3WkRERKQgZaLg0NbWxq5du+Du7g5tbW11p0NERBqCq0tUp0wUHEFBQepOgYiINBCHQlRHbQXHypUrMXr0aOjp6WHlypXFxk6cOFFFWWm2p0+fwv+npfjz9GlkZLyBTXVbLFi4CJ/UdwIAvHzxAv4//YiIs2fw+vVrNG7SFDNmzoatbQ2xjb/j4rDsxx8QdfkSsrKy0LJVa8z4djbMKv9zB77bt27C/6cfcfPGdWhpacPt847wnj4DBhUqqPqSqRxp2bgWpgx1Q2PH6rAyN0bfKetw4MQ1cb+FaUUsnNQDbq71YGyojzOXY+C1ZDfuxz0HAJgYGWD22K7o0LwubCxN8CIxFQdOXMP8n0OQkpohttOuWR3M/aYbPrG3RtqbLAQdiMTcNQeQm5sHAKhta4FVM/ujbk1LGBvqI/55Mnb+cRHfrzuInJw8sR1jQ33MG98dPT5rCFNjA8TFJ2Laj3tw+MwtFX1iRKqltlub29nZ4eLFizAzM4Odnd074yQSCf76669Stc1bm5deSnIy+n3ZC02buaBvvwEwMTVB3MOHsLGpDpvq1SEIAoYO6g8dHR1MneYDQ0NDbNkciLNnTuO3/aEwMDBAeno6vur9Beo41MU34/KfgbNm1Qo8e/YM237dBS0tLTx79hR9enSHe+fOGDzEA6mpqVi6eBEqm1tgmX/xhSfJ463N5XVs6QjXhjVx5XYcdv40ulDBcWLzVGTn5GLGst+QkpaBiYM/Q8eWjmjUeyHSM7LgWMsKs8d2xdb953D7rwRUtzLFqpn9cePeYwyctgEA4FSnKk5v9cYPGw5j5x8XYW1RCau+7Y9DZ27Cd/k+AECNqmZo3aQ2ou78jeTX6XCqUw1rZg/A5uAIzF19AACgq6ON44FeePbqNZZuOILHz5JQ3doUya/f4Prdx6r/8MowZd/a/My9RIW11aq2icLaKo/U1sMRGxtb5L9JPTZu+AVVLC3x3fd+4rZq1WzEfz98+ADXrkZh7+8hsLevDQCYNWcePmvbEocOhqL3l18h6splPHn8GDv3BIu3pv9u0Q9o7fopzkeeQ3PXFjh14gR0dHXw7ay50NLKXyQ1a+58fNnrC8Q9fIjqtrYqvGoqT478eQtH/iy6d8C+ugVcGtihcZ+FuP1XAgBg4qKdeHB0Efp2boLAfRG4dT8eA7zXi8fEPnqBeasPYOP3Q6GtrYXc3Dx82bExbtx7Ar91hwAAf/39AjNXBGPbD8Px/f8OIjU9Ew8ev8SDxy/FduLiE9GmaW20bPTPPYU8errCxMgA7TyXib0ecfGvFP6Z0PtxQEV1ysSy2AULFiA9Pb3Q9jdv3mDBggVqyEjznDx+DJ98Uh/eUyaiXWtX9O3TE3t37xL3Z2dlAQBkUpm4TUtLC1KpFFcuXwKQ//A9iUQCqVQqxshkMmhpaf0Tk50FXV1dsdjIj9EDADGGSNFk0vzvVhlZ/3R/CoKArKwctHB+980FjSrqISUtQxwukUl1kJGZLRfzJjMb+npSNKpXvcg2atpUxuct6uH0pRhxW9e2Toi8Fgv/Gf3w4OgiXNz9LaYN7wgtzmCkcqxMFBzz589Hampqoe3p6emYP39+scdmZmYiJSVF7pWZmamsVMutR4/+xq6dv6K6bQ2sXbcBffsNwA9+C7E/+P+7ie1qwsrKGiv9lyElORnZWVnYuH4dniYk4Pnz/DHwBg2doa+vD/9lS/HmzRukp6dj2dIfkJubK8Y0c2mOly9eIHDjemRnZSElORkrli8DALx48Vw9F0/lXvSDBMTFv8J3E75ApYr60NXRxlRPN1SzNIFlZeMijzGrVAG+ozpj495/HrEQdvY2mjesib6dmkBLSwJrc2N8O7ozAMDK3Eju+OOBXkg8txw398/Dn5fvY8HaUHGfXVUz9HJrBG1tCXpNWIvFvxzCpCEdMGNkJ8VfPBVLSyJR2IuKVyYKDkEQICnih3X16lWYmpoWe6yfnx+MjY3lXkt/8Cv2GCosL09APcdPMHGyF+rVc8SXffuh95d9sXvXDgCArq4uflqxCg8fPEDrFs3g0tQZF85HolXrNuK3MlNTUyz9aQVOnjwO108boVXzpnj9OgX1HD8RY+zta+O77xdjS+AmuDR1xmdtW6JqtaowM6tc5O8AkSLk5OSh/9RfYG9rgfhTS/Eq4ie0aVoHh87cRJ6QVyi+YgU97Fs5Frf/isfC//1TKISfu4Nv/YOx8tv+SI70x7Xf5+DwmfybE+blyU+HG+KzEa4Df4CH7yZ0bv0JpgztIO7T0tLC81evMe67X3Hl9t/Yc+Qylmw4jJFftlLSJ0DvIlHgi4qn1mWxJiYmkEgkkEgkqFOnjtwfnNzcXKSmpmLMmDHFtuHr6wsvLy+5bYK27B3R9C7m5uao+a/n1tSsWRNHww6L7x0/qY9dv/2O169fIzs7G6amphjU/yt88kl9MaZFy1YIPXQUiYmvoK2tAyMjI3zWpiWqde4ixnTp1h1dunXHyxcvoK+vD0gk2Lo5ENVsbECkLFdu/43m/RfDyFAPUl0dvEhMxakt3rh0K04uztBAhv1rvsHr9Az08/pFbmUJAKzcdgwrtx2DlbkxElPSYWttiu8m9kDsoxdycY+eJgEA7vyVAC0tLayZNQD+W8ORlycg4UUysnNy5YqUO7EJsDI3hq6ONrJz+MRsKn/UWnD4+/tDEAQMHz4c8+fPh7HxP12bUqkUNWrUeO8dR2UyGWQy+QKDq1RKz7lRYzz41+Tdhw8ewNq6aqHYihUr5u9/+AC3bt7AuAmTCsWYmOT3TEWei8CrVy/Rrv1nhWIKlsru+20PpDIZmru2/OjrIHqfgiWutaqbo7Fjdcz/OUTcV7GCHg78PA6ZWTn4cvL/kJn17v8ziX+eDADo26kp/o5/hSt3/n5nrJaWBLo62tDSkiAvT0BE1F/o17kpJBIJChYK1q5ugfjnySw2VI1dEyqj1oLDw8MDQP4S2RYtWkBXV1ed6Wi0wUM94DF4ANavC0BH9864cf0a9uzZhTnz/pm0e+TwHzAxMYWVlTXu3YvGEr9FaP+ZG1q0/KcbOHjfXtSsWQsmJqa4evUKlvgtwuChnqhhV1OM+TVoG5wbNYK+gQHOnT2L5cuWYOKUqTAykh8DJyqNCvpS1LIxF9/XqGqGBnWqIjElHX8nJKK3WyM8T0zF3wmvUL+2NX6c9iUOnLiG8HN3AOQXGyE/j4O+nhTDZm6GUQU9GFXIn9D8PDFV7I2YMrQDjpy9jby8PPTo4AzvYZ9j8PSN4v7+nZsiOycXN2KeIDMrB00cq+O7CV9gz5FLYm/JL7tPY0y/Nlg2/Uv8/OtJ2Fc3x7QRHfHzrydV+ZEReOMvVVLbfThSUlLEPzApKSnFxpb2DxF7OD7MyRPHsdL/J8Q9fICq1aphyNBh6PNVX3F/0LYt2LxpA16+eAlzc3N0+6IHvh7zDXTfWpXi/9OP2B+8D8nJybCuWhVf9e2PIR6ecsNlM32n4/TJk0hPT4OdXU0MHTYc3b/oqcpLLRd4Hw55rZvUxpH1hXvbtu4/h9Fzt+GbAW0xZagbLMwqIuFFCoJCIuG37pDYo/Cu4wHAocsccdnqH/+bAOd6NpDp6uD63cf4ft0fcstxv+zYGFM83FDb1gISiQRx8a/w68ELWLXtmFyPiUsDOyyZ2hsNHKrhybMkBAZHYFlgWKG5IJpO2ffhiLyfrLC2XGoVPQG5KPPmzSu0KMLBwQF37uQXwBkZGZg6dSp27NiBzMxMuLu74+eff0aVKlXE+Li4OIwdOxbHjx+HoaEhPDw84OfnBx2df/oSTpw4AS8vL9y8eRM2NjaYNWsWPD095c67Zs0aLF26FAkJCWjYsCFWrVqFZs2afcAnUDy1FRza2tqIj4+HhYUFtLS0ipwwWDCZNDe3dF2MLDhIE7DgIE2g7ILj/F+KKzia1SxdwbFnzx4cPXpU3Kajo4PK/z/UPHbsWISGhiIwMBDGxsYYP348tLS08OeffwLIn+fo7OwMS0tLLF26FPHx8Rg6dChGjRqFRYsWAci/x1X9+vUxZswYjBw5EuHh4Zg8eTJCQ0Ph7u4OANi5cyeGDh2KgIAAuLi4wN/fH7t370Z0dDQsLCwU9dEAUGPBcfLkSbRs2RI6Ojo4ebL4bsS2bduWqm0WHKQJWHCQJlB2wXFBgQXHp6UsOIKDgxEVFVVoX3JyMszNzbF9+3Z8+eWXAIA7d+6gXr16iIiIQPPmzfHHH3+gW7duePLkidjrERAQAB8fHzx//hxSqRQ+Pj4IDQ3FjRs3xLb79++PpKQkHDqUf/M6FxcXfPrpp1i9Ov9zzsvLg42NDSZMmIAZM2Z86EdRJLXN4Xi7iChtQUFERFTWZGZmFroPVFELGwrcu3cP1tbW0NPTg6urK/z8/FC9enVcunQJ2dnZcHNzE2Pr1q2L6tWriwVHREQEnJyc5IZY3N3dMXbsWNy8eRONGjVCRESEXBsFMZMnTwaQf7PGS5cuwdfXV9yvpaUFNzc3REREfOzHUUiZuA/HoUOHcObMGfH9mjVr4OzsjIEDByIxUXH3uSciIpKjwBtxFHVfKD+/ou8L5eLigsDAQBw6dAhr165FbGwsWrdujdevXyMhIQFSqRSVKlWSO6ZKlSpISMi/NX9CQoJcsVGwv2BfcTEpKSl48+YNXrx4gdzc3CJjCtpQpDJRcEybNk2cOHr9+nV4eXmhS5cuiI2NLXSPDSIiIkWRKPA/vr6+SE5Olnu93Xvwts6dO+Orr75CgwYN4O7ujoMHDyIpKQm7du0qMr48UOuy2AKxsbFwdHQEAOzduxfdu3fHokWLcPnyZXTp0uU9RxMREalfccMn71OpUiXUqVMHMTEx+Pzzz5GVlYWkpCS5Xo6nT5/C0tISAGBpaYnz58/LtfH06VNxX8F/F2x7O8bIyAj6+vrQ1taGtrZ2kTEFbShSmejhkEql4sPbjh49io4dOwLIv1X2+5bMEhERfSiJRHGvj5Gamor79+/DysoKTZo0ga6uLsLDw8X90dHRiIuLE2+G6erqiuvXr+PZs2diTFhYGIyMjMQv8K6urnJtFMQUtCGVStGkSRO5mLy8PISHh7/3ppsfokz0cLRq1QpeXl5o2bIlzp8/j507dwIA7t69i2rVqqk5OyIiIsXy9vZG9+7dYWtriydPnmDu3LnQ1tbGgAEDYGxsjBEjRsDLywumpqYwMjLChAkT4OrqiubNmwMAOnbsCEdHRwwZMgRLlixBQkICZs2ahXHjxom9LGPGjMHq1asxffp0DB8+HMeOHcOuXbsQGvrP84G8vLzg4eGBpk2bolmzZvD390daWhqGDRum8GsuEwXH6tWr8c0332DPnj1Yu3YtqlbNv532H3/8gU6d+PREIiJSDnXdZ/TRo0cYMGAAXr7Mv5Fiq1atcO7cOZib598td/ny5dDS0kKfPn3kbvxVQFtbGyEhIRg7dixcXV1RoUIFeHh4YMGCf+4ObWdnh9DQUEyZMgUrVqxAtWrVsH79evEeHADQr18/PH/+HHPmzEFCQgKcnZ1x6NChQhNJFUFt9+FQJt6HgzQB78NBmkDZ9+G4/FBxw/aNbfl4huKUiR4OIP+uacHBwbh9+zYA4JNPPsEXX3wBbW1tNWdGREREH6tMFBwxMTHo0qULHj9+DAcHBwD565ltbGwQGhqKWv96bDoREZEi8OFtqlMmVqlMnDgRtWrVwt9//43Lly/j8uXLiIuLg52dHSZOnKju9IiIqJwqK6tUNEGZ6OE4efIkzp07B1NTU3GbmZkZFi9ejJYtW6oxMyIiIlKEMlFwyGQyvH79utD21NRUSN969DkREZEisWNCdcrEkEq3bt0wevRoREZGQhAECIKAc+fOYcyYMfjiiy/UnR4REZVXCnyWChWvTBQcK1euhL29PVq0aAE9PT3o6emhZcuWsLe3x4oVK9SdHhEREX0ktQ6p5OXlYenSpdi/fz+ysrLQs2dPeHh4QCKRoF69erC3t1dnekREVM5xlYrqqLXg+P777zFv3jy4ublBX18fBw8ehLGxMTZu3KjOtIiISENwdYnqqHVIZcuWLfj5559x+PBhBAcH48CBAwgKCkJeXp460yIiIiIFU2vBERcXJ/f4eTc3N0gkEjx58kSNWRERkabgnFHVUeuQSk5ODvT09OS26erqIjs7W00ZERGRRmGloDJqLTgEQYCnp6f4KF0AyMjIwJgxY1ChQgVx22+//aaO9IiIiEhB1FpweHh4FNo2ePBgNWRCRESaiKtUVEetBcemTZvUeXoiItJwXKWiOmXixl9ERERUvpWJZ6kQERGpAzs4VIcFBxERaS5WHCrDIRUiIiJSOvZwEBGRxuIqFdVhwUFERBqLq1RUh0MqREREpHTs4SAiIo3FDg7VYcFBRESaixWHynBIhYiIiJSOPRxERKSxuEpFdVhwEBGRxuIqFdXhkAoREREpHXs4iIhIY7GDQ3VYcBARkeZixaEyHFIhIiIipWMPBxERaSyuUlEdFhxERKSxuEpFdTikQkRERErHHg4iItJY7OBQHRYcRESkuVhxqAyHVIiIiEjp2MNBREQai6tUVIcFBxERaSyuUlEdDqkQERGR0rGHg4iINBY7OFSHPRxERKSxJBLFvUrDz88Pn376KSpWrAgLCwv07NkT0dHRcjHt2rWDRCKRe40ZM0YuJi4uDl27doWBgQEsLCwwbdo05OTkyMWcOHECjRs3hkwmg729PQIDAwvls2bNGtSoUQN6enpwcXHB+fPnS3dBJcCCg4iISMVOnjyJcePG4dy5cwgLC0N2djY6duyItLQ0ubhRo0YhPj5efC1ZskTcl5ubi65duyIrKwtnz57F5s2bERgYiDlz5ogxsbGx6Nq1K9q3b4+oqChMnjwZI0eOxOHDh8WYnTt3wsvLC3PnzsXly5fRsGFDuLu749mzZwq9ZokgCIJCWywDMnLeH0P0X2fy6Xh1p0CkdG+urFZq+48SsxTWlrmBgMzMTLltMpkMMpnsvcc+f/4cFhYWOHnyJNq0aQMgv4fD2dkZ/v7+RR7zxx9/oFu3bnjy5AmqVKkCAAgICICPjw+eP38OqVQKHx8fhIaG4saNG+Jx/fv3R1JSEg4dOgQAcHFxwaefforVq/M/67y8PNjY2GDChAmYMWNGqT+Hd2EPBxERaSxFDqn4+fnB2NhY7uXn51eiPJKTkwEApqamctuDgoJQuXJl1K9fH76+vkhPTxf3RUREwMnJSSw2AMDd3R0pKSm4efOmGOPm5ibXpru7OyIiIgAAWVlZuHTpklyMlpYW3NzcxBhF4aRRIiIiBfD19YWXl5fctpL0buTl5WHy5Mlo2bIl6tevL24fOHAgbG1tYW1tjWvXrsHHxwfR0dH47bffAAAJCQlyxQYA8X1CQkKxMSkpKXjz5g0SExORm5tbZMydO3dKeOUlw4KDiIg0liJXqZR0+OTfxo0bhxs3buDMmTNy20ePHi3+28nJCVZWVujQoQPu37+PWrVqfXS+qsYhFSIi0ljqWqVSYPz48QgJCcHx48dRrVq1YmNdXFwAADExMQAAS0tLPH36VC6m4L2lpWWxMUZGRtDX10flypWhra1dZExBG4rCgoOIiEjFBEHA+PHjsW/fPhw7dgx2dnbvPSYqKgoAYGVlBQBwdXXF9evX5VaThIWFwcjICI6OjmJMeHi4XDthYWFwdXUFAEilUjRp0kQuJi8vD+Hh4WKMonBIhYiINJa6nqUybtw4bN++Hb///jsqVqwozrkwNjaGvr4+7t+/j+3bt6NLly4wMzPDtWvXMGXKFLRp0wYNGjQAAHTs2BGOjo4YMmQIlixZgoSEBMyaNQvjxo0Th3bGjBmD1atXY/r06Rg+fDiOHTuGXbt2ITQ0VMzFy8sLHh4eaNq0KZo1awZ/f3+kpaVh2LBhCr1mLosl+o/isljSBMpeFpuQkq2wtiyNdEscK3nHGMymTZvg6emJv//+G4MHD8aNGzeQlpYGGxsb9OrVC7NmzYKRkZEY//DhQ4wdOxYnTpxAhQoV4OHhgcWLF0NH55/+hBMnTmDKlCm4desWqlWrhtmzZ8PT01PuvKtXr8bSpUuRkJAAZ2dnrFy5UhzCURQWHET/USw4SBOU14JDE3FIhYiINBafpaI6LDiIiEhj8fH0qsNVKkRERKR07OEgIiKNpa5VKpqIBQcREWku1hsqwyEVIiIiUjr2cBARkcZiB4fqsOAgIiKNxVUqqsMhFSIiIlI69nAQEZHG4ioV1WHBQUREGotDKqrDIRUiIiJSOhYcREREpHQcUiEiIo3FIRXVYQ8HERERKR17OIiISGNxlYrqsOAgIiKNxSEV1eGQChERESkdeziIiEhjsYNDdVhwEBGR5mLFoTIcUiEiIiKlYw8HERFpLK5SUR0WHEREpLG4SkV1OKRCRERESsceDiIi0ljs4FAdFhxERKS5WHGoDIdUiIiISOnYw0FERBqLq1RUhwUHERFpLK5SUR0OqRAREZHSSQRBENSdBP23ZWZmws/PD76+vpDJZOpOh0gp+HtO9HFYcNBHS0lJgbGxMZKTk2FkZKTudIiUgr/nRB+HQypERESkdCw4iIiISOlYcBAREZHSseCgjyaTyTB37lxOpKNyjb/nRB+Hk0aJiIhI6djDQURERErHgoOIiIiUjgUHERERKR0LDlK5GjVqwN/fX91pEJXIiRMnIJFIkJSUVGwcf6+JiseCo5zx9PSERCLB4sWL5bYHBwdDouKnFAUGBqJSpUqFtl+4cAGjR49WaS5U/hX87kskEkilUtjb22PBggXIycn5qHZbtGiB+Ph4GBsbA+DvNdGHYsFRDunp6eGHH35AYmKiulMpkrm5OQwMDNSdBpVDnTp1Qnx8PO7du4epU6di3rx5WLp06Ue1KZVKYWlp+d6Cnb/XRMVjwVEOubm5wdLSEn5+fu+MOXPmDFq3bg19fX3Y2Nhg4sSJSEtLE/fHx8eja9eu0NfXh52dHbZv316oy/inn36Ck5MTKlSoABsbG3zzzTdITU0FkN8NPWzYMCQnJ4vfOufNmwdAvut54MCB6Nevn1xu2dnZqFy5MrZs2QIAyMvLg5+fH+zs7KCvr4+GDRtiz549CvikqLyRyWSwtLSEra0txo4dCzc3N+zfvx+JiYkYOnQoTExMYGBggM6dO+PevXvicQ8fPkT37t1hYmKCChUq4JNPPsHBgwcByA+p8Pea6MOx4CiHtLW1sWjRIqxatQqPHj0qtP/+/fvo1KkT+vTpg2vXrmHnzp04c+YMxo8fL8YMHToUT548wYkTJ7B3716sW7cOz549k2tHS0sLK1euxM2bN7F582YcO3YM06dPB5DfDe3v7w8jIyPEx8cjPj4e3t7ehXIZNGgQDhw4IBYqAHD48GGkp6ejV69eAAA/Pz9s2bIFAQEBuHnzJqZMmYLBgwfj5MmTCvm8qPzS19dHVlYWPD09cfHiRezfvx8REREQBAFdunRBdnY2AGDcuHHIzMzEqVOncP36dfzwww8wNDQs1B5/r4k+gkDlioeHh9CjRw9BEAShefPmwvDhwwVBEIR9+/YJBT/uESNGCKNHj5Y77vTp04KWlpbw5s0b4fbt2wIA4cKFC+L+e/fuCQCE5cuXv/Pcu3fvFszMzMT3mzZtEoyNjQvF2draiu1kZ2cLlStXFrZs2SLuHzBggNCvXz9BEAQhIyNDMDAwEM6ePSvXxogRI4QBAwYU/2GQRnn7dz8vL08ICwsTZDKZ0LNnTwGA8Oeff4qxL168EPT19YVdu3YJgiAITk5Owrx584ps9/jx4wIAITExURAE/l4TfSgdtVY7pFQ//PADPvvss0LfwK5evYpr164hKChI3CYIAvLy8hAbG4u7d+9CR0cHjRs3Fvfb29vDxMRErp2jR4/Cz88Pd+7cQUpKCnJycpCRkYH09PQSj2Xr6Oigb9++CAoKwpAhQ5CWlobff/8dO3bsAADExMQgPT0dn3/+udxxWVlZaNSoUak+Dyr/QkJCYGhoiOzsbOTl5WHgwIHo3bs3QkJC4OLiIsaZmZnBwcEBt2/fBgBMnDgRY8eOxZEjR+Dm5oY+ffqgQYMGH5wHf6+JCmPBUY61adMG7u7u8PX1haenp7g9NTUVX3/9NSZOnFjomOrVq+Pu3bvvbfvBgwfo1q0bxo4di++//x6mpqY4c+YMRowYgaysrFJNnhs0aBDatm2LZ8+eISwsDPr6+ujUqZOYKwCEhoaiatWqcsfxmRb0b+3bt8fatWshlUphbW0NHR0d7N+//73HjRw5Eu7u7ggNDcWRI0fg5+eHZcuWYcKECR+cC3+vieSx4CjnFi9eDGdnZzg4OIjbGjdujFu3bsHe3r7IYxwcHJCTk4MrV66gSZMmAPK/kb296uXSpUvIy8vDsmXLoKWVPxVo165dcu1IpVLk5ua+N8cWLVrAxsYGO3fuxB9//IGvvvoKurq6AABHR0fIZDLExcWhbdu2pbt40jgVKlQo9Htdr1495OTkIDIyEi1atAAAvHz5EtHR0XB0dBTjbGxsMGbMGIwZMwa+vr745Zdfiiw4+HtN9GFYcJRzTk5OGDRoEFauXClu8/HxQfPmzTF+/HiMHDkSFSpUwK1btxAWFobVq1ejbt26cHNzw+jRo7F27Vro6upi6tSp0NfXF5cG2tvbIzs7G6tWrUL37t3x559/IiAgQO7cNWrUQGpqKsLDw9GwYUMYGBi8s+dj4MCBCAgIwN27d3H8+HFxe8WKFeHt7Y0pU6YgLy8PrVq1QnJyMv78808YGRnBw8NDCZ8alSe1a9dGjx49MGrUKPzvf/9DxYoVMWPGDFStWhU9evQAAEyePBmdO3dGnTp1kJiYiOPHj6NevXpFtsffa6IPpO5JJKRYb0+cKxAbGytIpVLh7R/3+fPnhc8//1wwNDQUKlSoIDRo0ED4/vvvxf1PnjwROnfuLMhkMsHW1lbYvn27YGFhIQQEBIgxP/30k2BlZSXo6+sL7u7uwpYtW+Qm1wmCIIwZM0YwMzMTAAhz584VBEF+cl2BW7duCQAEW1tbIS8vT25fXl6e4O/vLzg4OAi6urqCubm54O7uLpw8efLjPiwqV4r63S/w6tUrYciQIYKxsbH4+3r37l1x//jx44VatWoJMplMMDc3F4YMGSK8ePFCEITCk0YFgb/XRB+Cj6enEnn06BFsbGxw9OhRdOjQQd3pEBHRfwwLDirSsWPHkJqaCicnJ8THx2P69Ol4/Pgx7t69K45DExERlRTncFCRsrOz8e233+Kvv/5CxYoV0aJFCwQFBbHYICKiD8IeDiIiIlI63tqciIiIlI4FBxERESkdCw4iIiJSOhYcREREpHQsOIiIiEjpWHAQKYGnpyd69uwpvm/Xrh0mT56s8jxOnDgBiUSCpKQkpZ3j39f6IVSRJxGpFwsO0hienp6QSCSQSCSQSqWwt7fHggULkJOTo/Rz//bbb/juu+9KFKvqP741atSAv7+/Ss5FRJqLN/4ijdKpUyds2rQJmZmZOHjwIMaNGwddXV34+voWis3KyoJUKlXIeU1NTRXSDhHRfxV7OEijyGQyWFpawtbWFmPHjoWbmxv2798P4J+hge+//x7W1tZwcHAAAPz999/o27cvKlWqBFNTU/To0QMPHjwQ28zNzYWXlxcqVaoEMzMzTJ8+Hf++n96/h1QyMzPh4+MDGxsbyGQy2NvbY8OGDXjw4AHat28PADAxMYFEIoGnpycAIC8vD35+frCzs4O+vj4aNmyIPXv2yJ3n4MGDqFOnDvT19dG+fXu5PD9Ebm4uRowYIZ7TwcEBK1asKDJ2/vz5MDc3h5GREcaMGYOsrCxxX0lyJ6LyjT0cpNH09fXx8uVL8X14eDiMjIwQFhYGIP8W7+7u7nB1dcXp06eho6ODhQsXolOnTrh27RqkUimWLVuGwMBAbNy4EfXq1cOyZcuwb98+fPbZZ+8879ChQxEREYGVK1eiYcOGiI2NxYsXL2BjY4O9e/eiT58+iI6OhpGREfT19QEAfn5+2LZtGwICAlC7dm2cOnUKgwcPhrm5Odq2bYu///4bvXv3xrhx4zB69GhcvHgRU6dO/ajPJy8vD9WqVcPu3bthZmaGs2fPYvTo0bCyskLfvn3lPjc9PT2cOHECDx48wLBhw2BmZobvv/++RLkTkQZQ45NqiVTq7ceX5+XlCWFhYYJMJhO8vb3F/VWqVBEyMzPFY7Zu3So4ODjIPVo8MzNT0NfXFw4fPiwIgiBYWVkJS5YsEfdnZ2cL1apVk3tUetu2bYVJkyYJgiAI0dHRAgAhLCysyDyLehx6RkaGYGBgIJw9e1YudsSIEcKAAQMEQRAEX19fwdHRUW6/j49Pobb+rajHqhdn3LhxQp8+fcT3Hh4egqmpqZCWliZuW7t2rWBoaCjk5uaWKPeirpmIyhf2cJBGCQkJgaGhIbKzs5GXl4eBAwdi3rx54n4nJye5eRtXr15FTEwMKlasKNdORkYG7t+/j+TkZMTHx8PFxUXcp6Ojg6ZNmxYaVikQFRUFbW3tUn2zj4mJQXp6Oj7//HO57VlZWWjUqBEA4Pbt23J5AICrq2uJz/Eua9aswcaNGxEXF4c3b94gKysLzs7OcjENGzaEgYGB3HlTU1Px999/IzU19b25E1H5x4KDNEr79u2xdu1aSKVSWFtbQ0dH/n8CFSpUkHufmpqKJk2aICgoqFBb5ubmH5RDwRBJaaSmpgIAQkNDUbVqVbl9Mpnsg/IoiR07dsDb2xvLli2Dq6srKlasiKVLlyIyMrLEbagrdyIqW1hwkEapUKEC7O3tSxzfuHFj7Ny5ExYWFjAyMioyxsrKCpGRkWjTpg0AICcnB5cuXULjxo2LjHdyckJeXh5OnjwJNze3QvsLelhyc3PFbY6OjpDJZIiLi3tnz0i9evXECbAFzp079/6LLMaff/6JFi1a4JtvvhG33b9/v1Dc1atX8ebNG7GYOnfuHAwNDWFjYwNTU9P35k5E5R9XqRAVY9CgQahcuTJ69OiB06dPIzY2FidOnMDEiRPx6NEjAMCkSZOwePFiBAcH486dO/jmm2+KvYdGjRo14OHhgeHDhyM4OFhsc9euXQAAW1tbSCQShISE4Pnz50hNTUXFihXh7e2NKVOmYPPmzbh//z4uX76MVatWYfPmzQCAMWPG4N69e5g2bRqio6Oxfft2BAYGlug6Hz9+jKioKLlXYmIiateujYsXL+Lw4cO4e/cuZs+ejQsXLhQ6PisrCyNGjMCtW7dw8OBBzJ07F+PHj4eWllaJciciDaDuSSREqvL2pNHS7I+PjxeGDh0qVK5cWZDJZELNmjWFUaNGCcnJyYIg5E8SnTRpkmBkZCRUqlRJ8PLyEoYOHfrOSaOCIAhv3rwRpkyZIlhZWQlSqVSwt7cXNm7cKO5fsGCBYGlpKUgkEsHDw0MQhPyJrv7+/oKDg4Ogq6srmJubC+7u7sLJkyfF4w4cOCDY29sLMplMaN26tbBx48YSTRoFUOi1detWISMjQ/D09BSMjY2FSpUqCWPHjhVmzJghNGzYsNDnNmfOHMHMzEwwNDQURo0aJWRkZIgx78udk0aJyj+JILxjZhsRERGRgnBIhYiIiJSOBQcREREpHQsOIiIiUjoWHERERKR0LDiIiIhI6VhwEBERkdKx4CAiIiKlY8FBRERESseCg4iIiJSOBQcREREpHQsOIiIiUrr/A0cftoVLIErIAAAAAElFTkSuQmCC\n"
          },
          "metadata": {}
        }
      ]
    },
    {
      "cell_type": "code",
      "source": [
        "def predict_sentiment(model, text, vocab, max_len, device):\n",
        "    model.eval()\n",
        "    cleaned_text = clean_text(text)\n",
        "\n",
        "    tokens = cleaned_text.split()\n",
        "    tokens = tokens[:max_len]\n",
        "    for word in tokens:\n",
        "      indexed_tokens = [vocab.get(word, vocab['<unk>'])]\n",
        "\n",
        "    n = max_len-len(indexed_tokens)\n",
        "    padded_sequence = indexed_tokens+[vocab['<pad>']]*n\n",
        "\n",
        "    input_tensor = torch.tensor(padded_sequence, dtype=torch.long).unsqueeze(0).to(device)\n",
        "\n",
        "    with torch.no_grad():\n",
        "        output = model(input_tensor).squeeze(1)    #logits\n",
        "        prob = torch.sigmoid(output).item()\n",
        "        predicted_label = round(prob)\n",
        "\n",
        "    return predicted_label, prob"
      ],
      "metadata": {
        "id": "FfWx7Acmhg6u"
      },
      "execution_count": 35,
      "outputs": []
    },
    {
      "cell_type": "code",
      "source": [
        "print(\"\\n--- Testing RNN Model with Custom Text ---\")\n",
        "\n",
        "test_1 = \"This product is absolutely amazing! I love it.\"\n",
        "predicted_label_1, prob_1 = predict_sentiment(model_rnn, test_1, vocab, MAX_LEN, device)\n",
        "print(f\"Review: '{test_1}'\")\n",
        "print(f\"RNN Prediction: {'Positive' if predicted_label_1 == 1 else 'Negative'}   (Probability of Positive: {prob_1:.4f})\")\n",
        "print(f\"RNN Prediction: {'Positive' if predicted_label_1 == 1 else 'Negative'}   (Probability of Positive: {prob_1:.4f})\")\n",
        "\n",
        "test_2 = \"I bought this and it completely broke after one use. Horrible experience.\"\n",
        "predicted_label_2, prob_2 = predict_sentiment(model_rnn, test_2, vocab, MAX_LEN, device)\n",
        "print(f\"Review: '{test_2}'\")\n",
        "print(f\"RNN Prediction: {'Positive' if predicted_label_2 == 1 else 'Negative'} (Probability of Positive: {prob_2:.4f})\")\n",
        "\n",
        "test_3 = \"It's okay, nothing special, but it gets the job done.\"\n",
        "predicted_label_3, prob_3 = predict_sentiment(model_rnn, test_3, vocab, MAX_LEN, device)\n",
        "print(f\"Review: '{test_3}'\")\n",
        "print(f\"RNN Prediction: {'Positive' if predicted_label_3 == 1 else 'Negative'} (Probability of Positive: {prob_3:.4f})\")\n",
        "\n",
        "# Example Usage for LSTM model:\n",
        "print(\"\\n--- Testing LSTM Model with Custom Text ---\")\n",
        "\n",
        "test_4 = \"The delivery was fast, but the item itself was quite disappointing.\"\n",
        "predicted_label_4, prob_4 = predict_sentiment(model_lstm, test_4, vocab, MAX_LEN, device)\n",
        "print(f\"Review: '{test_4}'\")\n",
        "print(f\"LSTM Prediction: {'Positive' if predicted_label_4 == 1 else 'Negative'} (Probability of Positive: {prob_4:.4f})\")\n",
        "\n",
        "test_5 = \"This is a must-buy for anyone looking for quality.\"\n",
        "predicted_label_5, prob_5 = predict_sentiment(model_lstm, test_5, vocab, MAX_LEN, device)\n",
        "print(f\"Review: '{test_5}'\")\n",
        "print(f\"LSTM Prediction: {'Positive' if predicted_label_5 == 1 else 'Negative'} (Probability of Positive: {prob_5:.4f})\")"
        "test_6 = \"This movie was an absolute masterpiece... if you enjoy staring at a blank wall.\"\n",
        "predicted_label_6, prob_6 = predict_sentiment(model_lstm, test_6, vocab, MAX_LEN, device)\n",
        "print(f\"Review: '{test_6}'\")\n",
        "print(f\"LSTM Prediction: {'Positive' if predicted_label_5 == 1 else 'Negative'} (Probability of Positive: {prob_6:.4f})\")"
        
      ],
      "metadata": {
        "colab": {
          "base_uri": "https://localhost:8080/"
        },
        "id": "1s0b3aFaXbtK",
        "outputId": "94efd3cf-ac0a-436e-be7e-ae51be3308df"
      },
      "execution_count": 36,
      "outputs": [
        {
          "output_type": "stream",
          "name": "stdout",
          "text": [
            "\n",
            "--- Testing RNN Model with Custom Text ---\n",
            "Review: 'This product is absolutely amazing! I love it.'\n",
            "RNN Prediction: Positive (Probability of Positive: 0.5556)\n",
            "Review: 'I bought this and it completely broke after one use. Horrible experience.'\n",
            "RNN Prediction: Positive (Probability of Positive: 0.8567)\n",
            "Review: 'It's okay, nothing special, but it gets the job done.'\n",
            "RNN Prediction: Positive (Probability of Positive: 0.6015)\n",
            "\n",
            "--- Testing LSTM Model with Custom Text ---\n",
            "Review: 'The delivery was fast, but the item itself was quite disappointing.'\n",
            "LSTM Prediction: Negative (Probability of Positive: 0.0008)\n",
            "Review: 'This is a must-buy for anyone looking for quality.'\n",
            "LSTM Prediction: Positive (Probability of Positive: 0.9465)\n"
            "Review: 'This movie was an absolute masterpiece... if you enjoy staring at a blank wall.'\n",
            "LSTM Prediction: Positive (Probability of Positive: 0.9237)\n"
          ]
        }
      ]
    },
    {
      "cell_type": "code",
      "source": [],
      "metadata": {
        "id": "B2OhJWuaYGfv"
      },
      "execution_count": null,
      "outputs": []
    }
  ]
}
