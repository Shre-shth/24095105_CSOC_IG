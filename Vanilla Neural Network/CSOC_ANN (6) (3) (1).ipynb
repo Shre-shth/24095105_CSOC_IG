{
 "cells": [
  {
   "cell_type": "markdown",
   "id": "c97a8829-87ab-4a25-be51-ce9d2fa591b3",
   "metadata": {},
   "source": [
    " **VANILLA NEURAL NETWORK**"
   ]
  },
  {
   "cell_type": "code",
   "execution_count": 1,
   "id": "4cd06ad1-da3b-4b7a-8434-bcad0484e860",
   "metadata": {},
   "outputs": [
    {
     "name": "stdout",
     "output_type": "stream",
     "text": [
      "C:\\Users\\shres\\Downloads\n"
     ]
    }
   ],
   "source": [
    "import os\n",
    "print(os.getcwd())\n"
   ]
  },
  {
   "cell_type": "code",
   "execution_count": 3,
   "id": "343debeb-683d-47a4-855a-b77c00533e85",
   "metadata": {},
   "outputs": [
    {
     "name": "stdout",
     "output_type": "stream",
     "text": [
      "Dataset shape: (110527, 14)\n",
      "\n",
      "First few rows:\n",
      "      PatientId  AppointmentID Gender          ScheduledDay  \\\n",
      "0  2.987250e+13        5642903      F  2016-04-29T18:38:08Z   \n",
      "1  5.589978e+14        5642503      M  2016-04-29T16:08:27Z   \n",
      "2  4.262962e+12        5642549      F  2016-04-29T16:19:04Z   \n",
      "3  8.679512e+11        5642828      F  2016-04-29T17:29:31Z   \n",
      "4  8.841186e+12        5642494      F  2016-04-29T16:07:23Z   \n",
      "\n",
      "         AppointmentDay  Age      Neighbourhood  Scholarship  Hipertension  \\\n",
      "0  2016-04-29T00:00:00Z   62    JARDIM DA PENHA            0             1   \n",
      "1  2016-04-29T00:00:00Z   56    JARDIM DA PENHA            0             0   \n",
      "2  2016-04-29T00:00:00Z   62      MATA DA PRAIA            0             0   \n",
      "3  2016-04-29T00:00:00Z    8  PONTAL DE CAMBURI            0             0   \n",
      "4  2016-04-29T00:00:00Z   56    JARDIM DA PENHA            0             1   \n",
      "\n",
      "   Diabetes  Alcoholism  Handcap  SMS_received No-show  \n",
      "0         0           0        0             0      No  \n",
      "1         0           0        0             0      No  \n",
      "2         0           0        0             0      No  \n",
      "3         0           0        0             0      No  \n",
      "4         1           0        0             0      No  \n",
      "\n",
      "Dataset info:\n",
      "<class 'pandas.core.frame.DataFrame'>\n",
      "RangeIndex: 110527 entries, 0 to 110526\n",
      "Data columns (total 14 columns):\n",
      " #   Column          Non-Null Count   Dtype  \n",
      "---  ------          --------------   -----  \n",
      " 0   PatientId       110527 non-null  float64\n",
      " 1   AppointmentID   110527 non-null  int64  \n",
      " 2   Gender          110527 non-null  object \n",
      " 3   ScheduledDay    110527 non-null  object \n",
      " 4   AppointmentDay  110527 non-null  object \n",
      " 5   Age             110527 non-null  int64  \n",
      " 6   Neighbourhood   110527 non-null  object \n",
      " 7   Scholarship     110527 non-null  int64  \n",
      " 8   Hipertension    110527 non-null  int64  \n",
      " 9   Diabetes        110527 non-null  int64  \n",
      " 10  Alcoholism      110527 non-null  int64  \n",
      " 11  Handcap         110527 non-null  int64  \n",
      " 12  SMS_received    110527 non-null  int64  \n",
      " 13  No-show         110527 non-null  object \n",
      "dtypes: float64(1), int64(8), object(5)\n",
      "memory usage: 11.8+ MB\n",
      "None\n"
     ]
    }
   ],
   "source": [
    "import pandas as pd\n",
    "import numpy as np\n",
    "import matplotlib.pyplot as plt\n",
    "from sklearn.model_selection import train_test_split\n",
    "from sklearn.preprocessing import StandardScaler, LabelEncoder\n",
    "from sklearn.metrics import accuracy_score, f1_score, precision_recall_curve, auc as sk_auc, confusion_matrix, ConfusionMatrixDisplay\n",
    "from torch.utils.data import DataLoader, TensorDataset\n",
    "\n",
    "\n",
    "data_path = 'medical_appointment_dataset.csv'  \n",
    "df = pd.read_csv(data_path)\n",
    "\n",
    "print(\"Dataset shape:\", df.shape)\n",
    "print(\"\\nFirst few rows:\")\n",
    "print(df.head())\n",
    "print(\"\\nDataset info:\")\n",
    "print(df.info())"
   ]
  },
  {
   "cell_type": "markdown",
   "id": "24bdcce2-f966-4118-b0ee-2e365b0b7f67",
   "metadata": {},
   "source": [
    "Data Preprocessing"
   ]
  },
  {
   "cell_type": "code",
   "execution_count": 6,
   "id": "498bbd82-f889-45ae-b42c-10f4c7e6a734",
   "metadata": {},
   "outputs": [],
   "source": [
    "data = df.copy()\n",
    "\n",
    "data['ScheduledDay'] = pd.to_datetime(data['ScheduledDay'])\n",
    "data['AppointmentDay'] =pd.to_datetime(data['AppointmentDay'])\n",
    "\n",
    "#feature engineering\n",
    "data['DaysAdvance']= (data['AppointmentDay'] - data['ScheduledDay']).dt.days\n",
    "data['ScheduledDayOfWeek'] =data['ScheduledDay'].dt.dayofweek\n",
    "data['AppointmentDayOfWeek']= data['AppointmentDay'].dt.dayofweek\n",
    "data['ScheduledHour'] =data['ScheduledDay'].dt.hour\n",
    "\n",
    "#categorical variables encoded by LabelEncoder\n",
    "le_gender = LabelEncoder()\n",
    "data['Gender_encoded'] = le_gender.fit_transform(data['Gender'])\n",
    "le_neighbourhood = LabelEncoder()\n",
    "data['Neighbourhood_encoded'] = le_neighbourhood.fit_transform(data['Neighbourhood'])\n",
    "\n",
    "\n",
    "data['No-show'] = (data['No-show'] == 'Yes').astype(int)   #converting to integer\n",
    "\n",
    "#One hot encoding for ScheduledDayOfWeek, AppointmentDayOfWeek, ScheduledHour\n",
    "data = pd.get_dummies(data, columns=['ScheduledDayOfWeek','AppointmentDayOfWeek','ScheduledHour'], drop_first=False)\n",
    "\n",
    "#excluding original day/hour columns becoz one hot encoded\n",
    "feature_columns = ['Gender_encoded','Age','Neighbourhood_encoded','Scholarship','Hipertension','Diabetes','Alcoholism','Handcap','SMS_received','DaysAdvance']\n",
    "\n",
    "one_hot_columns=[]\n",
    "for i in data.columns:\n",
    "    if i.startswith('ScheduledDayOfWeek_') or i.startswith('AppointmentDayOfWeek_') or i.startswith('ScheduledHour_'):   #this part written with GPT\n",
    "        one_hot_columns.append(i)\n",
    "\n",
    "\n",
    "feature_columns.extend(one_hot_columns)\n",
    "\n",
    "X = data[feature_columns].values\n",
    "y = data['No-show'].values\n",
    "\n",
    "#standardizing numerical features (Age and DaysAdvance)\n",
    "features_to_scale = ['Age', 'DaysAdvance']\n",
    "scaler = StandardScaler()\n",
    "scale_indices = [feature_columns.index(f) for f in features_to_scale]\n",
    "\n",
    "# Scale only those columns\n",
    "X[:, scale_indices] = scaler.fit_transform(X[:, scale_indices])\n",
    "\n"
   ]
  },
  {
   "cell_type": "markdown",
   "id": "0ef9c274-74ec-433a-be41-bf8948ac33d6",
   "metadata": {},
   "source": [
    "=============================================================================================================== <br>**Numpy from scratch** <br>\n",
    "=============================================================================================================== <br>\n"
   ]
  },
  {
   "cell_type": "markdown",
   "id": "ebeb9a85-9e8b-40e5-9103-c8f956ea82a5",
   "metadata": {},
   "source": [
    "Data splitting"
   ]
  },
  {
   "cell_type": "code",
   "execution_count": 23,
   "id": "fe657512-7bad-4bbd-b3bf-3d5a5162e944",
   "metadata": {},
   "outputs": [
    {
     "name": "stdout",
     "output_type": "stream",
     "text": [
      "Training set shape: (88421, 38)\n",
      "Cross-validation set shape: (22106, 38)\n",
      "Training labels distribution:\n",
      "0.0    70566\n",
      "1.0    17855\n",
      "Name: count, dtype: int64\n",
      "Cross-validation labels distribution:\n",
      "0.0    17642\n",
      "1.0     4464\n",
      "Name: count, dtype: int64\n"
     ]
    }
   ],
   "source": [
    "X_train, X_cv, y_train, y_cv = train_test_split(X, y, test_size=0.2, stratify=y, random_state=42)\n",
    "\n",
    "print(\"Training set shape:\",X_train.shape)\n",
    "print(\"Cross-validation set shape:\", X_cv.shape)\n",
    "print(\"Training labels distribution:\")\n",
    "print(pd.Series(y_train).value_counts())\n",
    "print(\"Cross-validation labels distribution:\")\n",
    "print(pd.Series(y_cv).value_counts())"
   ]
  },
  {
   "cell_type": "code",
   "execution_count": 26,
   "id": "dc75c44e-f75b-4945-9058-782fb7a3ae97",
   "metadata": {},
   "outputs": [],
   "source": [
    "def sigmoid(X):\n",
    "    X = np.array(X, dtype=np.float64)\n",
    "    cache = [X]\n",
    "    return 1/(1+np.exp(-X)), cache\n",
    "\n",
    "def relu(Z):\n",
    "    cache=[]\n",
    "    A=np.maximum(0,Z)\n",
    "    cache.append(Z)\n",
    "    return A,cache"
   ]
  },
  {
   "cell_type": "code",
   "execution_count": 30,
   "id": "a8db4f86-5d62-4b70-8771-032eb044fb08",
   "metadata": {},
   "outputs": [],
   "source": [
    "def initialize_parameters(layers_dims):  #38,8,1\n",
    "    parameters={}\n",
    "    np.random.seed(1)\n",
    "    for l in range(1,len(layers_dims)):\n",
    "        parameters['W'+str(l)]=np.random.randn(layers_dims[l],layers_dims[l-1])*0.01\n",
    "        parameters['b'+str(l)]=np.zeros((layers_dims[l],1))\n",
    "    \n",
    "    return parameters"
   ]
  },
  {
   "cell_type": "code",
   "execution_count": 32,
   "id": "345b5683-2988-4bff-a94a-5ff7863a2516",
   "metadata": {},
   "outputs": [],
   "source": [
    "def linear_forward(A, W, b):  \n",
    "    Z = np.dot(W,A) + b\n",
    "    \n",
    "    cache = (A, W, b)\n",
    "    return Z,cache"
   ]
  },
  {
   "cell_type": "code",
   "execution_count": 34,
   "id": "2d348368-093d-4294-9c8f-229bfeff146c",
   "metadata": {},
   "outputs": [],
   "source": [
    "def linear_activation_forward(A_prev, W, b, activation):\n",
    "    if activation == \"sigmoid\":\n",
    "        Z, linear_cache =linear_forward(A_prev, W, b)\n",
    "        A,activation_cache = sigmoid(Z)      #activation cache is Z and linear cache is (A,W,b)\n",
    "    \n",
    "    elif activation==\"relu\":\n",
    "        Z, linear_cache = linear_forward(A_prev, W, b)\n",
    "        A,activation_cache = relu(Z)\n",
    "\n",
    "    cache = (linear_cache, activation_cache)\n",
    "\n",
    "    return A, cache"
   ]
  },
  {
   "cell_type": "code",
   "execution_count": 36,
   "id": "7636ce33-f9ad-4d98-abd5-db826416d0c0",
   "metadata": {},
   "outputs": [],
   "source": [
    "def L_model_forward(X, parameters):\n",
    "    caches = []\n",
    "    A = X\n",
    "    L = len(parameters)//2                  #no. of layers in the nn\n",
    "    \n",
    "    for l in range(1,L):\n",
    "        A_prev=A\n",
    "        A,cache =linear_activation_forward(A_prev, parameters['W' + str(l)], parameters['b' + str(l)], \"relu\")\n",
    "        caches.append(cache)\n",
    "    \n",
    "    AL, cache = linear_activation_forward(A,parameters['W'+str(L)],parameters['b'+str(L)],\"sigmoid\")   #AL is last activation\n",
    "    caches.append(cache)\n",
    "    \n",
    "    return AL, caches"
   ]
  },
  {
   "cell_type": "code",
   "execution_count": 38,
   "id": "b0b065fb-6ac3-41a4-8150-b7f00aa10242",
   "metadata": {},
   "outputs": [],
   "source": [
    "def compute_cost(AL, Y, parameters, pos_weight, lambd):\n",
    "    m = Y.shape[1]\n",
    "    weighted_Y = pos_weight * Y\n",
    "    cost_ = -(1/m)*(np.dot(weighted_Y,np.log(AL).T) + np.dot((1-Y),np.log(1-AL).T))\n",
    "    \n",
    "    L2_cost = 0\n",
    "    if lambd!= 0:\n",
    "        L = len(parameters)//2\n",
    "        for l in range(1, L+1):\n",
    "            L2_cost += np.sum(np.square(parameters[\"W\" + str(l)]))\n",
    "        L2_cost = (lambd/(2*m))*L2_cost\n",
    "\n",
    "    cost = np.squeeze(cost_ + L2_cost)\n",
    "    return cost"
   ]
  },
  {
   "cell_type": "code",
   "execution_count": 40,
   "id": "83792f92-d5d6-4bb2-ad2f-c5b68b9fb2cf",
   "metadata": {},
   "outputs": [],
   "source": [
    "def linear_backward(dZ, cache, lambd=0.0):     #cache is linear cache \n",
    "    A_prev, W, b = cache\n",
    "    m = A_prev.shape[1]\n",
    "    \n",
    "    dW = (1/m)*np.dot(dZ, A_prev.T)+ (lambd/m)*W\n",
    "    db = (1/m)*np.sum(dZ, axis=1,keepdims=True)\n",
    "    dA_prev = np.dot(W.T,dZ)\n",
    "\n",
    "    return dA_prev, dW, db\n"
   ]
  },
  {
   "cell_type": "code",
   "execution_count": 42,
   "id": "2d6b9e99-9a8b-4fab-82be-141a7a024050",
   "metadata": {},
   "outputs": [],
   "source": [
    "def sigmoid_backward(dA,cache):\n",
    "    Z=cache[0]   #cache[0]= A_prev\n",
    "    S = 1/(1+np.exp(-Z))\n",
    "    dZ= dA * S * (1-S)\n",
    "    return dZ"
   ]
  },
  {
   "cell_type": "code",
   "execution_count": 44,
   "id": "a54541d7-af2a-40ab-b46b-7df4fc58489f",
   "metadata": {},
   "outputs": [],
   "source": [
    "def relu_backward(dA,cache):\n",
    "    Z = cache[0]\n",
    "    dZ = np.array(dA, copy=True)\n",
    "    dZ[Z<=0]=0\n",
    "    return dZ"
   ]
  },
  {
   "cell_type": "code",
   "execution_count": 46,
   "id": "1068b582-9d38-47f2-8012-68ab6ffbe156",
   "metadata": {},
   "outputs": [],
   "source": [
    "def linear_activation_backward(dA, cache, activation, lambd=0.0):\n",
    "    linear_cache, activation_cache = cache\n",
    "    \n",
    "    if activation == \"relu\":\n",
    "        dZ =relu_backward(dA, activation_cache)\n",
    "    elif activation == \"sigmoid\":\n",
    "        dZ =sigmoid_backward(dA, activation_cache)\n",
    "    \n",
    "    dA_prev,dW,db=linear_backward(dZ,linear_cache,lambd)\n",
    "\n",
    "    return dA_prev, dW, db\n",
    "\n"
   ]
  },
  {
   "cell_type": "code",
   "execution_count": 48,
   "id": "2086ab10-d11b-445c-bbf8-93d139954e37",
   "metadata": {},
   "outputs": [],
   "source": [
    "def L_model_backward(AL, Y, caches, lambd=0.0):\n",
    "    grads = {}\n",
    "    L = len(caches)         #no. of layers\n",
    "    m = AL.shape[1]\n",
    "    Y = Y.reshape(AL.shape)          #after this line, Y is the same shape as AL\n",
    "    \n",
    "    dAL = -(np.divide(Y,AL)-np.divide(1-Y, 1-AL))\n",
    "    \n",
    "    current_cache=caches[L-1]          \n",
    "    grads[\"dA\" + str(L-1)], grads[\"dW\" +str(L)], grads[\"db\"+str(L)] = linear_activation_backward(dAL,current_cache,\"sigmoid\",lambd=lambd)\n",
    "\n",
    "    for l in reversed(range(L-1)):\n",
    "        current_cache = caches[l]\n",
    "        dA_prev_temp, dW_temp, db_temp = linear_activation_backward(grads[\"dA\" + str(l+1)], current_cache, activation = \"relu\", lambd=lambd)\n",
    "        grads[\"dA\" + str(l)] = dA_prev_temp\n",
    "        grads[\"dW\" + str(l + 1)] = dW_temp\n",
    "        grads[\"db\" + str(l + 1)] = db_temp\n",
    "\n",
    "    return grads"
   ]
  },
  {
   "cell_type": "code",
   "execution_count": 50,
   "id": "9b95d46d-f836-44e9-8d49-648356f487c1",
   "metadata": {},
   "outputs": [],
   "source": [
    "def update_parameters(parameters, grads, learning_rate):\n",
    "    L = len(parameters)//2         #no. of layers in the nn\n",
    "\n",
    "    for l in range(L):\n",
    "        parameters[\"W\" + str(l+1)] = parameters[\"W\" +str(l+1)]-learning_rate*grads[\"dW\" + str(l+1)]\n",
    "        parameters[\"b\" + str(l+1)] = parameters[\"b\" +str(l+1)]-learning_rate*grads[\"db\" + str(l+1)]\n",
    "        \n",
    "    return parameters"
   ]
  },
  {
   "cell_type": "code",
   "execution_count": 52,
   "id": "a77935f3-4afd-4e24-9f8a-a50afe181566",
   "metadata": {},
   "outputs": [],
   "source": [
    "def random_mini_batches(X, Y, mini_batch_size=64, seed=0):\n",
    "    np.random.seed(seed)\n",
    "\n",
    "    if Y.ndim == 1:\n",
    "        Y = Y.reshape(1, -1)  #Converting to 2D(1, m) becoz of an unexpeccted error occured later\n",
    "    m = X.shape[1]\n",
    "    mini_batches = []\n",
    "    \n",
    "    permutation = np.random.permutation(m)\n",
    "    shuffled_X = X[:, permutation]\n",
    "    shuffled_Y = Y[:, permutation]\n",
    "\n",
    "    num_complete_batches = m // mini_batch_size\n",
    "    for k in range(num_complete_batches):\n",
    "        batch_X = shuffled_X[:, k*mini_batch_size : (k+1)*mini_batch_size]\n",
    "        batch_Y = shuffled_Y[:, k*mini_batch_size : (k+1)*mini_batch_size]\n",
    "        mini_batches.append((batch_X, batch_Y))\n",
    "    \n",
    "    if m % mini_batch_size != 0:\n",
    "        batch_X = shuffled_X[:, num_complete_batches*mini_batch_size:]\n",
    "        batch_Y = shuffled_Y[:, num_complete_batches*mini_batch_size:]\n",
    "        mini_batches.append((batch_X, batch_Y))\n",
    "    \n",
    "    return mini_batches\n"
   ]
  },
  {
   "cell_type": "code",
   "execution_count": 54,
   "id": "17745ccd-6c65-43e9-b14b-f32dfc7d6ec7",
   "metadata": {},
   "outputs": [],
   "source": [
    "def two_layer_model(X, Y, layers_dims, learning_rate=0.01, num_iterations=1000, mini_batch_size=64, print_cost=True, lambd=0.0):\n",
    "    np.random.seed(1)\n",
    "    costs=[]\n",
    "    parameters = initialize_parameters(layers_dims)\n",
    "    \n",
    "    for i in range(num_iterations):\n",
    "        minibatches = random_mini_batches(X,Y,mini_batch_size)\n",
    "        \n",
    "        for batch in minibatches:\n",
    "            batch_X, batch_Y = batch\n",
    "            \n",
    "            AL, caches = L_model_forward(batch_X, parameters)     #forward prop\n",
    "            cost = compute_cost(AL, batch_Y, parameters, pos_weight, lambd)    #cost\n",
    "            grads = L_model_backward(AL, batch_Y, caches, lambd)    #back prop\n",
    "            parameters = update_parameters(parameters, grads, learning_rate)      #parameter updates\n",
    "        \n",
    "        if print_cost and i % 100 == 0:\n",
    "            print(f\"Cost after iteration {i}: {cost}\")\n",
    "        costs.append(cost)\n",
    "    \n",
    "    return parameters,costs\n"
   ]
  },
  {
   "cell_type": "code",
   "execution_count": 56,
   "id": "6aef83ec-05a5-46a7-95da-f100c16fa4df",
   "metadata": {},
   "outputs": [],
   "source": [
    "#model architecture\n",
    "n_x = X_train.shape[1]\n",
    "n_h = 8\n",
    "n_y = 1\n",
    "layers_dims=[n_x,n_h,n_y]"
   ]
  },
  {
   "cell_type": "code",
   "execution_count": 58,
   "id": "5824ab56-82d9-4807-999d-5c0dc5c8b70d",
   "metadata": {},
   "outputs": [],
   "source": [
    "#cost sensitive learning\n",
    "neg = np.sum(y_train== 0)\n",
    "pos = np.sum(y_train == 1)\n",
    "pos_weight = neg/pos"
   ]
  },
  {
   "cell_type": "code",
   "execution_count": 60,
   "id": "5aeca70d-b6b8-4359-8576-61565d6fcdc9",
   "metadata": {},
   "outputs": [
    {
     "name": "stdout",
     "output_type": "stream",
     "text": [
      "Cost after iteration 0: 1.690657173808153\n",
      "Cost after iteration 100: 1.5009036499970598\n",
      "Cost after iteration 200: 1.5019962761175023\n",
      "Cost after iteration 300: 1.4811800854223791\n",
      "Cost after iteration 400: 1.4916243364719288\n",
      "Cost after iteration 500: 1.5122467594020421\n",
      "Cost after iteration 600: 1.49933535456391\n",
      "Cost after iteration 700: 1.5121160176557367\n",
      "Cost after iteration 800: 1.5163102191433517\n",
      "Cost after iteration 900: 1.5230062542324228\n",
      "Cost after iteration 1000: 1.5270925680555387\n",
      "Cost after iteration 1100: 1.5331175955806475\n",
      "Cost after iteration 1200: 1.5219287244004494\n",
      "Cost after iteration 1300: 1.508362249285285\n",
      "Cost after iteration 1400: 1.5067913742985213\n",
      "Cost after iteration 1500: 1.5046145461573626\n",
      "Cost after iteration 1600: 1.5074625654277096\n",
      "Cost after iteration 1700: 1.499903795566354\n",
      "Cost after iteration 1800: 1.4825306504211213\n",
      "Cost after iteration 1900: 1.4830696721629635\n",
      "Cost after iteration 2000: 1.4654593131193032\n",
      "Cost after iteration 2100: 1.4664419312206152\n",
      "Cost after iteration 2200: 1.4616764317748385\n",
      "Cost after iteration 2300: 1.4552597030661933\n",
      "Cost after iteration 2400: 1.4424913128515529\n",
      "Cost after iteration 2500: 1.4389078424960087\n",
      "Cost after iteration 2600: 1.4321828779168724\n",
      "Cost after iteration 2700: 1.4251663494224778\n",
      "Cost after iteration 2800: 1.4298424468558009\n",
      "Cost after iteration 2900: 1.4345080527840965\n",
      "\n",
      "Training time: 567.31 seconds\n",
      "Memory usage: -4.71 MB\n"
     ]
    },
    {
     "data": {
      "image/png": "[encoded data removed]",
      "text/plain": [
       "<Figure size 640x480 with 1 Axes>"
      ]
     },
     "metadata": {},
     "output_type": "display_data"
    }
   ],
   "source": [
    "import time\n",
    "import psutil\n",
    "import os\n",
    "\n",
    "process = psutil.Process(os.getpid())\n",
    "\n",
    "# Measure memory before\n",
    "mem_before = process.memory_info().rss / (1024 ** 2)  # in MB\n",
    "\n",
    "# Measure time before\n",
    "start_time = time.time()\n",
    "\n",
    "# Reshape y_train to 2D before passing to model\n",
    "parameters,costs = two_layer_model(X_train.T, y_train.reshape(1, -1),layers_dims, learning_rate=0.01, num_iterations=3000, mini_batch_size=64, print_cost=True, lambd=0.01)\n",
    "\n",
    "# Measure memory after\n",
    "mem_after = process.memory_info().rss / (1024 ** 2)  # in MB\n",
    "\n",
    "# Measure time after\n",
    "end_time=time.time()\n",
    "total_time = end_time - start_time\n",
    "\n",
    "\n",
    "print(f\"\\nTraining time: {total_time:.2f} seconds\")\n",
    "print(f\"Memory usage: {mem_after - mem_before:.2f} MB\")\n",
    "\n",
    "plt.plot(np.squeeze(costs))\n",
    "plt.ylabel('cost')\n",
    "plt.xlabel('iterations')\n",
    "plt.title(\"Learning rate =0.01\")\n",
    "plt.show()\n",
    "\n"
   ]
  },
  {
   "cell_type": "code",
   "execution_count": 61,
   "id": "09e9a1b6-e064-45d6-b65b-e75f10bdf014",
   "metadata": {},
   "outputs": [],
   "source": [
    "def predict(x, y, parameters, threshold=0.5):\n",
    "    m = x.shape[1]\n",
    "    p = np.zeros((1, m))\n",
    "    AL, caches = L_model_forward(x, parameters)\n",
    "    for i in range(AL.shape[1]):\n",
    "        if AL[0,i]>threshold:\n",
    "            p[0,i]=1\n",
    "        else:\n",
    "            p[0,i]=0\n",
    "\n",
    "    accuracy = np.sum(p == y) / m\n",
    "    print(f\"Accuracy: {accuracy:.6f}\")\n",
    "    return p\n"
   ]
  },
  {
   "cell_type": "code",
   "execution_count": 64,
   "id": "38d021d3-4713-4984-8070-557c625de4c2",
   "metadata": {},
   "outputs": [
    {
     "name": "stdout",
     "output_type": "stream",
     "text": [
      "Accuracy: 0.554148\n",
      "Threshold: 0.10, F1 Score: 0.4378\n",
      "Accuracy: 0.583552\n",
      "Threshold: 0.15, F1 Score: 0.4379\n",
      "Accuracy: 0.624672\n",
      "Threshold: 0.20, F1 Score: 0.4402\n",
      "Accuracy: 0.680223\n",
      "Threshold: 0.25, F1 Score: 0.4321\n",
      "Accuracy: 0.728942\n",
      "Threshold: 0.30, F1 Score: 0.3952\n",
      "Accuracy: 0.772550\n",
      "Threshold: 0.35, F1 Score: 0.2896\n",
      "Accuracy: 0.793314\n",
      "Threshold: 0.40, F1 Score: 0.1282\n",
      "Accuracy: 0.796300\n",
      "Threshold: 0.45, F1 Score: 0.0530\n",
      "Accuracy: 0.797476\n",
      "Threshold: 0.50, F1 Score: 0.0184\n",
      "Accuracy: 0.797792\n",
      "Threshold: 0.55, F1 Score: 0.0036\n",
      "Accuracy: 0.798019\n",
      "Threshold: 0.60, F1 Score: 0.0004\n",
      "Accuracy: 0.798064\n",
      "Threshold: 0.65, F1 Score: 0.0000\n",
      "Accuracy: 0.798064\n",
      "Threshold: 0.70, F1 Score: 0.0000\n",
      "Accuracy: 0.798064\n",
      "Threshold: 0.75, F1 Score: 0.0000\n",
      "Accuracy: 0.798064\n",
      "Threshold: 0.80, F1 Score: 0.0000\n",
      "Accuracy: 0.798064\n",
      "Threshold: 0.85, F1 Score: 0.0000\n"
     ]
    }
   ],
   "source": [
    "#tuning decision threshold\n",
    "from sklearn.metrics import f1_score\n",
    "\n",
    "thresholds = np.arange(0.1, 0.9, 0.05)\n",
    "f1_scores = []\n",
    "\n",
    "for t in thresholds:\n",
    "    preds = predict(X_cv.T, y_cv.T, parameters, threshold=t)\n",
    "    f1 = f1_score(y_cv.T.flatten(), preds.flatten())\n",
    "    f1_scores.append(f1)\n",
    "    print(f\"Threshold: {t:.2f}, F1 Score: {f1:.4f}\")\n"
   ]
  },
  {
   "cell_type": "code",
   "execution_count": 66,
   "id": "770191d5-0433-4a9c-ad75-963895c70d71",
   "metadata": {},
   "outputs": [
    {
     "name": "stdout",
     "output_type": "stream",
     "text": [
      "Best Threshold: 0.20000000000000004, Best F1 Score: 0.4402\n"
     ]
    }
   ],
   "source": [
    "best_idx = np.argmax(f1_scores)\n",
    "best_threshold = thresholds[best_idx]\n",
    "print(f\"Best Threshold: {best_threshold}, Best F1 Score: {f1_scores[best_idx]:.4f}\")\n"
   ]
  },
  {
   "cell_type": "code",
   "execution_count": 68,
   "id": "9a837e42-9cee-4c7b-bc57-80ef76992f43",
   "metadata": {},
   "outputs": [
    {
     "data": {
      "image/png": "[encoded data removed]",
      "text/plain": [
       "<Figure size 640x480 with 1 Axes>"
      ]
     },
     "metadata": {},
     "output_type": "display_data"
    }
   ],
   "source": [
    "plt.plot(thresholds, f1_scores, marker='o')\n",
    "plt.xlabel(\"Threshold\")\n",
    "plt.ylabel(\"F1 Score\")\n",
    "plt.title(\"Threshold Tuning for F1 Score\")\n",
    "plt.grid(True)\n",
    "plt.show()\n"
   ]
  },
  {
   "cell_type": "code",
   "execution_count": 70,
   "id": "ced36bc0-487e-4b3c-92da-6b9f3163e190",
   "metadata": {},
   "outputs": [
    {
     "name": "stdout",
     "output_type": "stream",
     "text": [
      "Accuracy: 0.624818\n",
      "Accuracy: 0.624672\n"
     ]
    }
   ],
   "source": [
    "predictions_train = predict(X_train.T,y_train.T,parameters, threshold= best_threshold)\n",
    "predictions_test = predict(X_cv.T,y_cv.T,parameters, threshold= best_threshold)"
   ]
  },
  {
   "cell_type": "markdown",
   "id": "0e87eab6-6f6e-46ed-8bb8-78b984e66a21",
   "metadata": {},
   "source": [
    "=============================================================================================================== <br>**PyTorch Implementation** <br>\n",
    "=============================================================================================================== <br>\n"
   ]
  },
  {
   "cell_type": "code",
   "execution_count": 8,
   "id": "ebdfc2ff-c280-49ef-9830-6f63f778aa48",
   "metadata": {},
   "outputs": [],
   "source": [
    "import torch.nn as nn\n",
    "import torch.optim as optim\n",
    "import torch\n",
    "import psutil\n",
    "import time\n",
    "import os"
   ]
  },
  {
   "cell_type": "code",
   "execution_count": 12,
   "id": "58f081b9-9e72-4ff7-a6ff-0923bed27adc",
   "metadata": {},
   "outputs": [
    {
     "name": "stdout",
     "output_type": "stream",
     "text": [
      "Training set shape: torch.Size([88421, 38]) torch.Size([88421, 1])\n",
      "Crossvalidation set shape: torch.Size([22106, 38]) torch.Size([22106, 1])\n"
     ]
    }
   ],
   "source": [
    "from sklearn.model_selection import train_test_split\n",
    "\n",
    "X = X.astype(np.float32)\n",
    "y = y.astype(np.float32)\n",
    "\n",
    "X_train_np,X_cv_np,y_train_np,y_cv_np = train_test_split(X,y,test_size=0.2,stratify=y, random_state=42)\n",
    "\n",
    "X_train_t = torch.from_numpy(X_train_np).float()\n",
    "y_train_t =torch.from_numpy(y_train_np).float().unsqueeze(1)\n",
    "X_cv_t = torch.from_numpy(X_cv_np).float()\n",
    "y_cv_t = torch.from_numpy(y_cv_np).float().unsqueeze(1)\n",
    "\n",
    "print(\"Training set shape:\",X_train_t.shape, y_train_t.shape)\n",
    "print(\"Crossvalidation set shape:\", X_cv_t.shape, y_cv_t.shape)\n",
    "\n"
   ]
  },
  {
   "cell_type": "code",
   "execution_count": 14,
   "id": "6334bee3-424d-4446-b594-7853d133e29b",
   "metadata": {},
   "outputs": [],
   "source": [
    "#for cost sensitive learning \n",
    "n_pos = (y_train_np == 1).sum()\n",
    "n_neg = (y_train_np == 0).sum()"
   ]
  },
  {
   "cell_type": "code",
   "execution_count": 16,
   "id": "6fcb37a3-71cb-4294-9be4-39bb4d72232f",
   "metadata": {},
   "outputs": [],
   "source": [
    "class ANN(nn.Module):\n",
    "    def __init__(self, input_size, hidden_size, output_size):\n",
    "        super(ANN, self).__init__()\n",
    "        self.fc1 = nn.Linear(input_size, hidden_size)\n",
    "        self.relu = nn.ReLU()\n",
    "        self.fc2 = nn.Linear(hidden_size, output_size)\n",
    "\n",
    "    def forward(self, x):\n",
    "        x = self.fc1(x)\n",
    "        x = self.relu(x)\n",
    "        x = self.fc2(x)\n",
    "        return x\n",
    "\n"
   ]
  },
  {
   "cell_type": "code",
   "execution_count": 18,
   "id": "14782ad6-5f39-4ca1-93e6-c01f35bc316c",
   "metadata": {},
   "outputs": [],
   "source": [
    "n_x = X_train_t.shape[1]\n",
    "n_h = 8\n",
    "n_y = 1\n",
    "\n",
    "model = ANN(n_x,n_h,n_y)\n",
    "\n",
    "# 1) Compute pos_weight based on your train labels (NumPy arrays)\n",
    "n_pos = int((y_train_np == 1).sum())\n",
    "n_neg = int((y_train_np == 0).sum())\n",
    "if n_pos == 0:\n",
    "    pos_weight_value = 1.0\n",
    "else:\n",
    "    pos_weight_value = n_neg/n_pos\n",
    "\n",
    "# 2) Create a 1‐element tensor for pos_weight\n",
    "pos_weight_tensor = torch.tensor([pos_weight_value], dtype=torch.float32)\n",
    "\n",
    "# 3) Use BCEWithLogitsLoss with that pos_weight\n",
    "criterion = nn.BCEWithLogitsLoss(pos_weight=pos_weight_tensor)\n",
    "\n",
    "optimizer =optim.Adam(model.parameters(),lr=0.01,weight_decay=1e-4 )"
   ]
  },
  {
   "cell_type": "code",
   "execution_count": 19,
   "id": "61469e7d-83b1-48db-838c-8e49ca52af53",
   "metadata": {},
   "outputs": [
    {
     "name": "stdout",
     "output_type": "stream",
     "text": [
      "Epoch  100 — cost: 1.002631\n",
      "Epoch  200 — cost: 0.972465\n",
      "Epoch  300 — cost: 0.961153\n",
      "Epoch  400 — cost: 0.958930\n",
      "Epoch  500 — cost: 0.957556\n",
      "Epoch  600 — cost: 0.955154\n",
      "Epoch  700 — cost: 0.954189\n",
      "Epoch  800 — cost: 0.956198\n",
      "Epoch  900 — cost: 0.953420\n",
      "Epoch 1000 — cost: 0.953962\n",
      "Epoch 1100 — cost: 0.953411\n",
      "Epoch 1200 — cost: 0.953457\n",
      "Epoch 1300 — cost: 0.953512\n",
      "Epoch 1400 — cost: 0.953370\n",
      "Epoch 1500 — cost: 0.953567\n",
      "Epoch 1600 — cost: 0.953307\n",
      "Epoch 1700 — cost: 0.952944\n",
      "Epoch 1800 — cost: 0.953344\n",
      "Epoch 1900 — cost: 0.952439\n",
      "Epoch 2000 — cost: 0.953202\n",
      "Epoch 2100 — cost: 0.953543\n",
      "Epoch 2200 — cost: 0.952603\n",
      "Epoch 2300 — cost: 0.952972\n",
      "Epoch 2400 — cost: 0.952040\n",
      "Epoch 2500 — cost: 0.952428\n",
      "Epoch 2600 — cost: 0.952077\n",
      "Epoch 2700 — cost: 0.951944\n",
      "Epoch 2800 — cost: 0.952288\n",
      "Epoch 2900 — cost: 0.952163\n",
      "Epoch 3000 — cost: 0.951784\n",
      "\n",
      "Total training time: 23.01 seconds\n",
      "CPU memory used: 13.67 MB\n"
     ]
    },
    {
     "data": {
      "image/png": "[encoded data removed]",
      "text/plain": [
       "<Figure size 640x480 with 1 Axes>"
      ]
     },
     "metadata": {},
     "output_type": "display_data"
    }
   ],
   "source": [
    "process = psutil.Process(os.getpid())\n",
    "mem_before = process.memory_info().rss / (1024**2)\n",
    "\n",
    "if torch.cuda.is_available():\n",
    "    torch.cuda.reset_peak_memory_stats()\n",
    "    torch.cuda.empty_cache()\n",
    "\n",
    "\n",
    "#training\n",
    "eplist, losslist = [],[]\n",
    "start_time = time.time()\n",
    "\n",
    "for epoch in range(1, 3001):\n",
    "    y_pred = model(X_train_t)\n",
    "    loss = criterion(y_pred, y_train_t)\n",
    "\n",
    "    optimizer.zero_grad()\n",
    "    loss.backward()\n",
    "    optimizer.step()\n",
    "\n",
    "    losslist.append(loss.item())\n",
    "    eplist.append(epoch)\n",
    "\n",
    "    if epoch%100==0 or epoch==1000 or epoch==0:\n",
    "        print(f\"Epoch {epoch:4d} — cost: {loss.item():.6f}\")\n",
    "\n",
    "\n",
    "end_time = time.time()\n",
    "total_train_time = end_time - start_time\n",
    "print(f\"\\nTotal training time: {total_train_time:.2f} seconds\")\n",
    "\n",
    "mem_after = process.memory_info().rss / (1024**2)\n",
    "print(f\"CPU memory used: {mem_after - mem_before:.2f} MB\")\n",
    "\n",
    "if torch.cuda.is_available():\n",
    "    peak_gpu = torch.cuda.max_memory_allocated() / (1024**2)\n",
    "    print(f\"Peak GPU memory allocated: {peak_gpu:.2f} MB\")\n",
    "\n",
    "#plotting cost\n",
    "plt.plot(np.squeeze(losslist))\n",
    "plt.ylabel('cost')\n",
    "plt.xlabel('iterations')\n",
    "plt.title(\"Learning rate =0.01\")\n",
    "plt.show()\n",
    "\n"
   ]
  },
  {
   "cell_type": "code",
   "execution_count": 21,
   "id": "d8b10048-e1af-4d43-8b76-50faae648c8a",
   "metadata": {},
   "outputs": [
    {
     "name": "stdout",
     "output_type": "stream",
     "text": [
      "Train accuracy at 0.5 threshold: 0.5744\n",
      "Best CV threshold: 0.550000      F1 = 0.450423\n"
     ]
    }
   ],
   "source": [
    "model.eval()\n",
    "with torch.no_grad():\n",
    "    logits_train= model(X_train_t)\n",
    "    logits_cv= model(X_cv_t)\n",
    "\n",
    "    #converting logits to probability via sigmoid\n",
    "    probs_train = torch.sigmoid(logits_train).cpu().numpy().flatten()\n",
    "    probs_cv =torch.sigmoid(logits_cv).cpu().numpy().flatten()\n",
    "\n",
    "    y_true_train = y_train_t.cpu().numpy().flatten()\n",
    "    y_true_cv= y_cv_t.cpu().numpy().flatten()\n",
    "\n",
    "#below part written with ChatGPT\n",
    "# Compute training accuracy at threshold 0.5 to monitor:\n",
    "preds_train_05 = (probs_train > 0.5).astype(int)\n",
    "train_acc_05   = (preds_train_05 == y_true_train).mean()\n",
    "print(f\"Train accuracy at 0.5 threshold: {train_acc_05:.4f}\")\n",
    "\n",
    "# Search for the best threshold on CV set to maximize F1\n",
    "from sklearn.metrics import f1_score, accuracy_score, confusion_matrix, precision_recall_curve\n",
    "\n",
    "best_threshold = 0.5\n",
    "best_f1 = 0.0\n",
    "for thr in np.linspace(0, 1, 101):\n",
    "    preds_cv = (probs_cv > thr).astype(int)\n",
    "    f1_tmp = f1_score(y_true_cv, preds_cv)\n",
    "    if f1_tmp > best_f1:\n",
    "        best_f1 = f1_tmp\n",
    "        best_threshold = thr\n",
    "\n",
    "print(f\"Best CV threshold: {best_threshold:.6f}      F1 = {best_f1:.6f}\")\n",
    "\n",
    "# Use that best_threshold to compute final metrics on CV\n",
    "y_cv_pred_opt = (probs_cv > best_threshold).astype(int)\n"
   ]
  },
  {
   "cell_type": "markdown",
   "id": "73baa441-5f91-457d-87e1-a6efa178c10e",
   "metadata": {},
   "source": [
    "=============================================================================================================== <br>**Performance Metrics** <br>\n",
    "=============================================================================================================== <br>\n"
   ]
  },
  {
   "cell_type": "code",
   "execution_count": 72,
   "id": "807e2da7-7a83-47a3-8dff-910dc3ad38be",
   "metadata": {},
   "outputs": [
    {
     "name": "stdout",
     "output_type": "stream",
     "text": [
      "(22106,)\n",
      "(1, 22106)\n",
      "torch.Size([22106, 1])\n"
     ]
    }
   ],
   "source": [
    "print(y_cv.shape)\n",
    "print(predictions_test.shape)\n",
    "print(y_cv_t.shape)"
   ]
  },
  {
   "cell_type": "code",
   "execution_count": 74,
   "id": "fe211d87-4234-4a0f-8fae-bf797790fbbb",
   "metadata": {},
   "outputs": [],
   "source": [
    "def get_probabilities(x, parameters):\n",
    "    AL, _ = L_model_forward(x, parameters)\n",
    "    return AL.flatten()\n",
    "\n",
    "#raw predicted probabilities for cv set\n",
    "probabilities = get_probabilities(X_cv.T, parameters)"
   ]
  },
  {
   "cell_type": "code",
   "execution_count": 76,
   "id": "0ca7457a-1341-434f-a6e9-f31ca3b5ff14",
   "metadata": {},
   "outputs": [
    {
     "name": "stdout",
     "output_type": "stream",
     "text": [
      "NUMPY PERFORMANCE METRICS--------------\n",
      "Accuracy: 0.6246720347416991\n",
      "Precision Recall AUC: 0.3500898039318638\n",
      "F1 Score: 0.661662096087028\n",
      "Confusion Matrix:\n",
      " [[10547  7095]\n",
      " [ 1202  3262]]\n"
     ]
    },
    {
     "data": {
      "image/png": "[encoded data removed]",
      "text/plain": [
       "<Figure size 640x480 with 2 Axes>"
      ]
     },
     "metadata": {},
     "output_type": "display_data"
    }
   ],
   "source": [
    "predictions_test = predictions_test.flatten()\n",
    "acc = accuracy_score(y_cv, predictions_test)\n",
    "prec, rec, thresholds = precision_recall_curve(y_cv, probabilities)\n",
    "auc0 = sk_auc(rec,prec)\n",
    "f1 = f1_score(y_cv, predictions_test, average=\"weighted\")    #using weighted f1 for imbalanced data\n",
    "cm = confusion_matrix(y_cv, predictions_test)\n",
    "\n",
    "print(\"NUMPY PERFORMANCE METRICS--------------\")\n",
    "print(\"Accuracy:\", acc)\n",
    "print(\"Precision Recall AUC:\", auc0)\n",
    "print(\"F1 Score:\", f1)\n",
    "print(\"Confusion Matrix:\\n\", cm)\n",
    "display = ConfusionMatrixDisplay(confusion_matrix=cm)\n",
    "display.plot(cmap='Blues')\n",
    "plt.title(\"Confusion Matrix\")\n",
    "plt.show()"
   ]
  },
  {
   "cell_type": "code",
   "execution_count": 22,
   "id": "9e218825-ae64-43c3-b5d0-8c4cd6b06f17",
   "metadata": {},
   "outputs": [
    {
     "name": "stdout",
     "output_type": "stream",
     "text": [
      "PYTORCH PERFORMANCE METRICS----------\n",
      "Accuracy: 0.6294218764136433\n",
      "Precision Recall AUC: 0.34365867004184714\n",
      "F1 Score: 0.6659351291223935\n",
      "Confusion Matrix:\n",
      " [[10557  7085]\n",
      " [ 1107  3357]]\n"
     ]
    },
    {
     "data": {
      "image/png": "[encoded data removed]",
      "text/plain": [
       "<Figure size 640x480 with 2 Axes>"
      ]
     },
     "metadata": {},
     "output_type": "display_data"
    }
   ],
   "source": [
    "acc = accuracy_score(y_cv_t, y_cv_pred_opt)\n",
    "prec, rec, thresholds = precision_recall_curve(y_cv_t, probs_cv)\n",
    "auc1 = sk_auc(rec,prec)\n",
    "f1 = f1_score(y_cv_t, y_cv_pred_opt, average=\"weighted\")\n",
    "cm = confusion_matrix(y_cv_t, y_cv_pred_opt)\n",
    "\n",
    "print(\"PYTORCH PERFORMANCE METRICS----------\")\n",
    "print(\"Accuracy:\", acc)\n",
    "print(\"Precision Recall AUC:\", auc1)\n",
    "print(\"F1 Score:\", f1)\n",
    "print(\"Confusion Matrix:\\n\", cm)\n",
    "\n",
    "display = ConfusionMatrixDisplay(confusion_matrix=cm)\n",
    "display.plot(cmap='Blues')\n",
    "plt.title(\"Confusion Matrix\")\n",
    "plt.show()"
   ]
  },
  {
   "cell_type": "code",
   "execution_count": null,
   "id": "6830db82-7257-4401-9f04-5ee4404f5d96",
   "metadata": {},
   "outputs": [],
   "source": []
  },
  {
   "cell_type": "code",
   "execution_count": null,
   "id": "3fb364cb-6d7b-4d28-9b08-d26496476357",
   "metadata": {},
   "outputs": [],
   "source": []
  }
 ],
 "metadata": {
  "kernelspec": {
   "display_name": "Python 3 (ipykernel)",
   "language": "python",
   "name": "python3"
  },
  "language_info": {
   "codemirror_mode": {
    "name": "ipython",
    "version": 3
   },
   "file_extension": ".py",
   "mimetype": "text/x-python",
   "name": "python",
   "nbconvert_exporter": "python",
   "pygments_lexer": "ipython3",
   "version": "3.12.7"
  }
 },
 "nbformat": 4,
 "nbformat_minor": 5
}
