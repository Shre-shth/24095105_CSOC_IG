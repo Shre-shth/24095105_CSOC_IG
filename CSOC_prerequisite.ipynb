{
  "nbformat": 4,
  "nbformat_minor": 0,
  "metadata": {
    "colab": {
      "provenance": []
    },
    "kernelspec": {
      "name": "python3",
      "display_name": "Python 3"
    },
    "language_info": {
      "name": "python"
    }
  },
  "cells": [
    {
      "cell_type": "markdown",
      "source": [
        "\n",
        "\n",
        "---\n",
        "\n",
        "\n",
        "\n",
        "\n",
        "---\n",
        "\n",
        "\n",
        "\n",
        "# **Comparison of Linear Regression Implementations: Pure Python, NumPy, and Scikit-learn**\n",
        "\n",
        "\n",
        "---\n",
        "\n",
        "\n",
        "\n",
        "---\n",
        "\n"
      ],
      "metadata": {
        "id": "OwcklurKzXko"
      }
    },
    {
      "cell_type": "markdown",
      "source": [
        "\n",
        "\n",
        "> Below is the setup, firstly this code was meant to work on google colab, so the G drive is mounted with the location of the stored dataset.\n",
        "And other used libraries were improted.\n",
        "\n"
      ],
      "metadata": {
        "id": "IQCVsO_E1WBv"
      }
    },
    {
      "cell_type": "code",
      "source": [
        "from google.colab import drive\n",
        "drive.mount('/content/drive')\n",
        "\n",
        "import time\n",
        "import csv\n",
        "import copy, math\n",
        "import numpy as np\n",
        "from sklearn.linear_model import LinearRegression\n",
        "from sklearn.metrics import mean_absolute_error, mean_squared_error, r2_score\n",
        "from sklearn.model_selection import train_test_split\n",
        "import matplotlib.pyplot as plt\n"
      ],
      "metadata": {
        "colab": {
          "base_uri": "https://localhost:8080/"
        },
        "id": "fNItXPXdZb3c",
        "outputId": "f67b350c-380b-4001-d5d6-16c622449d77"
      },
      "execution_count": 2,
      "outputs": [
        {
          "output_type": "stream",
          "name": "stdout",
          "text": [
            "Drive already mounted at /content/drive; to attempt to forcibly remount, call drive.mount(\"/content/drive\", force_remount=True).\n"
          ]
        }
      ]
    },
    {
      "cell_type": "markdown",
      "source": [
        "\n",
        "\n",
        "> **Loading Dataset** : Load CSV Data as NumPy arrays\n",
        "path is the location were the dataset is stored. Here, the dataset is stored in my Google drive.\n",
        "\n"
      ],
      "metadata": {
        "id": "VC5beAAF1shG"
      }
    },
    {
      "cell_type": "code",
      "source": [
        "path = '/content/drive/MyDrive/housing.csv'\n",
        "\n",
        "def load_data(path):\n",
        "    X, y = [], []\n",
        "    with open(path, 'r') as f:\n",
        "        reader = csv.DictReader(f)\n",
        "        for row in reader:\n",
        "            try:\n",
        "                X.append([\n",
        "                    float(row['longitude']),\n",
        "                    float(row['latitude']),\n",
        "                    float(row['housing_median_age']),\n",
        "                    float(row['total_rooms']),\n",
        "                    float(row['total_bedrooms']),\n",
        "                    float(row['population']),\n",
        "                    float(row['households']),\n",
        "                    float(row['median_income'])\n",
        "                ])\n",
        "                y.append(float(row['median_house_value']))\n",
        "            except ValueError:\n",
        "                continue\n",
        "    return np.array(X), np.array(y)\n",
        "\n",
        "X, y = load_data(path)\n"
      ],
      "metadata": {
        "id": "rOj6n0SPo6rs"
      },
      "execution_count": 3,
      "outputs": []
    },
    {
      "cell_type": "code",
      "source": [
        "print ('The shape of X is:', X.shape)\n",
        "print('The shape of y is: ', y.shape)\n",
        "print('Number of training examples (m):', len(X))"
      ],
      "metadata": {
        "colab": {
          "base_uri": "https://localhost:8080/"
        },
        "id": "Vt8LFDNSq27n",
        "outputId": "0d7d9422-2ff5-42e4-c100-6e4380cbbb7e"
      },
      "execution_count": 4,
      "outputs": [
        {
          "output_type": "stream",
          "name": "stdout",
          "text": [
            "The shape of X is: (20433, 8)\n",
            "The shape of y is:  (20433,)\n",
            "Number of training examples (m): 20433\n"
          ]
        }
      ]
    },
    {
      "cell_type": "markdown",
      "source": [
        "\n",
        "\n",
        "> **Normalizing features and Targets** :  Features were normalized using the Z-score normalization(commonly used as it prevents the cost function to be elongated, rather it makes a nearly\n",
        "uniform cost function which helps to run the gradient descent much faster) to zero mean and\n",
        "standard variance to ensure fair convergence during gradient descent\n",
        "\n"
      ],
      "metadata": {
        "id": "PafkR4xN1_1g"
      }
    },
    {
      "cell_type": "code",
      "source": [
        "def normalize_features(X):\n",
        "    X = np.array(X)\n",
        "    means = X.mean(axis=0)\n",
        "    stds = X.std(axis=0) + 1e-8    #adding small constant to avoid any division by zero.\n",
        "    X_norm = (X - means) / stds\n",
        "    return X_norm, means, stds\n",
        "\n",
        "X_norm, means, stds = normalize_features(X)\n",
        "\n",
        "mean_y = np.mean(y)\n",
        "std_y = np.std(y) + 1e-8\n",
        "y_norm = (y - mean_y) / std_y\n",
        "print('The shape of y_norm is: ', y_norm.shape)"
      ],
      "metadata": {
        "colab": {
          "base_uri": "https://localhost:8080/"
        },
        "id": "AohaP2d0yvd9",
        "outputId": "9534d3aa-245f-44f8-91ff-a5bb5c8b274c"
      },
      "execution_count": 5,
      "outputs": [
        {
          "output_type": "stream",
          "name": "stdout",
          "text": [
            "The shape of y_norm is:  (20433,)\n"
          ]
        }
      ]
    },
    {
      "cell_type": "markdown",
      "source": [
        "\n",
        "\n",
        "> **Split into Training and Cross Validation Sets** :  The dataset was split\n",
        "into 70% training and 30% cross-validation sets for giving the model appropriate number\n",
        "of examples to cross validate with new data. Also used ”random state” in the train test split() function to divide the same examples in train and CV\n",
        "set, because train test split() function randomly divides the dataset, which is not feasible\n",
        "for fair comparison.\n",
        "\n"
      ],
      "metadata": {
        "id": "i5Q5QaRP2cGH"
      }
    },
    {
      "cell_type": "code",
      "source": [
        "# === Split into Training and Cross Validation Sets ===\n",
        "X_train, X_cv, y_train, y_cv = train_test_split(X_norm, y_norm, test_size=0.3, random_state=42)    #split the dataset into 70% train and 30% cross validation set\n",
        "print(\"Training set size (X_train):\", X_train.shape)\n",
        "print(\"Cross-validation set size (X_cv):\", X_cv.shape)\n"
      ],
      "metadata": {
        "colab": {
          "base_uri": "https://localhost:8080/"
        },
        "id": "n2CHeVZIyw9N",
        "outputId": "f9159af8-dc01-4335-d917-5fecf50f2d26"
      },
      "execution_count": 6,
      "outputs": [
        {
          "output_type": "stream",
          "name": "stdout",
          "text": [
            "Training set size (X_train): (14303, 8)\n",
            "Cross-validation set size (X_cv): (6130, 8)\n"
          ]
        }
      ]
    },
    {
      "cell_type": "markdown",
      "source": [
        "\n",
        "\n",
        "---\n",
        "\n",
        "\n",
        "\n",
        " > # Pure Python Implementation\n",
        "\n"
      ],
      "metadata": {
        "id": "Y-ESdJPe3H0m"
      }
    },
    {
      "cell_type": "code",
      "source": [
        "#part 1\n",
        "#-------PURE PYTHON IMPLEMENTATION---------------\n",
        "\n",
        "def predict(X, W, b):\n",
        "    predictions = []\n",
        "    for i in range(len(X)):\n",
        "        y_hat = 0.0\n",
        "        for j in range(len(W)):\n",
        "            y_hat += X[i][j] * W[j]\n",
        "        y_hat += b\n",
        "        predictions.append(y_hat)\n",
        "    return predictions\n",
        "\n",
        "\n",
        "def compute_cost(X, y, W, b):\n",
        "    m = len(y)\n",
        "    y_hat = predict(X, W, b)\n",
        "    squared_errors = []\n",
        "    for i in range(m):\n",
        "        error = y_hat[i] - y[i]\n",
        "        squared_errors.append(error ** 2)\n",
        "    cost = sum(squared_errors) / (2 * m)\n",
        "    return cost\n",
        "\n",
        "\n",
        "def compute_gradient(X, y, W, b):\n",
        "    m = len(y)    # no. of training examples\n",
        "    n = len(W)  # no. of features\n",
        "    y_hat = predict(X, W, b)\n",
        "\n",
        "    dW = np.zeros(n)\n",
        "    db = 0.0\n",
        "\n",
        "    for i in range(m):\n",
        "        error = y_hat[i] - y[i]\n",
        "        for j in range(n):\n",
        "            dW[j] += error * X[i][j]\n",
        "        db += error\n",
        "\n",
        "    for j in range(n):\n",
        "        dW[j] = dW[j] / m\n",
        "    db = db / m\n",
        "\n",
        "    return dW, db\n",
        "\n",
        "\n",
        "def gradient_descent(X, y, W, b, learning_rate, num_iters):\n",
        "    cost_history = []\n",
        "\n",
        "    start_time = time.time()  # measure start\n",
        "    for iter in range(num_iters):\n",
        "        dW, db = compute_gradient(X, y, W, b)\n",
        "\n",
        "        for j in range(len(W)):\n",
        "            W[j] -= learning_rate * dW[j]\n",
        "        b -= learning_rate * db\n",
        "\n",
        "        cost = compute_cost(X, y, W, b)\n",
        "        cost_history.append(cost)\n",
        "\n",
        "        if iter % 100 == 0 or iter == num_iters - 1:        #for printing cost after every 100 iterations\n",
        "            print(f\"Iteration {iter}: Cost = {cost}\")\n",
        "    end_time = time.time()  # measure end\n",
        "    print(f\"Pure Python Time Taken: {end_time - start_time:.6f} seconds\\n\")\n",
        "\n",
        "    return W, b, cost_history"
      ],
      "metadata": {
        "id": "8r4m1OYIyxMx"
      },
      "execution_count": 7,
      "outputs": []
    },
    {
      "cell_type": "code",
      "source": [
        "# train pure Python on training set\n",
        "initial_W_py = np.zeros(X_train.shape[1])\n",
        "initial_b_py = 0.0\n",
        "W_py, b_py, cost_history_py = gradient_descent(X_train.tolist(), y_train.tolist(), initial_W_py.copy(), initial_b_py, learning_rate=0.01, num_iters=1000)"
      ],
      "metadata": {
        "colab": {
          "base_uri": "https://localhost:8080/"
        },
        "id": "ru1OIqmky8WL",
        "outputId": "a3f9439c-4055-4285-c066-2912a0106da0"
      },
      "execution_count": 8,
      "outputs": [
        {
          "output_type": "stream",
          "name": "stdout",
          "text": [
            "Iteration 0: Cost = 0.49456713967890215\n",
            "Iteration 100: Cost = 0.26600408763652267\n",
            "Iteration 200: Cost = 0.22753158882658697\n",
            "Iteration 300: Cost = 0.21676701386408145\n",
            "Iteration 400: Cost = 0.21102996959105766\n",
            "Iteration 500: Cost = 0.20675945102751417\n",
            "Iteration 600: Cost = 0.20326813621016254\n",
            "Iteration 700: Cost = 0.20034771246778263\n",
            "Iteration 800: Cost = 0.19788776953603723\n",
            "Iteration 900: Cost = 0.1958086970136762\n",
            "Iteration 999: Cost = 0.19406344207646242\n",
            "Pure Python Time Taken: 175.871535 seconds\n",
            "\n"
          ]
        }
      ]
    },
    {
      "cell_type": "markdown",
      "source": [
        "\n",
        "\n",
        "---\n",
        "\n",
        "\n",
        "\n",
        "\n",
        "\n",
        "> # NumPy Implementation\n",
        "\n",
        "\n",
        "\n"
      ],
      "metadata": {
        "id": "ACmKqoYG3X83"
      }
    },
    {
      "cell_type": "code",
      "source": [
        "#part 2\n",
        "#---------NUMPY IMPLEMENTATION-------------\n",
        "\n",
        "def predict_np(X, W, b):\n",
        "    return np.dot(X, W) + b\n",
        "\n",
        "\n",
        "def compute_cost_np(X, y, W, b):\n",
        "    m = len(y)  # no. of training examples\n",
        "    y_hat = predict_np(X, W, b)\n",
        "    cost = np.sum((y_hat - y) ** 2) / (2 * m)\n",
        "    return cost\n",
        "\n",
        "\n",
        "def compute_gradient_np(X, y, W, b):\n",
        "    m = len(y)\n",
        "    y_hat = predict_np(X, W, b)\n",
        "    error = y_hat - y\n",
        "\n",
        "    dW = np.dot(X.T, error) / m\n",
        "    db = np.sum(error) / m\n",
        "\n",
        "    return dW, db\n",
        "\n",
        "\n",
        "def gradient_descent_np(X, y, W, b, learning_rate, num_iters):\n",
        "    cost_history = []\n",
        "\n",
        "    start_time = time.time()  # measure start\n",
        "    for iter in range(num_iters):\n",
        "        dW, db = compute_gradient_np(X, y, W, b)\n",
        "\n",
        "        W -= learning_rate * dW\n",
        "        b -= learning_rate * db\n",
        "\n",
        "        cost = compute_cost_np(X, y, W, b)\n",
        "        cost_history.append(cost)\n",
        "\n",
        "        if iter % 100 == 0 or iter == num_iters - 1:\n",
        "            print(f\"Iteration {iter}: Cost = {cost}\")\n",
        "    end_time = time.time()  #measure end\n",
        "    print(f\"NumPy Time Taken: {end_time - start_time:.6f} seconds\\n\")\n",
        "\n",
        "    return W, b, cost_history\n",
        "\n"
      ],
      "metadata": {
        "id": "Q5N5sm6Oy_xT"
      },
      "execution_count": 9,
      "outputs": []
    },
    {
      "cell_type": "code",
      "source": [
        "# train NumPy on training set\n",
        "initial_W_np = np.zeros(X_train.shape[1])\n",
        "initial_b_np = 0.0\n",
        "W_np, b_np, cost_history_np = gradient_descent_np(X_train, y_train, initial_W_np.copy(), initial_b_np, learning_rate=0.01, num_iters=1000)"
      ],
      "metadata": {
        "colab": {
          "base_uri": "https://localhost:8080/"
        },
        "id": "h343zyTUzAB0",
        "outputId": "2d5e97b2-64d8-422c-bf18-8b53c23dd75c"
      },
      "execution_count": 10,
      "outputs": [
        {
          "output_type": "stream",
          "name": "stdout",
          "text": [
            "Iteration 0: Cost = 0.49456713967890276\n",
            "Iteration 100: Cost = 0.2660040876365226\n",
            "Iteration 200: Cost = 0.22753158882658747\n",
            "Iteration 300: Cost = 0.2167670138640816\n",
            "Iteration 400: Cost = 0.21102996959105907\n",
            "Iteration 500: Cost = 0.20675945102751486\n",
            "Iteration 600: Cost = 0.20326813621016268\n",
            "Iteration 700: Cost = 0.20034771246778402\n",
            "Iteration 800: Cost = 0.19788776953603748\n",
            "Iteration 900: Cost = 0.19580869701367618\n",
            "Iteration 999: Cost = 0.19406344207646203\n",
            "NumPy Time Taken: 0.279125 seconds\n",
            "\n"
          ]
        }
      ]
    },
    {
      "cell_type": "markdown",
      "source": [
        "\n",
        "\n",
        "---\n",
        "\n",
        "\n",
        "\n",
        "> #  Scikit Learn Implementation\n",
        "\n"
      ],
      "metadata": {
        "id": "A_TFsjHi3mnW"
      }
    },
    {
      "cell_type": "code",
      "source": [
        "#part 3\n",
        "#-------------SCIKIT LEARN IMPLEMENTATION-------\n",
        "\n",
        "model = LinearRegression()\n",
        "\n",
        "start_time = time.time()    #measure start\n",
        "model.fit(X_train, y_train)\n",
        "end_time = time.time()  # measure end\n",
        "\n",
        "y_train_pred_sk = model.predict(X_train)\n",
        "y_cv_pred_sk = model.predict(X_cv)\n",
        "\n",
        "mse_train_sk = mean_squared_error(y_train, y_train_pred_sk)\n",
        "mse_cv_sk = mean_squared_error(y_cv, y_cv_pred_sk)\n",
        "cost_train_sk = mse_train_sk/2\n",
        "cost_cv_sk = mse_cv_sk/2\n",
        "\n",
        "print(f\"Training Cost (MSE/2): {cost_train_sk}\")\n",
        "print(f\"Validation Cost (MSE/2): {cost_cv_sk}\")\n",
        "\n",
        "#Model parameters\n",
        "W = model.coef_    # weights vector\n",
        "b = model.intercept_  # bias term\n",
        "\n",
        "print(\"Weights (W):\", W)\n",
        "print(\"Bias (b):\", b)\n",
        "print(f\"Scikit-learn Time Taken: {end_time - start_time:.6f} seconds\\n\")"
      ],
      "metadata": {
        "colab": {
          "base_uri": "https://localhost:8080/"
        },
        "id": "_gLnDtBpzFqc",
        "outputId": "9403c997-43c8-4c8e-c06a-ba8e1cc0b50c"
      },
      "execution_count": 11,
      "outputs": [
        {
          "output_type": "stream",
          "name": "stdout",
          "text": [
            "Training Cost (MSE/2): 0.18324915763632302\n",
            "Validation Cost (MSE/2): 0.17782607407303816\n",
            "Weights (W): [-0.73117077 -0.77844103  0.12957153 -0.16240094  0.43119642 -0.34923427\n",
            "  0.12375407  0.66355483]\n",
            "Bias (b): 0.0013913221605172817\n",
            "Scikit-learn Time Taken: 0.063424 seconds\n",
            "\n"
          ]
        }
      ]
    },
    {
      "cell_type": "markdown",
      "source": [
        "\n",
        "\n",
        "---\n",
        "\n",
        "\n",
        "\n",
        "> # Visualization\n",
        "\n"
      ],
      "metadata": {
        "id": "X_Q37uy038qG"
      }
    },
    {
      "cell_type": "code",
      "source": [
        "# Cost Function Convergence Plot\n",
        "plt.figure()\n",
        "plt.plot(cost_history_py, label='Pure Python')\n",
        "plt.plot(cost_history_np, label='NumPy')\n",
        "plt.xlabel('Iteration')\n",
        "plt.ylabel('Cost')\n",
        "plt.title('Cost Function Convergence')\n",
        "plt.legend()\n",
        "plt.show()\n"
      ],
      "metadata": {
        "colab": {
          "base_uri": "https://localhost:8080/",
          "height": 472
        },
        "id": "r_g1sfO7zFs1",
        "outputId": "4e2bcefa-afb2-4181-dd8a-f8870a952451"
      },
      "execution_count": 12,
      "outputs": [
        {
          "output_type": "display_data",
          "data": {
            "text/plain": [
              "<Figure size 640x480 with 1 Axes>"
            ],
            "image/png": "[encoded data removed]"
          },
          "metadata": {}
        }
      ]
    },
    {
      "cell_type": "markdown",
      "source": [
        "\n",
        "\n",
        "\n",
        "\n",
        "> # Performance Metrics\n",
        "\n",
        "\n",
        "\n"
      ],
      "metadata": {
        "id": "b9ZOGXFj4HVt"
      }
    },
    {
      "cell_type": "code",
      "source": [
        "# ------------------- Performance Metrics -------------------\n",
        "# Pure Python metrics\n",
        "y_train_pred_py = predict(X_train.tolist(), W_py, b_py)\n",
        "y_cv_pred_py    = predict(X_cv.tolist(),    W_py, b_py)\n",
        "print(\"-- Pure Python --\")\n",
        "print(\"Train MAE:\", mean_absolute_error(y_train, y_train_pred_py))\n",
        "print(\"Train RMSE:\", math.sqrt(mean_squared_error(y_train, y_train_pred_py)))\n",
        "print(\"Train R2: \", r2_score(y_train, y_train_pred_py))\n",
        "print(\"CV MAE:\", mean_absolute_error(y_cv, y_cv_pred_py))\n",
        "print(\"CV RMSE:\", math.sqrt(mean_squared_error(y_cv, y_cv_pred_py)))\n",
        "print(\"CV R2: \", r2_score(y_cv, y_cv_pred_py), \"\\n\")\n",
        "\n",
        "# NumPy metrics\n",
        "y_train_pred_np = predict_np(X_train, W_np, b_np)\n",
        "y_cv_pred_np    = predict_np(X_cv,    W_np, b_np)\n",
        "print(\"-- NumPy --\")\n",
        "print(\"Train MAE:\", mean_absolute_error(y_train, y_train_pred_np))\n",
        "print(\"Train RMSE:\", math.sqrt(mean_squared_error(y_train, y_train_pred_np)))\n",
        "print(\"Train R2: \", r2_score(y_train, y_train_pred_np))\n",
        "print(\"CV MAE:\", mean_absolute_error(y_cv, y_cv_pred_np))\n",
        "print(\"CV RMSE:\", math.sqrt(mean_squared_error(y_cv, y_cv_pred_np)))\n",
        "print(\"CV R2: \", r2_score(y_cv, y_cv_pred_np), \"\\n\")\n",
        "\n",
        "# Scikit-learn metrics\n",
        "print(\"-- Scikit-learn --\")\n",
        "print(\"Train MAE:\", mean_absolute_error(y_train, y_train_pred_sk))\n",
        "print(\"Train RMSE:\", math.sqrt(mean_squared_error(y_train, y_train_pred_sk)))\n",
        "print(\"Train R2: \", r2_score(y_train, y_train_pred_sk))\n",
        "print(\"CV MAE:\", mean_absolute_error(y_cv, y_cv_pred_sk))\n",
        "print(\"CV RMSE:\", math.sqrt(mean_squared_error(y_cv, y_cv_pred_sk)))\n",
        "print(\"CV R2: \", r2_score(y_cv, y_cv_pred_sk))\n"
      ],
      "metadata": {
        "colab": {
          "base_uri": "https://localhost:8080/"
        },
        "id": "buvs0c9GVWxK",
        "outputId": "0bd381f3-bc63-4642-8363-7b267d4d25c9"
      },
      "execution_count": 15,
      "outputs": [
        {
          "output_type": "stream",
          "name": "stdout",
          "text": [
            "-- Pure Python --\n",
            "Train MAE: 0.45554290158339433\n",
            "Train RMSE: 0.6229983018860678\n",
            "Train R2:  0.6117787091814388\n",
            "CV MAE: 0.45616452681872216\n",
            "CV RMSE: 0.6184778446996979\n",
            "CV R2:  0.6176628088423946 \n",
            "\n",
            "-- NumPy --\n",
            "Train MAE: 0.45554290158339433\n",
            "Train RMSE: 0.6229983018860678\n",
            "Train R2:  0.6117787091814388\n",
            "CV MAE: 0.45616452681872216\n",
            "CV RMSE: 0.6184778446996979\n",
            "CV R2:  0.6176628088423946 \n",
            "\n",
            "-- Scikit-learn --\n",
            "Train MAE: 0.4413944064280527\n",
            "Train RMSE: 0.6053910432709143\n",
            "Train R2:  0.6334125389213838\n",
            "CV MAE: 0.43925904162368795\n",
            "CV RMSE: 0.5963657838492047\n",
            "CV R2:  0.6445130291082352\n"
          ]
        }
      ]
    },
    {
      "cell_type": "markdown",
      "source": [
        "\n",
        "\n",
        "> # Convergence Speed and final cost plot\n",
        "\n"
      ],
      "metadata": {
        "id": "u8NbNM5W4Q0i"
      }
    },
    {
      "cell_type": "code",
      "source": [
        "plt.figure(figsize=(10, 6))\n",
        "\n",
        "# Plotting cost history for Pure Python and NumPy\n",
        "plt.plot(cost_history_py, label='Pure Python')\n",
        "plt.plot(cost_history_np, label='NumPy')\n",
        "\n",
        "# Plotting horizontal lines for final costs of each method\n",
        "plt.axhline(y=cost_history_py[-1], color='blue', linestyle='--', linewidth=1, label='Final Cost Pure Python')\n",
        "plt.axhline(y=cost_history_np[-1], color='orange', linestyle='--', linewidth=1, label='Final Cost NumPy')\n",
        "plt.axhline(y=cost_train_sk, color='green', linestyle='--', linewidth=1, label='Final Cost Scikit-learn')\n",
        "\n",
        "plt.xlabel('Iteration')\n",
        "plt.ylabel('Cost')\n",
        "plt.title('Convergence Speeds and Final Costs Comparison')\n",
        "plt.legend()\n",
        "plt.grid(True)\n",
        "plt.show()"
      ],
      "metadata": {
        "colab": {
          "base_uri": "https://localhost:8080/",
          "height": 564
        },
        "id": "0BF-jBmg1-TH",
        "outputId": "fde0df22-06f2-4ae8-bc05-346f092ad30d"
      },
      "execution_count": 14,
      "outputs": [
        {
          "output_type": "display_data",
          "data": {
            "text/plain": [
              "<Figure size 1000x600 with 1 Axes>"
            ],
            "image/png": "[encoded data removed]"
          },
          "metadata": {}
        }
      ]
    },
    {
      "cell_type": "code",
      "source": [],
      "metadata": {
        "id": "umVw3vaLAjWI"
      },
      "execution_count": null,
      "outputs": []
    }
  ]
}